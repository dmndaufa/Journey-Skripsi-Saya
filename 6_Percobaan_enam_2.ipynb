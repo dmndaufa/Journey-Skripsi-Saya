{
  "nbformat": 4,
  "nbformat_minor": 0,
  "metadata": {
    "colab": {
      "provenance": []
    },
    "kernelspec": {
      "name": "python3",
      "display_name": "Python 3"
    },
    "language_info": {
      "name": "python"
    }
  },
  "cells": [
    {
      "cell_type": "markdown",
      "source": [
        "## COBA 8 KELAS ##"
      ],
      "metadata": {
        "id": "Y2O4CRn4rHSk"
      }
    },
    {
      "cell_type": "code",
      "source": [
        "%pip install boruta\n",
        "%pip install imblearn\n",
        "%pip install shap\n",
        "%pip install optuna\n",
        "%pip install optuna-integration[sklearn]\n",
        "\n",
        "!pip install lightgbm\n",
        "!pip install --upgrade imbalanced-learn"
      ],
      "metadata": {
        "colab": {
          "base_uri": "https://localhost:8080/"
        },
        "id": "plBU8ZjWYTGD",
        "outputId": "2ed34447-7e4a-464f-ede0-351f3d269097"
      },
      "execution_count": null,
      "outputs": [
        {
          "output_type": "stream",
          "name": "stdout",
          "text": [
            "Requirement already satisfied: boruta in /usr/local/lib/python3.12/dist-packages (0.4.3)\n",
            "Requirement already satisfied: numpy>=1.10.4 in /usr/local/lib/python3.12/dist-packages (from boruta) (2.0.2)\n",
            "Requirement already satisfied: scikit-learn>=0.17.1 in /usr/local/lib/python3.12/dist-packages (from boruta) (1.6.1)\n",
            "Requirement already satisfied: scipy>=0.17.0 in /usr/local/lib/python3.12/dist-packages (from boruta) (1.16.2)\n",
            "Requirement already satisfied: joblib>=1.2.0 in /usr/local/lib/python3.12/dist-packages (from scikit-learn>=0.17.1->boruta) (1.5.2)\n",
            "Requirement already satisfied: threadpoolctl>=3.1.0 in /usr/local/lib/python3.12/dist-packages (from scikit-learn>=0.17.1->boruta) (3.6.0)\n",
            "Requirement already satisfied: imblearn in /usr/local/lib/python3.12/dist-packages (0.0)\n",
            "Requirement already satisfied: imbalanced-learn in /usr/local/lib/python3.12/dist-packages (from imblearn) (0.14.0)\n",
            "Requirement already satisfied: numpy<3,>=1.25.2 in /usr/local/lib/python3.12/dist-packages (from imbalanced-learn->imblearn) (2.0.2)\n",
            "Requirement already satisfied: scipy<2,>=1.11.4 in /usr/local/lib/python3.12/dist-packages (from imbalanced-learn->imblearn) (1.16.2)\n",
            "Requirement already satisfied: scikit-learn<2,>=1.4.2 in /usr/local/lib/python3.12/dist-packages (from imbalanced-learn->imblearn) (1.6.1)\n",
            "Requirement already satisfied: joblib<2,>=1.2.0 in /usr/local/lib/python3.12/dist-packages (from imbalanced-learn->imblearn) (1.5.2)\n",
            "Requirement already satisfied: threadpoolctl<4,>=2.0.0 in /usr/local/lib/python3.12/dist-packages (from imbalanced-learn->imblearn) (3.6.0)\n",
            "Requirement already satisfied: shap in /usr/local/lib/python3.12/dist-packages (0.48.0)\n",
            "Requirement already satisfied: numpy in /usr/local/lib/python3.12/dist-packages (from shap) (2.0.2)\n",
            "Requirement already satisfied: scipy in /usr/local/lib/python3.12/dist-packages (from shap) (1.16.2)\n",
            "Requirement already satisfied: scikit-learn in /usr/local/lib/python3.12/dist-packages (from shap) (1.6.1)\n",
            "Requirement already satisfied: pandas in /usr/local/lib/python3.12/dist-packages (from shap) (2.2.2)\n",
            "Requirement already satisfied: tqdm>=4.27.0 in /usr/local/lib/python3.12/dist-packages (from shap) (4.67.1)\n",
            "Requirement already satisfied: packaging>20.9 in /usr/local/lib/python3.12/dist-packages (from shap) (25.0)\n",
            "Requirement already satisfied: slicer==0.0.8 in /usr/local/lib/python3.12/dist-packages (from shap) (0.0.8)\n",
            "Requirement already satisfied: numba>=0.54 in /usr/local/lib/python3.12/dist-packages (from shap) (0.60.0)\n",
            "Requirement already satisfied: cloudpickle in /usr/local/lib/python3.12/dist-packages (from shap) (3.1.1)\n",
            "Requirement already satisfied: typing-extensions in /usr/local/lib/python3.12/dist-packages (from shap) (4.15.0)\n",
            "Requirement already satisfied: llvmlite<0.44,>=0.43.0dev0 in /usr/local/lib/python3.12/dist-packages (from numba>=0.54->shap) (0.43.0)\n",
            "Requirement already satisfied: python-dateutil>=2.8.2 in /usr/local/lib/python3.12/dist-packages (from pandas->shap) (2.9.0.post0)\n",
            "Requirement already satisfied: pytz>=2020.1 in /usr/local/lib/python3.12/dist-packages (from pandas->shap) (2025.2)\n",
            "Requirement already satisfied: tzdata>=2022.7 in /usr/local/lib/python3.12/dist-packages (from pandas->shap) (2025.2)\n",
            "Requirement already satisfied: joblib>=1.2.0 in /usr/local/lib/python3.12/dist-packages (from scikit-learn->shap) (1.5.2)\n",
            "Requirement already satisfied: threadpoolctl>=3.1.0 in /usr/local/lib/python3.12/dist-packages (from scikit-learn->shap) (3.6.0)\n",
            "Requirement already satisfied: six>=1.5 in /usr/local/lib/python3.12/dist-packages (from python-dateutil>=2.8.2->pandas->shap) (1.17.0)\n",
            "Requirement already satisfied: optuna in /usr/local/lib/python3.12/dist-packages (4.5.0)\n",
            "Requirement already satisfied: alembic>=1.5.0 in /usr/local/lib/python3.12/dist-packages (from optuna) (1.16.5)\n",
            "Requirement already satisfied: colorlog in /usr/local/lib/python3.12/dist-packages (from optuna) (6.9.0)\n",
            "Requirement already satisfied: numpy in /usr/local/lib/python3.12/dist-packages (from optuna) (2.0.2)\n",
            "Requirement already satisfied: packaging>=20.0 in /usr/local/lib/python3.12/dist-packages (from optuna) (25.0)\n",
            "Requirement already satisfied: sqlalchemy>=1.4.2 in /usr/local/lib/python3.12/dist-packages (from optuna) (2.0.43)\n",
            "Requirement already satisfied: tqdm in /usr/local/lib/python3.12/dist-packages (from optuna) (4.67.1)\n",
            "Requirement already satisfied: PyYAML in /usr/local/lib/python3.12/dist-packages (from optuna) (6.0.3)\n",
            "Requirement already satisfied: Mako in /usr/local/lib/python3.12/dist-packages (from alembic>=1.5.0->optuna) (1.3.10)\n",
            "Requirement already satisfied: typing-extensions>=4.12 in /usr/local/lib/python3.12/dist-packages (from alembic>=1.5.0->optuna) (4.15.0)\n",
            "Requirement already satisfied: greenlet>=1 in /usr/local/lib/python3.12/dist-packages (from sqlalchemy>=1.4.2->optuna) (3.2.4)\n",
            "Requirement already satisfied: MarkupSafe>=0.9.2 in /usr/local/lib/python3.12/dist-packages (from Mako->alembic>=1.5.0->optuna) (3.0.3)\n",
            "Requirement already satisfied: optuna-integration[sklearn] in /usr/local/lib/python3.12/dist-packages (4.5.0)\n",
            "Requirement already satisfied: optuna in /usr/local/lib/python3.12/dist-packages (from optuna-integration[sklearn]) (4.5.0)\n",
            "Requirement already satisfied: pandas in /usr/local/lib/python3.12/dist-packages (from optuna-integration[sklearn]) (2.2.2)\n",
            "Requirement already satisfied: scikit-learn in /usr/local/lib/python3.12/dist-packages (from optuna-integration[sklearn]) (1.6.1)\n",
            "Requirement already satisfied: scipy in /usr/local/lib/python3.12/dist-packages (from optuna-integration[sklearn]) (1.16.2)\n",
            "Requirement already satisfied: alembic>=1.5.0 in /usr/local/lib/python3.12/dist-packages (from optuna->optuna-integration[sklearn]) (1.16.5)\n",
            "Requirement already satisfied: colorlog in /usr/local/lib/python3.12/dist-packages (from optuna->optuna-integration[sklearn]) (6.9.0)\n",
            "Requirement already satisfied: numpy in /usr/local/lib/python3.12/dist-packages (from optuna->optuna-integration[sklearn]) (2.0.2)\n",
            "Requirement already satisfied: packaging>=20.0 in /usr/local/lib/python3.12/dist-packages (from optuna->optuna-integration[sklearn]) (25.0)\n",
            "Requirement already satisfied: sqlalchemy>=1.4.2 in /usr/local/lib/python3.12/dist-packages (from optuna->optuna-integration[sklearn]) (2.0.43)\n",
            "Requirement already satisfied: tqdm in /usr/local/lib/python3.12/dist-packages (from optuna->optuna-integration[sklearn]) (4.67.1)\n",
            "Requirement already satisfied: PyYAML in /usr/local/lib/python3.12/dist-packages (from optuna->optuna-integration[sklearn]) (6.0.3)\n",
            "Requirement already satisfied: python-dateutil>=2.8.2 in /usr/local/lib/python3.12/dist-packages (from pandas->optuna-integration[sklearn]) (2.9.0.post0)\n",
            "Requirement already satisfied: pytz>=2020.1 in /usr/local/lib/python3.12/dist-packages (from pandas->optuna-integration[sklearn]) (2025.2)\n",
            "Requirement already satisfied: tzdata>=2022.7 in /usr/local/lib/python3.12/dist-packages (from pandas->optuna-integration[sklearn]) (2025.2)\n",
            "Requirement already satisfied: joblib>=1.2.0 in /usr/local/lib/python3.12/dist-packages (from scikit-learn->optuna-integration[sklearn]) (1.5.2)\n",
            "Requirement already satisfied: threadpoolctl>=3.1.0 in /usr/local/lib/python3.12/dist-packages (from scikit-learn->optuna-integration[sklearn]) (3.6.0)\n",
            "Requirement already satisfied: Mako in /usr/local/lib/python3.12/dist-packages (from alembic>=1.5.0->optuna->optuna-integration[sklearn]) (1.3.10)\n",
            "Requirement already satisfied: typing-extensions>=4.12 in /usr/local/lib/python3.12/dist-packages (from alembic>=1.5.0->optuna->optuna-integration[sklearn]) (4.15.0)\n",
            "Requirement already satisfied: six>=1.5 in /usr/local/lib/python3.12/dist-packages (from python-dateutil>=2.8.2->pandas->optuna-integration[sklearn]) (1.17.0)\n",
            "Requirement already satisfied: greenlet>=1 in /usr/local/lib/python3.12/dist-packages (from sqlalchemy>=1.4.2->optuna->optuna-integration[sklearn]) (3.2.4)\n",
            "Requirement already satisfied: MarkupSafe>=0.9.2 in /usr/local/lib/python3.12/dist-packages (from Mako->alembic>=1.5.0->optuna->optuna-integration[sklearn]) (3.0.3)\n",
            "Requirement already satisfied: lightgbm in /usr/local/lib/python3.12/dist-packages (4.6.0)\n",
            "Requirement already satisfied: numpy>=1.17.0 in /usr/local/lib/python3.12/dist-packages (from lightgbm) (2.0.2)\n",
            "Requirement already satisfied: scipy in /usr/local/lib/python3.12/dist-packages (from lightgbm) (1.16.2)\n",
            "Requirement already satisfied: imbalanced-learn in /usr/local/lib/python3.12/dist-packages (0.14.0)\n",
            "Requirement already satisfied: numpy<3,>=1.25.2 in /usr/local/lib/python3.12/dist-packages (from imbalanced-learn) (2.0.2)\n",
            "Requirement already satisfied: scipy<2,>=1.11.4 in /usr/local/lib/python3.12/dist-packages (from imbalanced-learn) (1.16.2)\n",
            "Requirement already satisfied: scikit-learn<2,>=1.4.2 in /usr/local/lib/python3.12/dist-packages (from imbalanced-learn) (1.6.1)\n",
            "Requirement already satisfied: joblib<2,>=1.2.0 in /usr/local/lib/python3.12/dist-packages (from imbalanced-learn) (1.5.2)\n",
            "Requirement already satisfied: threadpoolctl<4,>=2.0.0 in /usr/local/lib/python3.12/dist-packages (from imbalanced-learn) (3.6.0)\n"
          ]
        }
      ]
    },
    {
      "cell_type": "code",
      "execution_count": null,
      "metadata": {
        "id": "69p4vwpdSmUQ"
      },
      "outputs": [],
      "source": [
        "import numpy as np\n",
        "import pandas as pd\n",
        "import matplotlib.pyplot as plt\n",
        "import seaborn as sns\n",
        "import joblib\n",
        "import pickle\n",
        "import time\n",
        "import lightgbm as lgb\n",
        "import psutil\n",
        "import shap\n",
        "import gc  # Garbage collector untuk clear memory\n",
        "import optuna\n",
        "from optuna.integration import OptunaSearchCV\n",
        "\n",
        "from sklearn.preprocessing import LabelEncoder\n",
        "from sklearn.ensemble import RandomForestClassifier\n",
        "from sklearn.model_selection import train_test_split\n",
        "from sklearn.metrics import classification_report, confusion_matrix, accuracy_score, f1_score, precision_score, recall_score, roc_auc_score\n",
        "from sklearn.model_selection import StratifiedKFold\n",
        "import warnings\n",
        "warnings.filterwarnings('ignore')\n",
        "\n",
        "from imblearn.over_sampling import SMOTE\n",
        "from boruta import BorutaPy"
      ]
    },
    {
      "cell_type": "code",
      "source": [
        "from google.colab import drive\n",
        "drive.mount('/content/drive')"
      ],
      "metadata": {
        "id": "JYtD_vZUsuEC",
        "colab": {
          "base_uri": "https://localhost:8080/"
        },
        "outputId": "ecae4b71-7413-425a-e28d-4d39ab90adbd"
      },
      "execution_count": null,
      "outputs": [
        {
          "output_type": "stream",
          "name": "stdout",
          "text": [
            "Drive already mounted at /content/drive; to attempt to forcibly remount, call drive.mount(\"/content/drive\", force_remount=True).\n"
          ]
        }
      ]
    },
    {
      "cell_type": "markdown",
      "source": [
        "**BAGIAN 1: PREPROCESSING DATA**"
      ],
      "metadata": {
        "id": "lUzwXul7aUNS"
      }
    },
    {
      "cell_type": "code",
      "source": [
        "df = pd.read_csv('/content/drive/MyDrive/Dataset/merged_dataset_saya_setelah_rename.csv')"
      ],
      "metadata": {
        "id": "mIJfLq_Iaax6"
      },
      "execution_count": null,
      "outputs": []
    },
    {
      "cell_type": "markdown",
      "source": [
        "Cleaning Data"
      ],
      "metadata": {
        "id": "_QN3ozp_bi-q"
      }
    },
    {
      "cell_type": "code",
      "source": [
        "missing_values = df.isnull().sum()\n",
        "print(missing_values[missing_values > 0])  # hanya tampilkan kolom yang ada null-nya"
      ],
      "metadata": {
        "colab": {
          "base_uri": "https://localhost:8080/"
        },
        "id": "NwnPIVN1am05",
        "outputId": "e036b36f-a880-4e1c-c892-8c2ff4835a90"
      },
      "execution_count": null,
      "outputs": [
        {
          "output_type": "stream",
          "name": "stdout",
          "text": [
            "Std         25\n",
            "Variance    25\n",
            "dtype: int64\n"
          ]
        }
      ]
    },
    {
      "cell_type": "code",
      "source": [
        "df = df.dropna() #Hapus 25 baris"
      ],
      "metadata": {
        "id": "RmNGpwHsbeqa"
      },
      "execution_count": null,
      "outputs": []
    },
    {
      "cell_type": "markdown",
      "source": [
        "Cleaning Infinity & NaN"
      ],
      "metadata": {
        "id": "ogLIhtkRaMWv"
      }
    },
    {
      "cell_type": "code",
      "source": [
        "df = df.replace([np.inf, -np.inf], np.nan)\n",
        "\n",
        "for col in df.select_dtypes(include=[np.number]).columns:\n",
        "    if df[col].isnull().any():\n",
        "        median_val = df[col].median()\n",
        "        if pd.isna(median_val):\n",
        "            df[col].fillna(0, inplace=True)\n",
        "        else:\n",
        "            df[col].fillna(median_val, inplace=True)"
      ],
      "metadata": {
        "id": "xD1aJFyeaLp_"
      },
      "execution_count": null,
      "outputs": []
    },
    {
      "cell_type": "markdown",
      "source": [
        "Cek Duplicate Value"
      ],
      "metadata": {
        "id": "1Fw1jpq9b5K7"
      }
    },
    {
      "cell_type": "code",
      "source": [
        "num_duplicates = df.duplicated().sum()\n",
        "print(f\"Jumlah baris duplikat: {num_duplicates}\")"
      ],
      "metadata": {
        "colab": {
          "base_uri": "https://localhost:8080/"
        },
        "id": "6u_11sZrb37C",
        "outputId": "f7dd70f5-2a3b-4685-cf5d-562e9c52a455"
      },
      "execution_count": null,
      "outputs": [
        {
          "output_type": "stream",
          "name": "stdout",
          "text": [
            "Jumlah baris duplikat: 83381\n"
          ]
        }
      ]
    },
    {
      "cell_type": "code",
      "source": [
        "# Hapus semua baris yang identik/duplikat\n",
        "df = df.drop_duplicates()\n",
        "\n",
        "# Cek kembali bentuk data\n",
        "print(f\"Jumlah data setelah hapus duplikat: {df.shape}\")"
      ],
      "metadata": {
        "colab": {
          "base_uri": "https://localhost:8080/"
        },
        "id": "m-zqXicXcDlT",
        "outputId": "6a862eaa-b0b4-4db7-9daf-9ad212bbe676"
      },
      "execution_count": null,
      "outputs": [
        {
          "output_type": "stream",
          "name": "stdout",
          "text": [
            "Jumlah data setelah hapus duplikat: (744252, 41)\n"
          ]
        }
      ]
    },
    {
      "cell_type": "markdown",
      "source": [
        "Label Encoding"
      ],
      "metadata": {
        "id": "Gg_R2zXzcklj"
      }
    },
    {
      "cell_type": "code",
      "source": [
        "#Inisialisasi Encoder\n",
        "le = LabelEncoder()\n",
        "\n",
        "# Fit dan transform label\n",
        "df['Label_encoded'] = le.fit_transform(df['label'])"
      ],
      "metadata": {
        "id": "3OeLGqERcdhk"
      },
      "execution_count": null,
      "outputs": []
    },
    {
      "cell_type": "code",
      "source": [
        "# Display the first few rows of the dataframe with the new column\n",
        "display(df.head())"
      ],
      "metadata": {
        "colab": {
          "base_uri": "https://localhost:8080/",
          "height": 273
        },
        "id": "Sep5dqHHhAMf",
        "outputId": "54f6354b-f570-432c-e3ff-cf429ea6c10b"
      },
      "execution_count": null,
      "outputs": [
        {
          "output_type": "display_data",
          "data": {
            "text/plain": [
              "   Header_Length  Protocol Type  Time_To_Live          Rate  fin_flag_number  \\\n",
              "0           0.24             47         64.00   3988.838908              0.0   \n",
              "1           0.00             47         64.00   5156.508483              0.0   \n",
              "2           0.00             47         64.00   2756.635755              0.0   \n",
              "3           0.00             47         64.00  13734.704303              0.0   \n",
              "4           0.64             47         65.79   2448.342206              0.0   \n",
              "\n",
              "   syn_flag_number  rst_flag_number  psh_flag_number  ack_flag_number  \\\n",
              "0             0.00              0.0              0.0             0.00   \n",
              "1             0.00              0.0              0.0             0.00   \n",
              "2             0.00              0.0              0.0             0.00   \n",
              "3             0.00              0.0              0.0             0.00   \n",
              "4             0.01              0.0              0.0             0.01   \n",
              "\n",
              "   ece_flag_number  ...  Max     AVG        Std  Tot size       IAT  Number  \\\n",
              "0              0.0  ...  578  563.26  84.239991    563.26  0.000251     100   \n",
              "1              0.0  ...  578  573.20  48.000000    573.20  0.000195     100   \n",
              "2              0.0  ...  578  578.00   0.000000    578.00  0.000363     100   \n",
              "3              0.0  ...  578  578.00   0.000000    578.00  0.000074     100   \n",
              "4              0.0  ...  590  563.09  75.596763    563.09  0.000408     100   \n",
              "\n",
              "      Variance  category              label  Label_encoded  \n",
              "0  7096.376162     Mirai  Mirai_Greip_Flood             24  \n",
              "1  2304.000000     Mirai  Mirai_Greip_Flood             24  \n",
              "2     0.000000     Mirai  Mirai_Greip_Flood             24  \n",
              "3     0.000000     Mirai  Mirai_Greip_Flood             24  \n",
              "4  5714.870606     Mirai  Mirai_Greip_Flood             24  \n",
              "\n",
              "[5 rows x 42 columns]"
            ],
            "text/html": [
              "\n",
              "  <div id=\"df-b6548781-a57a-47ac-a791-69d7f64c6c92\" class=\"colab-df-container\">\n",
              "    <div>\n",
              "<style scoped>\n",
              "    .dataframe tbody tr th:only-of-type {\n",
              "        vertical-align: middle;\n",
              "    }\n",
              "\n",
              "    .dataframe tbody tr th {\n",
              "        vertical-align: top;\n",
              "    }\n",
              "\n",
              "    .dataframe thead th {\n",
              "        text-align: right;\n",
              "    }\n",
              "</style>\n",
              "<table border=\"1\" class=\"dataframe\">\n",
              "  <thead>\n",
              "    <tr style=\"text-align: right;\">\n",
              "      <th></th>\n",
              "      <th>Header_Length</th>\n",
              "      <th>Protocol Type</th>\n",
              "      <th>Time_To_Live</th>\n",
              "      <th>Rate</th>\n",
              "      <th>fin_flag_number</th>\n",
              "      <th>syn_flag_number</th>\n",
              "      <th>rst_flag_number</th>\n",
              "      <th>psh_flag_number</th>\n",
              "      <th>ack_flag_number</th>\n",
              "      <th>ece_flag_number</th>\n",
              "      <th>...</th>\n",
              "      <th>Max</th>\n",
              "      <th>AVG</th>\n",
              "      <th>Std</th>\n",
              "      <th>Tot size</th>\n",
              "      <th>IAT</th>\n",
              "      <th>Number</th>\n",
              "      <th>Variance</th>\n",
              "      <th>category</th>\n",
              "      <th>label</th>\n",
              "      <th>Label_encoded</th>\n",
              "    </tr>\n",
              "  </thead>\n",
              "  <tbody>\n",
              "    <tr>\n",
              "      <th>0</th>\n",
              "      <td>0.24</td>\n",
              "      <td>47</td>\n",
              "      <td>64.00</td>\n",
              "      <td>3988.838908</td>\n",
              "      <td>0.0</td>\n",
              "      <td>0.00</td>\n",
              "      <td>0.0</td>\n",
              "      <td>0.0</td>\n",
              "      <td>0.00</td>\n",
              "      <td>0.0</td>\n",
              "      <td>...</td>\n",
              "      <td>578</td>\n",
              "      <td>563.26</td>\n",
              "      <td>84.239991</td>\n",
              "      <td>563.26</td>\n",
              "      <td>0.000251</td>\n",
              "      <td>100</td>\n",
              "      <td>7096.376162</td>\n",
              "      <td>Mirai</td>\n",
              "      <td>Mirai_Greip_Flood</td>\n",
              "      <td>24</td>\n",
              "    </tr>\n",
              "    <tr>\n",
              "      <th>1</th>\n",
              "      <td>0.00</td>\n",
              "      <td>47</td>\n",
              "      <td>64.00</td>\n",
              "      <td>5156.508483</td>\n",
              "      <td>0.0</td>\n",
              "      <td>0.00</td>\n",
              "      <td>0.0</td>\n",
              "      <td>0.0</td>\n",
              "      <td>0.00</td>\n",
              "      <td>0.0</td>\n",
              "      <td>...</td>\n",
              "      <td>578</td>\n",
              "      <td>573.20</td>\n",
              "      <td>48.000000</td>\n",
              "      <td>573.20</td>\n",
              "      <td>0.000195</td>\n",
              "      <td>100</td>\n",
              "      <td>2304.000000</td>\n",
              "      <td>Mirai</td>\n",
              "      <td>Mirai_Greip_Flood</td>\n",
              "      <td>24</td>\n",
              "    </tr>\n",
              "    <tr>\n",
              "      <th>2</th>\n",
              "      <td>0.00</td>\n",
              "      <td>47</td>\n",
              "      <td>64.00</td>\n",
              "      <td>2756.635755</td>\n",
              "      <td>0.0</td>\n",
              "      <td>0.00</td>\n",
              "      <td>0.0</td>\n",
              "      <td>0.0</td>\n",
              "      <td>0.00</td>\n",
              "      <td>0.0</td>\n",
              "      <td>...</td>\n",
              "      <td>578</td>\n",
              "      <td>578.00</td>\n",
              "      <td>0.000000</td>\n",
              "      <td>578.00</td>\n",
              "      <td>0.000363</td>\n",
              "      <td>100</td>\n",
              "      <td>0.000000</td>\n",
              "      <td>Mirai</td>\n",
              "      <td>Mirai_Greip_Flood</td>\n",
              "      <td>24</td>\n",
              "    </tr>\n",
              "    <tr>\n",
              "      <th>3</th>\n",
              "      <td>0.00</td>\n",
              "      <td>47</td>\n",
              "      <td>64.00</td>\n",
              "      <td>13734.704303</td>\n",
              "      <td>0.0</td>\n",
              "      <td>0.00</td>\n",
              "      <td>0.0</td>\n",
              "      <td>0.0</td>\n",
              "      <td>0.00</td>\n",
              "      <td>0.0</td>\n",
              "      <td>...</td>\n",
              "      <td>578</td>\n",
              "      <td>578.00</td>\n",
              "      <td>0.000000</td>\n",
              "      <td>578.00</td>\n",
              "      <td>0.000074</td>\n",
              "      <td>100</td>\n",
              "      <td>0.000000</td>\n",
              "      <td>Mirai</td>\n",
              "      <td>Mirai_Greip_Flood</td>\n",
              "      <td>24</td>\n",
              "    </tr>\n",
              "    <tr>\n",
              "      <th>4</th>\n",
              "      <td>0.64</td>\n",
              "      <td>47</td>\n",
              "      <td>65.79</td>\n",
              "      <td>2448.342206</td>\n",
              "      <td>0.0</td>\n",
              "      <td>0.01</td>\n",
              "      <td>0.0</td>\n",
              "      <td>0.0</td>\n",
              "      <td>0.01</td>\n",
              "      <td>0.0</td>\n",
              "      <td>...</td>\n",
              "      <td>590</td>\n",
              "      <td>563.09</td>\n",
              "      <td>75.596763</td>\n",
              "      <td>563.09</td>\n",
              "      <td>0.000408</td>\n",
              "      <td>100</td>\n",
              "      <td>5714.870606</td>\n",
              "      <td>Mirai</td>\n",
              "      <td>Mirai_Greip_Flood</td>\n",
              "      <td>24</td>\n",
              "    </tr>\n",
              "  </tbody>\n",
              "</table>\n",
              "<p>5 rows × 42 columns</p>\n",
              "</div>\n",
              "    <div class=\"colab-df-buttons\">\n",
              "\n",
              "  <div class=\"colab-df-container\">\n",
              "    <button class=\"colab-df-convert\" onclick=\"convertToInteractive('df-b6548781-a57a-47ac-a791-69d7f64c6c92')\"\n",
              "            title=\"Convert this dataframe to an interactive table.\"\n",
              "            style=\"display:none;\">\n",
              "\n",
              "  <svg xmlns=\"http://www.w3.org/2000/svg\" height=\"24px\" viewBox=\"0 -960 960 960\">\n",
              "    <path d=\"M120-120v-720h720v720H120Zm60-500h600v-160H180v160Zm220 220h160v-160H400v160Zm0 220h160v-160H400v160ZM180-400h160v-160H180v160Zm440 0h160v-160H620v160ZM180-180h160v-160H180v160Zm440 0h160v-160H620v160Z\"/>\n",
              "  </svg>\n",
              "    </button>\n",
              "\n",
              "  <style>\n",
              "    .colab-df-container {\n",
              "      display:flex;\n",
              "      gap: 12px;\n",
              "    }\n",
              "\n",
              "    .colab-df-convert {\n",
              "      background-color: #E8F0FE;\n",
              "      border: none;\n",
              "      border-radius: 50%;\n",
              "      cursor: pointer;\n",
              "      display: none;\n",
              "      fill: #1967D2;\n",
              "      height: 32px;\n",
              "      padding: 0 0 0 0;\n",
              "      width: 32px;\n",
              "    }\n",
              "\n",
              "    .colab-df-convert:hover {\n",
              "      background-color: #E2EBFA;\n",
              "      box-shadow: 0px 1px 2px rgba(60, 64, 67, 0.3), 0px 1px 3px 1px rgba(60, 64, 67, 0.15);\n",
              "      fill: #174EA6;\n",
              "    }\n",
              "\n",
              "    .colab-df-buttons div {\n",
              "      margin-bottom: 4px;\n",
              "    }\n",
              "\n",
              "    [theme=dark] .colab-df-convert {\n",
              "      background-color: #3B4455;\n",
              "      fill: #D2E3FC;\n",
              "    }\n",
              "\n",
              "    [theme=dark] .colab-df-convert:hover {\n",
              "      background-color: #434B5C;\n",
              "      box-shadow: 0px 1px 3px 1px rgba(0, 0, 0, 0.15);\n",
              "      filter: drop-shadow(0px 1px 2px rgba(0, 0, 0, 0.3));\n",
              "      fill: #FFFFFF;\n",
              "    }\n",
              "  </style>\n",
              "\n",
              "    <script>\n",
              "      const buttonEl =\n",
              "        document.querySelector('#df-b6548781-a57a-47ac-a791-69d7f64c6c92 button.colab-df-convert');\n",
              "      buttonEl.style.display =\n",
              "        google.colab.kernel.accessAllowed ? 'block' : 'none';\n",
              "\n",
              "      async function convertToInteractive(key) {\n",
              "        const element = document.querySelector('#df-b6548781-a57a-47ac-a791-69d7f64c6c92');\n",
              "        const dataTable =\n",
              "          await google.colab.kernel.invokeFunction('convertToInteractive',\n",
              "                                                    [key], {});\n",
              "        if (!dataTable) return;\n",
              "\n",
              "        const docLinkHtml = 'Like what you see? Visit the ' +\n",
              "          '<a target=\"_blank\" href=https://colab.research.google.com/notebooks/data_table.ipynb>data table notebook</a>'\n",
              "          + ' to learn more about interactive tables.';\n",
              "        element.innerHTML = '';\n",
              "        dataTable['output_type'] = 'display_data';\n",
              "        await google.colab.output.renderOutput(dataTable, element);\n",
              "        const docLink = document.createElement('div');\n",
              "        docLink.innerHTML = docLinkHtml;\n",
              "        element.appendChild(docLink);\n",
              "      }\n",
              "    </script>\n",
              "  </div>\n",
              "\n",
              "\n",
              "    <div id=\"df-fc138ee2-a5e7-46b3-9379-f53560134b08\">\n",
              "      <button class=\"colab-df-quickchart\" onclick=\"quickchart('df-fc138ee2-a5e7-46b3-9379-f53560134b08')\"\n",
              "                title=\"Suggest charts\"\n",
              "                style=\"display:none;\">\n",
              "\n",
              "<svg xmlns=\"http://www.w3.org/2000/svg\" height=\"24px\"viewBox=\"0 0 24 24\"\n",
              "     width=\"24px\">\n",
              "    <g>\n",
              "        <path d=\"M19 3H5c-1.1 0-2 .9-2 2v14c0 1.1.9 2 2 2h14c1.1 0 2-.9 2-2V5c0-1.1-.9-2-2-2zM9 17H7v-7h2v7zm4 0h-2V7h2v10zm4 0h-2v-4h2v4z\"/>\n",
              "    </g>\n",
              "</svg>\n",
              "      </button>\n",
              "\n",
              "<style>\n",
              "  .colab-df-quickchart {\n",
              "      --bg-color: #E8F0FE;\n",
              "      --fill-color: #1967D2;\n",
              "      --hover-bg-color: #E2EBFA;\n",
              "      --hover-fill-color: #174EA6;\n",
              "      --disabled-fill-color: #AAA;\n",
              "      --disabled-bg-color: #DDD;\n",
              "  }\n",
              "\n",
              "  [theme=dark] .colab-df-quickchart {\n",
              "      --bg-color: #3B4455;\n",
              "      --fill-color: #D2E3FC;\n",
              "      --hover-bg-color: #434B5C;\n",
              "      --hover-fill-color: #FFFFFF;\n",
              "      --disabled-bg-color: #3B4455;\n",
              "      --disabled-fill-color: #666;\n",
              "  }\n",
              "\n",
              "  .colab-df-quickchart {\n",
              "    background-color: var(--bg-color);\n",
              "    border: none;\n",
              "    border-radius: 50%;\n",
              "    cursor: pointer;\n",
              "    display: none;\n",
              "    fill: var(--fill-color);\n",
              "    height: 32px;\n",
              "    padding: 0;\n",
              "    width: 32px;\n",
              "  }\n",
              "\n",
              "  .colab-df-quickchart:hover {\n",
              "    background-color: var(--hover-bg-color);\n",
              "    box-shadow: 0 1px 2px rgba(60, 64, 67, 0.3), 0 1px 3px 1px rgba(60, 64, 67, 0.15);\n",
              "    fill: var(--button-hover-fill-color);\n",
              "  }\n",
              "\n",
              "  .colab-df-quickchart-complete:disabled,\n",
              "  .colab-df-quickchart-complete:disabled:hover {\n",
              "    background-color: var(--disabled-bg-color);\n",
              "    fill: var(--disabled-fill-color);\n",
              "    box-shadow: none;\n",
              "  }\n",
              "\n",
              "  .colab-df-spinner {\n",
              "    border: 2px solid var(--fill-color);\n",
              "    border-color: transparent;\n",
              "    border-bottom-color: var(--fill-color);\n",
              "    animation:\n",
              "      spin 1s steps(1) infinite;\n",
              "  }\n",
              "\n",
              "  @keyframes spin {\n",
              "    0% {\n",
              "      border-color: transparent;\n",
              "      border-bottom-color: var(--fill-color);\n",
              "      border-left-color: var(--fill-color);\n",
              "    }\n",
              "    20% {\n",
              "      border-color: transparent;\n",
              "      border-left-color: var(--fill-color);\n",
              "      border-top-color: var(--fill-color);\n",
              "    }\n",
              "    30% {\n",
              "      border-color: transparent;\n",
              "      border-left-color: var(--fill-color);\n",
              "      border-top-color: var(--fill-color);\n",
              "      border-right-color: var(--fill-color);\n",
              "    }\n",
              "    40% {\n",
              "      border-color: transparent;\n",
              "      border-right-color: var(--fill-color);\n",
              "      border-top-color: var(--fill-color);\n",
              "    }\n",
              "    60% {\n",
              "      border-color: transparent;\n",
              "      border-right-color: var(--fill-color);\n",
              "    }\n",
              "    80% {\n",
              "      border-color: transparent;\n",
              "      border-right-color: var(--fill-color);\n",
              "      border-bottom-color: var(--fill-color);\n",
              "    }\n",
              "    90% {\n",
              "      border-color: transparent;\n",
              "      border-bottom-color: var(--fill-color);\n",
              "    }\n",
              "  }\n",
              "</style>\n",
              "\n",
              "      <script>\n",
              "        async function quickchart(key) {\n",
              "          const quickchartButtonEl =\n",
              "            document.querySelector('#' + key + ' button');\n",
              "          quickchartButtonEl.disabled = true;  // To prevent multiple clicks.\n",
              "          quickchartButtonEl.classList.add('colab-df-spinner');\n",
              "          try {\n",
              "            const charts = await google.colab.kernel.invokeFunction(\n",
              "                'suggestCharts', [key], {});\n",
              "          } catch (error) {\n",
              "            console.error('Error during call to suggestCharts:', error);\n",
              "          }\n",
              "          quickchartButtonEl.classList.remove('colab-df-spinner');\n",
              "          quickchartButtonEl.classList.add('colab-df-quickchart-complete');\n",
              "        }\n",
              "        (() => {\n",
              "          let quickchartButtonEl =\n",
              "            document.querySelector('#df-fc138ee2-a5e7-46b3-9379-f53560134b08 button');\n",
              "          quickchartButtonEl.style.display =\n",
              "            google.colab.kernel.accessAllowed ? 'block' : 'none';\n",
              "        })();\n",
              "      </script>\n",
              "    </div>\n",
              "\n",
              "    </div>\n",
              "  </div>\n"
            ],
            "application/vnd.google.colaboratory.intrinsic+json": {
              "type": "dataframe"
            }
          },
          "metadata": {}
        }
      ]
    },
    {
      "cell_type": "code",
      "source": [
        "label_mapping = dict(zip(le.classes_, le.transform(le.classes_)))\n",
        "print(\"Mapping Label -> Angka:\")\n",
        "for label, encoded in label_mapping.items():\n",
        "    print(f\"{label} -> {encoded}\")"
      ],
      "metadata": {
        "colab": {
          "base_uri": "https://localhost:8080/"
        },
        "id": "gVsqY8FGeJQ1",
        "outputId": "4fce7fd5-39ae-4ffd-a6da-ce956b38ebd9"
      },
      "execution_count": null,
      "outputs": [
        {
          "output_type": "stream",
          "name": "stdout",
          "text": [
            "Mapping Label -> Angka:\n",
            "Backdoor_Malware -> 0\n",
            "Benign_Traffic -> 1\n",
            "Browser_Hijacking -> 2\n",
            "Command_Injection -> 3\n",
            "DDoS_ACK_Fragmentation -> 4\n",
            "DDoS_HTTP_Flood -> 5\n",
            "DDoS_ICMP_Flood -> 6\n",
            "DDoS_ICMP_Fragmentation -> 7\n",
            "DDoS_PSHACK_Flood -> 8\n",
            "DDoS_RSTFIN_Flood -> 9\n",
            "DDoS_SYN_Flood -> 10\n",
            "DDoS_SlowLoris -> 11\n",
            "DDoS_SynonymousIP_Flood -> 12\n",
            "DDoS_TCP_Flood -> 13\n",
            "DDoS_UDP_Flood -> 14\n",
            "DDoS_UDP_Fragmentation -> 15\n",
            "DNS_Spoofing -> 16\n",
            "Dictionary_Brute_Force -> 17\n",
            "DoS_HTTP_Flood -> 18\n",
            "DoS_SYN_Flood -> 19\n",
            "DoS_TCP_Flood -> 20\n",
            "DoS_UDP_Flood -> 21\n",
            "MITM_Arp_Spoofing -> 22\n",
            "Mirai_Greeth_Flood -> 23\n",
            "Mirai_Greip_Flood -> 24\n",
            "Mirai_UDPPlain -> 25\n",
            "Recon_Host_Discovery -> 26\n",
            "Recon_OSScan -> 27\n",
            "Recon_Ping_Sweep -> 28\n",
            "Recon_Port_Scan -> 29\n",
            "Recon_Vulnerability_Scan -> 30\n",
            "SQL_Injection -> 31\n",
            "Uploading_Attack -> 32\n",
            "XSS -> 33\n"
          ]
        }
      ]
    },
    {
      "cell_type": "code",
      "source": [
        "# 1. Definisikan pemetaan dari 34 kelas ke 8 kategori\n",
        "mapping_kategori = {\n",
        "    # Benign\n",
        "    'Benign_Traffic': 'Benign',\n",
        "\n",
        "    # DDoS\n",
        "    'DDoS_ACK_Fragmentation': 'DDoS',\n",
        "    'DDoS_UDP_Flood': 'DDoS',\n",
        "    'DDoS_SlowLoris': 'DDoS',\n",
        "    'DDoS_ICMP_Flood': 'DDoS',\n",
        "    'DDoS_RSTFIN_Flood': 'DDoS',\n",
        "    'DDoS_PSHACK_Flood': 'DDoS',\n",
        "    'DDoS_HTTP_Flood': 'DDoS',\n",
        "    'DDoS_UDP_Fragmentation': 'DDoS',\n",
        "    'DDoS_TCP_Flood': 'DDoS',\n",
        "    'DDoS_SYN_Flood': 'DDoS',\n",
        "    'DDoS_SynonymousIP_Flood': 'DDoS',\n",
        "    'DDoS_ICMP_Fragmentation': 'DDoS',\n",
        "\n",
        "    # Brute Force\n",
        "    'Dictionary_Brute_Force': 'Brute Force',\n",
        "\n",
        "    # Spoofing\n",
        "    'MITM_Arp_Spoofing': 'Spoofing',\n",
        "    'DNS_Spoofing': 'Spoofing',\n",
        "\n",
        "    # DoS\n",
        "    'DoS_TCP_Flood': 'DoS',\n",
        "    'DoS_HTTP_Flood': 'DoS',\n",
        "    'DoS_SYN_Flood': 'DoS',\n",
        "    'DoS_UDP_Flood': 'DoS',\n",
        "\n",
        "    # Recon\n",
        "    'Recon_Ping_Sweep': 'Recon',\n",
        "    'Recon_OSScan': 'Recon',\n",
        "    'Recon_Vulnerability_Scan': 'Recon',\n",
        "    'Recon_Port_Scan': 'Recon',\n",
        "    'Recon_Host_Discovery': 'Recon',\n",
        "\n",
        "    # Web-based\n",
        "    'SQL_Injection': 'Web-Based',\n",
        "    'Command_Injection': 'Web-Based',\n",
        "    'Backdoor_Malware': 'Web-Based',\n",
        "    'Uploading_Attack': 'Web-Based',\n",
        "    'XSS': 'Web-Based',\n",
        "    'Browser_Hijacking': 'Web-Based',\n",
        "\n",
        "    # Mirai\n",
        "    'Mirai_Greip_Flood': 'Mirai',\n",
        "    'Mirai_Greeth_Flood': 'Mirai',\n",
        "    'Mirai_UDPPlain': 'Mirai'\n",
        "}\n",
        "\n",
        "# 2. Buat kolom baru di DataFrame menggunakan pemetaan ini\n",
        "df['category_8_class'] = df['label'].map(mapping_kategori)\n",
        "\n",
        "# 3. (Opsional tapi sangat disarankan) Verifikasi hasilnya\n",
        "print(\"Distribusi 8 Kategori Baru:\")\n",
        "print(df['category_8_class'].value_counts())"
      ],
      "metadata": {
        "id": "wpczt8jLrh5S",
        "colab": {
          "base_uri": "https://localhost:8080/"
        },
        "outputId": "fbaa5fc2-4593-418f-f62e-c2e93834133a"
      },
      "execution_count": null,
      "outputs": [
        {
          "output_type": "stream",
          "name": "stdout",
          "text": [
            "Distribusi 8 Kategori Baru:\n",
            "category_8_class\n",
            "DDoS           296754\n",
            "Recon          137094\n",
            "DoS            114146\n",
            "Spoofing        63790\n",
            "Mirai           60686\n",
            "Benign          33987\n",
            "Web-Based       24733\n",
            "Brute Force     13062\n",
            "Name: count, dtype: int64\n"
          ]
        }
      ]
    },
    {
      "cell_type": "markdown",
      "source": [
        "Memisahkan Fitur & Label"
      ],
      "metadata": {
        "id": "HNKiG63OthJB"
      }
    },
    {
      "cell_type": "code",
      "source": [
        "X = df.drop([\"label\", \"category\", \"Label_encoded\", \"category_8_class\"], axis=1)\n",
        "y = df[\"category_8_class\"]"
      ],
      "metadata": {
        "id": "xjFx9Y_KthJB"
      },
      "execution_count": null,
      "outputs": []
    },
    {
      "cell_type": "markdown",
      "source": [
        "Split Data"
      ],
      "metadata": {
        "id": "tB72Pqj-HCKJ"
      }
    },
    {
      "cell_type": "code",
      "source": [
        "# Split 1: Train vs (Val+Test) - 70% vs 30%\n",
        "X_train, X_temp, y_train, y_temp = train_test_split(\n",
        "    X, y,\n",
        "    test_size=0.3,      # 30% untuk val+test\n",
        "    stratify=y,         # Stratified untuk jaga proporsi kelas dan PENTING untuk imbalanced data\n",
        "    random_state=42\n",
        ")\n",
        "\n",
        "# Split 2: Val vs Test - 15% vs 15%\n",
        "X_val, X_test, y_val, y_test = train_test_split(\n",
        "    X_temp, y_temp,\n",
        "    test_size=0.5,      # 50% dari 30% = 15% dari total\n",
        "    stratify=y_temp,\n",
        "    random_state=42\n",
        ")\n",
        "\n",
        "print(f\" Data split complete!\")\n",
        "print(f\"   Train: {X_train.shape[0]:,} samples\")\n",
        "print(f\"   Val:   {X_val.shape[0]:,} samples\")\n",
        "print(f\"   Test:  {X_test.shape[0]:,} samples\")"
      ],
      "metadata": {
        "colab": {
          "base_uri": "https://localhost:8080/"
        },
        "id": "HcvPGMhFHR78",
        "outputId": "69c09f51-4e19-45a2-8ff9-f129fad965ae"
      },
      "execution_count": null,
      "outputs": [
        {
          "output_type": "stream",
          "name": "stdout",
          "text": [
            " Data split complete!\n",
            "   Train: 520,976 samples\n",
            "   Val:   111,638 samples\n",
            "   Test:  111,638 samples\n"
          ]
        }
      ]
    },
    {
      "cell_type": "markdown",
      "source": [
        "Seleksi Fitur Tahap Awal"
      ],
      "metadata": {
        "id": "E4pzcorjH0Jq"
      }
    },
    {
      "cell_type": "code",
      "source": [
        "# Cek fitur dengan 1 nilai unik\n",
        "constant_columns = [col for col in X_train.columns if X_train[col].nunique() == 1]\n",
        "print(\"Fitur konstan:\", constant_columns)"
      ],
      "metadata": {
        "colab": {
          "base_uri": "https://localhost:8080/"
        },
        "id": "6xMvqU0xLue8",
        "outputId": "41687ad4-a9e5-49a4-a380-5233f954baf6"
      },
      "execution_count": null,
      "outputs": [
        {
          "output_type": "stream",
          "name": "stdout",
          "text": [
            "Fitur konstan: []\n"
          ]
        }
      ]
    },
    {
      "cell_type": "code",
      "source": [
        "# Hapus jika ada dari semua set data\n",
        "if constant_columns:\n",
        "    X_train.drop(columns=constant_columns, inplace=True)\n",
        "    print(f\"Fitur konstan {constant_columns} dihapus dari X_train_res.\")\n",
        "else:\n",
        "    print(\"Tidak ada fitur konstan yang ditemukan.\")"
      ],
      "metadata": {
        "colab": {
          "base_uri": "https://localhost:8080/"
        },
        "id": "VuPCvN3-Lw_8",
        "outputId": "cb93075e-f2d5-40b9-83df-c0f1c0f90bc5"
      },
      "execution_count": null,
      "outputs": [
        {
          "output_type": "stream",
          "name": "stdout",
          "text": [
            "Tidak ada fitur konstan yang ditemukan.\n"
          ]
        }
      ]
    },
    {
      "cell_type": "code",
      "source": [
        "# Hitung korelasi\n",
        "corr_matrix = X_train.corr().abs()\n",
        "\n",
        "# Ambil korelasi di atas threshold (misal 0.98)\n",
        "upper = corr_matrix.where(np.triu(np.ones(corr_matrix.shape), k=1).astype(bool))\n",
        "to_drop = [column for column in upper.columns if any(upper[column] > 0.98)]\n",
        "\n",
        "print(\"Fitur berkorelasi tinggi:\", to_drop)"
      ],
      "metadata": {
        "colab": {
          "base_uri": "https://localhost:8080/"
        },
        "id": "Y5nbjq75Lzdj",
        "outputId": "1eb136b9-f860-42eb-be30-11365f7728be"
      },
      "execution_count": null,
      "outputs": [
        {
          "output_type": "stream",
          "name": "stdout",
          "text": [
            "Fitur berkorelasi tinggi: ['fin_count', 'IPv', 'LLC', 'Tot size']\n"
          ]
        }
      ]
    },
    {
      "cell_type": "code",
      "source": [
        "# Visualisasi Heatmap\n",
        "plt.figure(figsize=(16, 14))\n",
        "sns.heatmap(\n",
        "    corr_matrix,\n",
        "    annot=False,  # Set True jika fitur sedikit (<20)\n",
        "    cmap='coolwarm',\n",
        "    center=0,\n",
        "    vmin=0,\n",
        "    vmax=1,\n",
        "    square=True,\n",
        "    linewidths=0.5,\n",
        "    cbar_kws={\"shrink\": 0.8}\n",
        ")\n",
        "plt.title('Feature Correlation Matrix', fontsize=16, fontweight='bold', pad=20)\n",
        "plt.tight_layout()\n",
        "plt.savefig('correlation_heatmap.png', dpi=150, bbox_inches='tight')\n",
        "plt.show()"
      ],
      "metadata": {
        "colab": {
          "base_uri": "https://localhost:8080/",
          "height": 566
        },
        "id": "R-rKZC3FMcK9",
        "outputId": "4a01cb82-bdc6-4732-ec15-e88b890c80e6"
      },
      "execution_count": null,
      "outputs": [
        {
          "output_type": "display_data",
          "data": {
            "text/plain": [
              "<Figure size 1600x1400 with 2 Axes>"
            ],
            "image/png": "[encoded data removed]"
          },
          "metadata": {}
        }
      ]
    },
    {
      "cell_type": "code",
      "source": [
        "# Find High Correlation Pairs\n",
        "def find_high_correlation_pairs(corr_matrix, threshold=0.95):\n",
        "    \"\"\"\n",
        "    Menemukan pasangan fitur dengan korelasi tinggi\n",
        "    \"\"\"\n",
        "    # Ambil upper triangle (avoid duplicates)\n",
        "    upper_tri = corr_matrix.where(\n",
        "        np.triu(np.ones(corr_matrix.shape), k=1).astype(bool)\n",
        "    )\n",
        "\n",
        "    # Find pairs above threshold\n",
        "    high_corr_pairs = []\n",
        "\n",
        "    for column in upper_tri.columns:\n",
        "        high_corr_features = upper_tri[column][upper_tri[column] > threshold]\n",
        "\n",
        "        for feature, corr_value in high_corr_features.items():\n",
        "            high_corr_pairs.append({\n",
        "                'Feature_1': column,\n",
        "                'Feature_2': feature,\n",
        "                'Correlation': corr_value\n",
        "            })\n",
        "\n",
        "    # Convert to DataFrame and sort\n",
        "    df_pairs = pd.DataFrame(high_corr_pairs).sort_values(\n",
        "        'Correlation', ascending=False\n",
        "    )\n",
        "\n",
        "    return df_pairs"
      ],
      "metadata": {
        "id": "t9yIVDFqNXzm"
      },
      "execution_count": null,
      "outputs": []
    },
    {
      "cell_type": "code",
      "source": [
        "# Cari pasangan dengan korelasi > 0.95\n",
        "threshold = 0.95\n",
        "high_corr_df = find_high_correlation_pairs(corr_matrix, threshold)\n",
        "\n",
        "print(f\"HIGH CORRELATION PAIRS (threshold > {threshold})\")\n",
        "\n",
        "if len(high_corr_df) > 0:\n",
        "    print(f\"\\n Found {len(high_corr_df)} pairs with correlation > {threshold}:\\n\")\n",
        "    print(high_corr_df.to_string(index=False))\n",
        "\n",
        "    # Summary statistics\n",
        "    print(f\"\\n Correlation Statistics:\")\n",
        "    print(f\"   Highest correlation: {high_corr_df['Correlation'].max():.4f}\")\n",
        "    print(f\"   Average correlation: {high_corr_df['Correlation'].mean():.4f}\")\n",
        "    print(f\"   Lowest (above threshold): {high_corr_df['Correlation'].min():.4f}\")\n",
        "else:\n",
        "    print(f\"\\n No pairs found with correlation > {threshold}\")"
      ],
      "metadata": {
        "colab": {
          "base_uri": "https://localhost:8080/"
        },
        "id": "jbPYmoF2NgWm",
        "outputId": "45bd2d0e-44c0-427d-ec09-4a413cfc21ad"
      },
      "execution_count": null,
      "outputs": [
        {
          "output_type": "stream",
          "name": "stdout",
          "text": [
            "HIGH CORRELATION PAIRS (threshold > 0.95)\n",
            "\n",
            " Found 5 pairs with correlation > 0.95:\n",
            "\n",
            "Feature_1       Feature_2  Correlation\n",
            "      IPv             ARP     1.000000\n",
            "      LLC             ARP     1.000000\n",
            "      LLC             IPv     1.000000\n",
            " Tot size             AVG     1.000000\n",
            "fin_count fin_flag_number     0.982054\n",
            "\n",
            " Correlation Statistics:\n",
            "   Highest correlation: 1.0000\n",
            "   Average correlation: 0.9964\n",
            "   Lowest (above threshold): 0.9821\n"
          ]
        }
      ]
    },
    {
      "cell_type": "code",
      "source": [
        "print(f\" Menghapus {len(to_drop)} Fitur Mirip/Korelasi Tinggi\")\n",
        "\n",
        "X_train = X_train.drop(columns=to_drop)\n",
        "X_val = X_val.drop(columns=to_drop)\n",
        "X_test = X_test.drop(columns=to_drop)"
      ],
      "metadata": {
        "colab": {
          "base_uri": "https://localhost:8080/"
        },
        "id": "va8FYMAeIamj",
        "outputId": "4219ec40-a4a9-4c7f-f12c-ba7f312e87cc"
      },
      "execution_count": null,
      "outputs": [
        {
          "output_type": "stream",
          "name": "stdout",
          "text": [
            " Menghapus 4 Fitur Mirip/Korelasi Tinggi\n"
          ]
        }
      ]
    },
    {
      "cell_type": "code",
      "source": [
        "if to_drop:\n",
        "    print(f\" Dropped {len(to_drop)} features\")\n",
        "    print(f\" Remaining features: {X_train.shape[1]}\")\n",
        "else:\n",
        "    print(\"\\n No highly correlated features found\")"
      ],
      "metadata": {
        "colab": {
          "base_uri": "https://localhost:8080/"
        },
        "id": "acj0hrNlQdhg",
        "outputId": "c6ede31b-79f9-4969-c50e-ebe4579f7e2f"
      },
      "execution_count": null,
      "outputs": [
        {
          "output_type": "stream",
          "name": "stdout",
          "text": [
            " Dropped 4 features\n",
            " Remaining features: 35\n"
          ]
        }
      ]
    },
    {
      "cell_type": "markdown",
      "source": [
        "Cleaning infinity & NaN Lagi"
      ],
      "metadata": {
        "id": "2hqE9dtJbJwA"
      }
    },
    {
      "cell_type": "code",
      "source": [
        "print(\"Final cleaning before Boruta...\")\n",
        "X_train = X_train.replace([np.inf, -np.inf], np.nan)\n",
        "X_val = X_val.replace([np.inf, -np.inf], np.nan)\n",
        "X_test = X_test.replace([np.inf, -np.inf], np.nan)\n",
        "\n",
        "for col in X_train.columns:\n",
        "    if X_train[col].isnull().any():\n",
        "        median_val = X_train[col].median()\n",
        "        if pd.isna(median_val):\n",
        "            X_train[col].fillna(0, inplace=True)\n",
        "            X_val[col].fillna(0, inplace=True)\n",
        "            X_test[col].fillna(0, inplace=True)\n",
        "        else:\n",
        "            X_train[col].fillna(median_val, inplace=True)\n",
        "            X_val[col].fillna(median_val, inplace=True)\n",
        "            X_test[col].fillna(median_val, inplace=True)"
      ],
      "metadata": {
        "colab": {
          "base_uri": "https://localhost:8080/"
        },
        "id": "u1xVV1nFbaqz",
        "outputId": "ce1659c4-cf6e-4ee3-b084-3a9982f8f21f"
      },
      "execution_count": null,
      "outputs": [
        {
          "output_type": "stream",
          "name": "stdout",
          "text": [
            "Final cleaning before Boruta...\n"
          ]
        }
      ]
    },
    {
      "cell_type": "code",
      "source": [
        "# Verify data is clean\n",
        "print(\" Verification:\")\n",
        "print(f\"   Train - Inf: {np.isinf(X_train.values).any()}, NaN: {X_train.isnull().values.any()}\")\n",
        "print(f\"   Val   - Inf: {np.isinf(X_val.values).any()}, NaN: {X_val.isnull().values.any()}\")\n",
        "print(f\"   Test  - Inf: {np.isinf(X_test.values).any()}, NaN: {X_test.isnull().values.any()}\")"
      ],
      "metadata": {
        "colab": {
          "base_uri": "https://localhost:8080/"
        },
        "id": "ySoRmfTSbiVY",
        "outputId": "a4def325-8cfc-4149-d852-215498476bad"
      },
      "execution_count": null,
      "outputs": [
        {
          "output_type": "stream",
          "name": "stdout",
          "text": [
            " Verification:\n",
            "   Train - Inf: False, NaN: False\n",
            "   Val   - Inf: False, NaN: False\n",
            "   Test  - Inf: False, NaN: False\n"
          ]
        }
      ]
    },
    {
      "cell_type": "markdown",
      "source": [
        "Seleksi Fitur dengan Boruta"
      ],
      "metadata": {
        "id": "g-AiiaasO8wi"
      }
    },
    {
      "cell_type": "code",
      "source": [
        "# Random Forest dengan parameter balanced\n",
        "rf = RandomForestClassifier(\n",
        "    n_estimators=100,      # Cukup untuk stability\n",
        "    max_depth=15,          # Cukup dalam untuk 34/8 kelas\n",
        "    min_samples_split=10,  # Prevent overfitting\n",
        "    min_samples_leaf=4,    # Prevent overfitting\n",
        "    max_features='sqrt',   # Good default untuk classification\n",
        "    class_weight='balanced',  # Penting untuk imbalanced\n",
        "    n_jobs=-1,             # Use all cores\n",
        "    random_state=42,\n",
        "    bootstrap=True,\n",
        "    oob_score=False,       # Save memory\n",
        "    verbose=0\n",
        ")"
      ],
      "metadata": {
        "id": "9HjxeWMJU5WU"
      },
      "execution_count": null,
      "outputs": []
    },
    {
      "cell_type": "code",
      "source": [
        "# Boruta dengan parameter optimal\n",
        "boruta = BorutaPy(\n",
        "    estimator=rf,\n",
        "    n_estimators='auto',   # Auto-determine iterations\n",
        "    max_iter=100,          # Maximum iterations\n",
        "    verbose=2,             # Show progress\n",
        "    random_state=42,\n",
        "    perc=100,              # Percentile for importance threshold\n",
        "    alpha=0.05             # Statistical significance level\n",
        ")"
      ],
      "metadata": {
        "id": "pg5bdTmCVOoY"
      },
      "execution_count": null,
      "outputs": []
    },
    {
      "cell_type": "code",
      "source": [
        "    print(f\" Dataset Info:\")\n",
        "    print(f\"   Samples: {X_train.shape[0]:,}\")\n",
        "    print(f\"   Features: {X_train.shape[1]}\")\n",
        "    print(f\"   Classes: {len(np.unique(y_train))}\")\n",
        "\n",
        "    print(f\"\\n Random Forest Config:\")\n",
        "    print(f\"   n_estimators: {rf.n_estimators}\")\n",
        "    print(f\"   max_depth: {rf.max_depth}\")\n",
        "    print(f\"   max_features: {rf.max_features}\")\n",
        "    print(f\"   class_weight: {rf.class_weight}\")\n",
        "\n",
        "    print(f\"\\n Boruta Config:\")\n",
        "    print(f\"   max_iter: {boruta.max_iter}\")\n",
        "    print(f\"   alpha: {boruta.alpha}\")\n",
        "\n",
        "    print(f\"\\n Estimasi waktu: 15-30 menit\")"
      ],
      "metadata": {
        "colab": {
          "base_uri": "https://localhost:8080/"
        },
        "id": "oVYVnL7wVeWL",
        "outputId": "5d69ed16-6892-4002-a8c8-9ecefb5bf639"
      },
      "execution_count": null,
      "outputs": [
        {
          "output_type": "stream",
          "name": "stdout",
          "text": [
            " Dataset Info:\n",
            "   Samples: 520,976\n",
            "   Features: 35\n",
            "   Classes: 8\n",
            "\n",
            " Random Forest Config:\n",
            "   n_estimators: 100\n",
            "   max_depth: 15\n",
            "   max_features: sqrt\n",
            "   class_weight: balanced\n",
            "\n",
            " Boruta Config:\n",
            "   max_iter: 100\n",
            "   alpha: 0.05\n",
            "\n",
            " Estimasi waktu: 15-30 menit\n"
          ]
        }
      ]
    },
    {
      "cell_type": "code",
      "source": [
        "# Fit Boruta Hanya di Train Set\n",
        "start_time = time.time()\n",
        "\n",
        "boruta.fit(X_train.values if isinstance(X_train, pd.DataFrame) else X_train, y_train)\n",
        "\n",
        "end_time = time.time()\n",
        "elapsed_time = end_time - start_time\n",
        "\n",
        "print(f\"\\n Boruta completed in {elapsed_time/60:.1f} minutes\")"
      ],
      "metadata": {
        "colab": {
          "base_uri": "https://localhost:8080/"
        },
        "id": "j_OgKXNcW4iM",
        "outputId": "bc26c7c0-4ae2-45f2-ae7e-37b770c0fdd6"
      },
      "execution_count": null,
      "outputs": [
        {
          "output_type": "stream",
          "name": "stdout",
          "text": [
            "Iteration: \t1 / 100\n",
            "Confirmed: \t0\n",
            "Tentative: \t35\n",
            "Rejected: \t0\n",
            "Iteration: \t2 / 100\n",
            "Confirmed: \t0\n",
            "Tentative: \t35\n",
            "Rejected: \t0\n",
            "Iteration: \t3 / 100\n",
            "Confirmed: \t0\n",
            "Tentative: \t35\n",
            "Rejected: \t0\n",
            "Iteration: \t4 / 100\n",
            "Confirmed: \t0\n",
            "Tentative: \t35\n",
            "Rejected: \t0\n",
            "Iteration: \t5 / 100\n",
            "Confirmed: \t0\n",
            "Tentative: \t35\n",
            "Rejected: \t0\n",
            "Iteration: \t6 / 100\n",
            "Confirmed: \t0\n",
            "Tentative: \t35\n",
            "Rejected: \t0\n",
            "Iteration: \t7 / 100\n",
            "Confirmed: \t0\n",
            "Tentative: \t35\n",
            "Rejected: \t0\n",
            "Iteration: \t8 / 100\n",
            "Confirmed: \t27\n",
            "Tentative: \t1\n",
            "Rejected: \t7\n",
            "Iteration: \t9 / 100\n",
            "Confirmed: \t27\n",
            "Tentative: \t1\n",
            "Rejected: \t7\n",
            "Iteration: \t10 / 100\n",
            "Confirmed: \t27\n",
            "Tentative: \t1\n",
            "Rejected: \t7\n",
            "Iteration: \t11 / 100\n",
            "Confirmed: \t27\n",
            "Tentative: \t1\n",
            "Rejected: \t7\n",
            "Iteration: \t12 / 100\n",
            "Confirmed: \t27\n",
            "Tentative: \t1\n",
            "Rejected: \t7\n",
            "Iteration: \t13 / 100\n",
            "Confirmed: \t27\n",
            "Tentative: \t1\n",
            "Rejected: \t7\n",
            "Iteration: \t14 / 100\n",
            "Confirmed: \t27\n",
            "Tentative: \t1\n",
            "Rejected: \t7\n",
            "Iteration: \t15 / 100\n",
            "Confirmed: \t27\n",
            "Tentative: \t1\n",
            "Rejected: \t7\n",
            "Iteration: \t16 / 100\n",
            "Confirmed: \t27\n",
            "Tentative: \t1\n",
            "Rejected: \t7\n",
            "Iteration: \t17 / 100\n",
            "Confirmed: \t27\n",
            "Tentative: \t1\n",
            "Rejected: \t7\n",
            "Iteration: \t18 / 100\n",
            "Confirmed: \t27\n",
            "Tentative: \t1\n",
            "Rejected: \t7\n",
            "Iteration: \t19 / 100\n",
            "Confirmed: \t27\n",
            "Tentative: \t1\n",
            "Rejected: \t7\n",
            "Iteration: \t20 / 100\n",
            "Confirmed: \t27\n",
            "Tentative: \t1\n",
            "Rejected: \t7\n",
            "Iteration: \t21 / 100\n",
            "Confirmed: \t27\n",
            "Tentative: \t1\n",
            "Rejected: \t7\n",
            "Iteration: \t22 / 100\n",
            "Confirmed: \t27\n",
            "Tentative: \t1\n",
            "Rejected: \t7\n",
            "Iteration: \t23 / 100\n",
            "Confirmed: \t27\n",
            "Tentative: \t1\n",
            "Rejected: \t7\n",
            "Iteration: \t24 / 100\n",
            "Confirmed: \t27\n",
            "Tentative: \t1\n",
            "Rejected: \t7\n",
            "Iteration: \t25 / 100\n",
            "Confirmed: \t27\n",
            "Tentative: \t1\n",
            "Rejected: \t7\n",
            "Iteration: \t26 / 100\n",
            "Confirmed: \t27\n",
            "Tentative: \t1\n",
            "Rejected: \t7\n",
            "Iteration: \t27 / 100\n",
            "Confirmed: \t27\n",
            "Tentative: \t1\n",
            "Rejected: \t7\n",
            "Iteration: \t28 / 100\n",
            "Confirmed: \t27\n",
            "Tentative: \t1\n",
            "Rejected: \t7\n",
            "Iteration: \t29 / 100\n",
            "Confirmed: \t27\n",
            "Tentative: \t1\n",
            "Rejected: \t7\n",
            "Iteration: \t30 / 100\n",
            "Confirmed: \t27\n",
            "Tentative: \t1\n",
            "Rejected: \t7\n",
            "Iteration: \t31 / 100\n",
            "Confirmed: \t27\n",
            "Tentative: \t1\n",
            "Rejected: \t7\n",
            "Iteration: \t32 / 100\n",
            "Confirmed: \t27\n",
            "Tentative: \t1\n",
            "Rejected: \t7\n",
            "Iteration: \t33 / 100\n",
            "Confirmed: \t27\n",
            "Tentative: \t1\n",
            "Rejected: \t7\n",
            "Iteration: \t34 / 100\n",
            "Confirmed: \t27\n",
            "Tentative: \t1\n",
            "Rejected: \t7\n",
            "Iteration: \t35 / 100\n",
            "Confirmed: \t27\n",
            "Tentative: \t1\n",
            "Rejected: \t7\n",
            "Iteration: \t36 / 100\n",
            "Confirmed: \t27\n",
            "Tentative: \t1\n",
            "Rejected: \t7\n",
            "Iteration: \t37 / 100\n",
            "Confirmed: \t27\n",
            "Tentative: \t1\n",
            "Rejected: \t7\n",
            "Iteration: \t38 / 100\n",
            "Confirmed: \t27\n",
            "Tentative: \t1\n",
            "Rejected: \t7\n",
            "Iteration: \t39 / 100\n",
            "Confirmed: \t27\n",
            "Tentative: \t1\n",
            "Rejected: \t7\n",
            "Iteration: \t40 / 100\n",
            "Confirmed: \t27\n",
            "Tentative: \t1\n",
            "Rejected: \t7\n",
            "Iteration: \t41 / 100\n",
            "Confirmed: \t27\n",
            "Tentative: \t1\n",
            "Rejected: \t7\n",
            "Iteration: \t42 / 100\n",
            "Confirmed: \t27\n",
            "Tentative: \t1\n",
            "Rejected: \t7\n",
            "Iteration: \t43 / 100\n",
            "Confirmed: \t27\n",
            "Tentative: \t1\n",
            "Rejected: \t7\n",
            "Iteration: \t44 / 100\n",
            "Confirmed: \t27\n",
            "Tentative: \t1\n",
            "Rejected: \t7\n",
            "Iteration: \t45 / 100\n",
            "Confirmed: \t27\n",
            "Tentative: \t1\n",
            "Rejected: \t7\n",
            "Iteration: \t46 / 100\n",
            "Confirmed: \t27\n",
            "Tentative: \t1\n",
            "Rejected: \t7\n",
            "Iteration: \t47 / 100\n",
            "Confirmed: \t27\n",
            "Tentative: \t1\n",
            "Rejected: \t7\n",
            "Iteration: \t48 / 100\n",
            "Confirmed: \t27\n",
            "Tentative: \t1\n",
            "Rejected: \t7\n",
            "Iteration: \t49 / 100\n",
            "Confirmed: \t27\n",
            "Tentative: \t1\n",
            "Rejected: \t7\n",
            "Iteration: \t50 / 100\n",
            "Confirmed: \t27\n",
            "Tentative: \t1\n",
            "Rejected: \t7\n",
            "Iteration: \t51 / 100\n",
            "Confirmed: \t27\n",
            "Tentative: \t1\n",
            "Rejected: \t7\n",
            "Iteration: \t52 / 100\n",
            "Confirmed: \t27\n",
            "Tentative: \t1\n",
            "Rejected: \t7\n",
            "Iteration: \t53 / 100\n",
            "Confirmed: \t27\n",
            "Tentative: \t1\n",
            "Rejected: \t7\n",
            "Iteration: \t54 / 100\n",
            "Confirmed: \t28\n",
            "Tentative: \t0\n",
            "Rejected: \t7\n",
            "\n",
            "\n",
            "BorutaPy finished running.\n",
            "\n",
            "Iteration: \t55 / 100\n",
            "Confirmed: \t28\n",
            "Tentative: \t0\n",
            "Rejected: \t7\n",
            "\n",
            " Boruta completed in 78.9 minutes\n"
          ]
        }
      ]
    },
    {
      "cell_type": "code",
      "source": [
        "#Simpan hasil Boruta\n",
        "joblib.dump(boruta, \"/content/drive/MyDrive/Dataset/Percobaan_Enam/boruta_model.pkl\")\n",
        "\n",
        "#Simpan daftar fitur terpilih\n",
        "np.save(\"/content/drive/MyDrive/Dataset/Percobaan_Enam/selected_features.npy\", selected_features)"
      ],
      "metadata": {
        "id": "MCYasHZSp83Z"
      },
      "execution_count": null,
      "outputs": []
    },
    {
      "cell_type": "code",
      "source": [
        "#Load hasil Boruta\n",
        "boruta = joblib.load(\"/content/drive/MyDrive/Dataset/Percobaan_Enam/boruta_model.pkl\")\n",
        "\n",
        "#Load daftar fitur terpilih\n",
        "selected_features = np.load(\"/content/drive/MyDrive/Dataset/Percobaan_Enam/selected_features.npy\", allow_pickle=True).tolist()\n",
        "\n",
        "print(\"Model Boruta dan fitur terpilih berhasil di-load kembali.\")\n",
        "print(\"Fitur terpilih:\", selected_features)"
      ],
      "metadata": {
        "colab": {
          "base_uri": "https://localhost:8080/"
        },
        "id": "w6U1pmzxrAPh",
        "outputId": "23f750ef-7776-4a64-b0b2-8d564bacd9e0"
      },
      "execution_count": null,
      "outputs": [
        {
          "output_type": "stream",
          "name": "stdout",
          "text": [
            "Model Boruta dan fitur terpilih berhasil di-load kembali.\n",
            "Fitur terpilih: ['Header_Length', 'Protocol Type', 'Time_To_Live', 'Rate', 'fin_flag_number', 'syn_flag_number', 'rst_flag_number', 'psh_flag_number', 'ack_flag_number', 'ack_count', 'syn_count', 'rst_count', 'HTTP', 'HTTPS', 'DNS', 'SSH', 'TCP', 'UDP', 'ARP', 'ICMP', 'Tot sum', 'Min', 'Max', 'AVG', 'Std', 'IAT', 'Number', 'Variance']\n"
          ]
        }
      ]
    },
    {
      "cell_type": "code",
      "source": [
        "# Mendapatkan Fitur Terpilih Boruta\n",
        "selected_features = X_train.columns[boruta.support_].tolist() if isinstance(X_train, pd.DataFrame) else boruta.support_\n",
        "rejected_features = X_train.columns[~boruta.support_].tolist() if isinstance(X_train, pd.DataFrame) else ~boruta.support_\n",
        "\n",
        "print(f\" Results:\")\n",
        "print(f\"   Selected features: {len(selected_features) if isinstance(selected_features, list) else selected_features.sum()}\")\n",
        "print(f\"   Rejected features: {len(rejected_features) if isinstance(rejected_features, list) else rejected_features.sum()}\")\n",
        "print(f\"   Selection rate: {100 * boruta.support_.sum() / len(boruta.support_):.1f}%\")"
      ],
      "metadata": {
        "colab": {
          "base_uri": "https://localhost:8080/"
        },
        "id": "Nh2r4FwzXq9G",
        "outputId": "704e1141-6674-46ce-f609-d05ada1619b6"
      },
      "execution_count": null,
      "outputs": [
        {
          "output_type": "stream",
          "name": "stdout",
          "text": [
            " Results:\n",
            "   Selected features: 28\n",
            "   Rejected features: 7\n",
            "   Selection rate: 80.0%\n"
          ]
        }
      ]
    },
    {
      "cell_type": "code",
      "source": [
        "print(f\" SELECTED FEATURES ({len(selected_features)}):\")\n",
        "for i, feat in enumerate(selected_features, 1):\n",
        "    print(f\"   {i:2d}. {feat}\")\n",
        "\n",
        "print(f\"\\n REJECTED FEATURES ({len(rejected_features)}):\")\n",
        "for i, feat in enumerate(rejected_features, 1):\n",
        "    print(f\"   {i:2d}. {feat}\")"
      ],
      "metadata": {
        "colab": {
          "base_uri": "https://localhost:8080/"
        },
        "id": "5nUY1y-Lhwv8",
        "outputId": "f839a0d8-6472-457d-8288-46cab84d970a"
      },
      "execution_count": null,
      "outputs": [
        {
          "output_type": "stream",
          "name": "stdout",
          "text": [
            " SELECTED FEATURES (28):\n",
            "    1. Header_Length\n",
            "    2. Protocol Type\n",
            "    3. Time_To_Live\n",
            "    4. Rate\n",
            "    5. fin_flag_number\n",
            "    6. syn_flag_number\n",
            "    7. rst_flag_number\n",
            "    8. psh_flag_number\n",
            "    9. ack_flag_number\n",
            "   10. ack_count\n",
            "   11. syn_count\n",
            "   12. rst_count\n",
            "   13. HTTP\n",
            "   14. HTTPS\n",
            "   15. DNS\n",
            "   16. SSH\n",
            "   17. TCP\n",
            "   18. UDP\n",
            "   19. ARP\n",
            "   20. ICMP\n",
            "   21. Tot sum\n",
            "   22. Min\n",
            "   23. Max\n",
            "   24. AVG\n",
            "   25. Std\n",
            "   26. IAT\n",
            "   27. Number\n",
            "   28. Variance\n",
            "\n",
            " REJECTED FEATURES (7):\n",
            "    1. ece_flag_number\n",
            "    2. cwr_flag_number\n",
            "    3. Telnet\n",
            "    4. SMTP\n",
            "    5. IRC\n",
            "    6. DHCP\n",
            "    7. IGMP\n"
          ]
        }
      ]
    },
    {
      "cell_type": "code",
      "source": [
        "# Lihat ranking semua fitur\n",
        "print(\"FEATURE RANKING:\")\n",
        "feature_ranking = pd.DataFrame({\n",
        "    'Feature': X_train.columns,\n",
        "    'Selected': boruta.support_,\n",
        "    'Ranking': boruta.ranking_\n",
        "}).sort_values('Ranking')\n",
        "\n",
        "print(feature_ranking.to_string(index=False))"
      ],
      "metadata": {
        "colab": {
          "base_uri": "https://localhost:8080/"
        },
        "id": "ZoBebWZDib_E",
        "outputId": "206133cb-4830-449c-e1e3-bdab93879c82"
      },
      "execution_count": null,
      "outputs": [
        {
          "output_type": "stream",
          "name": "stdout",
          "text": [
            "FEATURE RANKING:\n",
            "        Feature  Selected  Ranking\n",
            "  Header_Length      True        1\n",
            "  Protocol Type      True        1\n",
            "   Time_To_Live      True        1\n",
            "           Rate      True        1\n",
            "fin_flag_number      True        1\n",
            "syn_flag_number      True        1\n",
            "rst_flag_number      True        1\n",
            "psh_flag_number      True        1\n",
            "ack_flag_number      True        1\n",
            "      ack_count      True        1\n",
            "      rst_count      True        1\n",
            "      syn_count      True        1\n",
            "           HTTP      True        1\n",
            "          HTTPS      True        1\n",
            "            SSH      True        1\n",
            "            DNS      True        1\n",
            "            AVG      True        1\n",
            "            Max      True        1\n",
            "            UDP      True        1\n",
            "            TCP      True        1\n",
            "            Min      True        1\n",
            "        Tot sum      True        1\n",
            "           ICMP      True        1\n",
            "            ARP      True        1\n",
            "            Std      True        1\n",
            "       Variance      True        1\n",
            "         Number      True        1\n",
            "            IAT      True        1\n",
            "ece_flag_number     False        2\n",
            "           DHCP     False        3\n",
            "cwr_flag_number     False        4\n",
            "            IRC     False        5\n",
            "         Telnet     False        6\n",
            "           IGMP     False        6\n",
            "           SMTP     False        8\n"
          ]
        }
      ]
    },
    {
      "cell_type": "code",
      "source": [
        "print(f\" Before selection:\")\n",
        "print(f\"   X_train: {X_train.shape}\")\n",
        "print(f\"   X_val:   {X_val.shape}\")\n",
        "print(f\"   X_test:  {X_test.shape}\")"
      ],
      "metadata": {
        "colab": {
          "base_uri": "https://localhost:8080/"
        },
        "id": "M1nWavtfjvle",
        "outputId": "ff8969a2-d24d-421e-b62e-d83d35623aa3"
      },
      "execution_count": null,
      "outputs": [
        {
          "output_type": "stream",
          "name": "stdout",
          "text": [
            " Before selection:\n",
            "   X_train: (520976, 35)\n",
            "   X_val:   (111638, 35)\n",
            "   X_test:  (111638, 35)\n"
          ]
        }
      ]
    },
    {
      "cell_type": "code",
      "source": [
        "# Apply ke semua set\n",
        "X_train = X_train[selected_features]\n",
        "X_val = X_val[selected_features]\n",
        "X_test = X_test[selected_features]"
      ],
      "metadata": {
        "id": "TsZ4PdtTj7WN"
      },
      "execution_count": null,
      "outputs": []
    },
    {
      "cell_type": "code",
      "source": [
        "print(f\" After selection:\")\n",
        "print(f\"   X_train: {X_train.shape}\")\n",
        "print(f\"   X_val:   {X_val.shape}\")\n",
        "print(f\"   X_test:  {X_test.shape}\")"
      ],
      "metadata": {
        "colab": {
          "base_uri": "https://localhost:8080/"
        },
        "id": "wjtXC0fAkAqV",
        "outputId": "5bbb42f5-67f4-4efd-85f5-260c4f30b6da"
      },
      "execution_count": null,
      "outputs": [
        {
          "output_type": "stream",
          "name": "stdout",
          "text": [
            " After selection:\n",
            "   X_train: (520976, 28)\n",
            "   X_val:   (111638, 28)\n",
            "   X_test:  (111638, 28)\n"
          ]
        }
      ]
    },
    {
      "cell_type": "code",
      "source": [
        "# Update variables\n",
        "X_train_selected = X_train\n",
        "X_val_selected = X_val\n",
        "X_test_selected = X_test"
      ],
      "metadata": {
        "id": "4qVh8ySRk5C_"
      },
      "execution_count": null,
      "outputs": []
    },
    {
      "cell_type": "markdown",
      "source": [
        "SMOTE"
      ],
      "metadata": {
        "id": "Fu7PKRVPlt3h"
      }
    },
    {
      "cell_type": "code",
      "source": [
        "print(\"\\n Applying SMOTE to training set only...\")\n",
        "print(f\"Before SMOTE: {X_train.shape[0]:,} samples\")\n",
        "print(f\"Class distribution:\\n{pd.Series(y_train).value_counts()}\")\n",
        "\n",
        "smote = SMOTE(random_state=42) # Removed n_jobs=-1\n",
        "X_train, y_train = smote.fit_resample(X_train, y_train)"
      ],
      "metadata": {
        "colab": {
          "base_uri": "https://localhost:8080/"
        },
        "id": "g_wUUx33lvLv",
        "outputId": "f60b3ea4-0210-4a4e-babe-498102677200"
      },
      "execution_count": null,
      "outputs": [
        {
          "output_type": "stream",
          "name": "stdout",
          "text": [
            "\n",
            " Applying SMOTE to training set only...\n",
            "Before SMOTE: 520,976 samples\n",
            "Class distribution:\n",
            "category_8_class\n",
            "DDoS           207728\n",
            "Recon           95966\n",
            "DoS             79902\n",
            "Spoofing        44653\n",
            "Mirai           42480\n",
            "Benign          23791\n",
            "Web-Based       17313\n",
            "Brute Force      9143\n",
            "Name: count, dtype: int64\n"
          ]
        }
      ]
    },
    {
      "cell_type": "code",
      "source": [
        "# Menyimpan Hasil SMOTE\n",
        "joblib.dump(smote, \"/content/drive/MyDrive/Dataset/Percobaan_Enam/smote_model.pkl\")\n",
        "\n",
        "print(\"Model berhasil disimpan.\")"
      ],
      "metadata": {
        "colab": {
          "base_uri": "https://localhost:8080/"
        },
        "id": "jgqQXMmmWhFb",
        "outputId": "aab8f3eb-c217-447e-9ae8-9230f9933f08"
      },
      "execution_count": null,
      "outputs": [
        {
          "output_type": "stream",
          "name": "stdout",
          "text": [
            "Model berhasil disimpan.\n"
          ]
        }
      ]
    },
    {
      "cell_type": "code",
      "source": [
        "# Menload Kembali Hasil SMOTE\n",
        "smote = joblib.load(\"/content/drive/MyDrive/Dataset/Percobaan_Enam/smote_model.pkl\")\n",
        "\n",
        "print(\"Model berhasil di-load kembali.\")"
      ],
      "metadata": {
        "id": "IzijVoFDWyOZ",
        "colab": {
          "base_uri": "https://localhost:8080/"
        },
        "outputId": "3366346d-fd12-4cdd-d9e6-e2268b02c4c5"
      },
      "execution_count": null,
      "outputs": [
        {
          "output_type": "stream",
          "name": "stdout",
          "text": [
            "Model berhasil di-load kembali.\n"
          ]
        }
      ]
    },
    {
      "cell_type": "code",
      "source": [
        "print(f\"After SMOTE:\")\n",
        "print(f\" X_train shape: {X_train.shape}\")\n",
        "print(f\" All classes balanced to: {len(y_train) // 34} samples each\")\n",
        "\n",
        "print(f\"\\nClass distribution after SMOTE:\")\n",
        "print(pd.Series(y_train).value_counts())"
      ],
      "metadata": {
        "colab": {
          "base_uri": "https://localhost:8080/"
        },
        "id": "TDZs5s1bl-gX",
        "outputId": "49384563-8cd0-45fe-8f7b-51d55c918bda"
      },
      "execution_count": null,
      "outputs": [
        {
          "output_type": "stream",
          "name": "stdout",
          "text": [
            "After SMOTE:\n",
            " X_train shape: (1661824, 28)\n",
            " All classes balanced to: 48877 samples each\n",
            "\n",
            "Class distribution after SMOTE:\n",
            "category_8_class\n",
            "DDoS           207728\n",
            "Recon          207728\n",
            "Spoofing       207728\n",
            "Web-Based      207728\n",
            "DoS            207728\n",
            "Mirai          207728\n",
            "Benign         207728\n",
            "Brute Force    207728\n",
            "Name: count, dtype: int64\n"
          ]
        }
      ]
    },
    {
      "cell_type": "markdown",
      "source": [
        "**Memory Optimization**"
      ],
      "metadata": {
        "id": "jPnttzX8WvvP"
      }
    },
    {
      "cell_type": "code",
      "source": [
        "# Check memory before\n",
        "print(f\"Memory before optimization:\")\n",
        "if isinstance(X_train, pd.DataFrame):\n",
        "    mem_train_before = X_train.memory_usage().sum() / 1024**2\n",
        "    mem_val_before = X_val.memory_usage().sum() / 1024**2\n",
        "    mem_test_before = X_test.memory_usage().sum() / 1024**2\n",
        "    print(f\"   X_train: {mem_train_before:.2f} MB\")\n",
        "    print(f\"   X_val:   {mem_val_before:.2f} MB\")\n",
        "    print(f\"   X_test:  {mem_test_before:.2f} MB\")"
      ],
      "metadata": {
        "colab": {
          "base_uri": "https://localhost:8080/"
        },
        "id": "jf024ONtWrd_",
        "outputId": "6a008611-e2a2-40a5-e410-4ad4b15e872c"
      },
      "execution_count": null,
      "outputs": [
        {
          "output_type": "stream",
          "name": "stdout",
          "text": [
            "Memory before optimization:\n",
            "   X_train: 355.00 MB\n",
            "   X_val:   24.70 MB\n",
            "   X_test:  24.70 MB\n"
          ]
        }
      ]
    },
    {
      "cell_type": "code",
      "source": [
        "# Convert to float32\n",
        "X_train = X_train.astype(np.float32)\n",
        "X_val = X_val.astype(np.float32)\n",
        "X_test = X_test.astype(np.float32)"
      ],
      "metadata": {
        "id": "sEerR6kat9FH"
      },
      "execution_count": null,
      "outputs": []
    },
    {
      "cell_type": "code",
      "source": [
        "print(\" Current State:\")\n",
        "print(f\"   X_train: {X_train.shape} - dtype: {X_train.dtypes.value_counts().to_dict()}\")\n",
        "print(f\"   X_val:   {X_val.shape}\")\n",
        "print(f\"   X_test:  {X_test.shape}\")"
      ],
      "metadata": {
        "colab": {
          "base_uri": "https://localhost:8080/"
        },
        "id": "G9aodgLvv2X-",
        "outputId": "1e9587fb-75b2-44d5-d075-017a8b0196bd"
      },
      "execution_count": null,
      "outputs": [
        {
          "output_type": "stream",
          "name": "stdout",
          "text": [
            " Current State:\n",
            "   X_train: (1661824, 28) - dtype: {dtype('float32'): 28}\n",
            "   X_val:   (111638, 28)\n",
            "   X_test:  (111638, 28)\n"
          ]
        }
      ]
    },
    {
      "cell_type": "code",
      "source": [
        "print(f\"Data Quality:\")\n",
        "print(f\"\\nInf: {np.isinf(X_train.values).any()}\")\n",
        "print(f\"\\nNaN:\\n{np.isnan(X_train).any()}\")"
      ],
      "metadata": {
        "colab": {
          "base_uri": "https://localhost:8080/"
        },
        "id": "_inEf_y0xBK3",
        "outputId": "03b6cdaf-da7b-4d4a-cc76-009e3b7b1a95"
      },
      "execution_count": null,
      "outputs": [
        {
          "output_type": "stream",
          "name": "stdout",
          "text": [
            "Data Quality:\n",
            "\n",
            "Inf: False\n",
            "\n",
            "NaN:\n",
            "Header_Length      False\n",
            "Protocol Type      False\n",
            "Time_To_Live       False\n",
            "Rate               False\n",
            "fin_flag_number    False\n",
            "syn_flag_number    False\n",
            "rst_flag_number    False\n",
            "psh_flag_number    False\n",
            "ack_flag_number    False\n",
            "ack_count          False\n",
            "syn_count          False\n",
            "rst_count          False\n",
            "HTTP               False\n",
            "HTTPS              False\n",
            "DNS                False\n",
            "SSH                False\n",
            "TCP                False\n",
            "UDP                False\n",
            "ARP                False\n",
            "ICMP               False\n",
            "Tot sum            False\n",
            "Min                False\n",
            "Max                False\n",
            "AVG                False\n",
            "Std                False\n",
            "IAT                False\n",
            "Number             False\n",
            "Variance           False\n",
            "dtype: bool\n"
          ]
        }
      ]
    },
    {
      "cell_type": "code",
      "source": [
        "# Check memory after\n",
        "print(f\"Memory after optimization:\")\n",
        "if isinstance(X_train, pd.DataFrame):\n",
        "    mem_train_after = X_train.memory_usage().sum() / 1024**2\n",
        "    mem_val_after = X_val.memory_usage().sum() / 1024**2\n",
        "    mem_test_after = X_test.memory_usage().sum() / 1024**2\n",
        "    print(f\"   X_train: {mem_train_after:.2f} MB\")\n",
        "    print(f\"   X_val:   {mem_val_after:.2f} MB\")\n",
        "    print(f\"   X_test:  {mem_test_after:.2f} MB\")\n",
        "\n",
        "    total_mem_after = mem_train_after + mem_val_after + mem_test_after\n",
        "    print(f\"   TOTAL: {total_mem_after:.2f} MB\")\n",
        "\n",
        "    # Print comparison if before values are available\n",
        "    if 'mem_train_before' in locals():\n",
        "        total_mem_before = mem_train_before + mem_val_before + mem_test_before\n",
        "        print(f\"\\nMemory Reduction:\")\n",
        "        print(f\"   Total Before: {total_mem_before:.2f} MB\")\n",
        "        print(f\"   Total After:  {total_mem_after:.2f} MB\")\n",
        "        print(f\"   Reduction:    {(total_mem_before - total_mem_after):.2f} MB\")"
      ],
      "metadata": {
        "colab": {
          "base_uri": "https://localhost:8080/"
        },
        "id": "i3p2o8zHyAMP",
        "outputId": "812d9966-763a-469d-b483-d5adef1e354f"
      },
      "execution_count": null,
      "outputs": [
        {
          "output_type": "stream",
          "name": "stdout",
          "text": [
            "Memory after optimization:\n",
            "   X_train: 177.50 MB\n",
            "   X_val:   12.78 MB\n",
            "   X_test:  12.78 MB\n",
            "   TOTAL: 203.05 MB\n",
            "\n",
            "Memory Reduction:\n",
            "   Total Before: 404.40 MB\n",
            "   Total After:  203.05 MB\n",
            "   Reduction:    201.35 MB\n"
          ]
        }
      ]
    },
    {
      "cell_type": "code",
      "source": [
        "available_ram = psutil.virtual_memory().available / 1024**2\n",
        "print(f\"Available RAM: {available_ram:.2f} MB ({available_ram/1024:.2f} GB)\")\n",
        "\n",
        "if available_ram > 2000:  # More than 2GB\n",
        "    print(f\"   🎉 RAM is SUFFICIENT for training!\")\n",
        "else:\n",
        "    print(f\"   ⚠️  RAM might be tight. Monitor during training.\")\n"
      ],
      "metadata": {
        "colab": {
          "base_uri": "https://localhost:8080/"
        },
        "id": "qY1DJuR4yHcQ",
        "outputId": "b93a77fd-e188-46fa-8e07-82f796f438ee"
      },
      "execution_count": null,
      "outputs": [
        {
          "output_type": "stream",
          "name": "stdout",
          "text": [
            "Available RAM: 9244.27 MB (9.03 GB)\n",
            "   🎉 RAM is SUFFICIENT for training!\n"
          ]
        }
      ]
    },
    {
      "cell_type": "markdown",
      "source": [
        "**Model Training**"
      ],
      "metadata": {
        "id": "kBBNr_ttygUn"
      }
    },
    {
      "cell_type": "markdown",
      "source": [
        "Option 1: Random Forest"
      ],
      "metadata": {
        "id": "cxtmFp4-lRER"
      }
    },
    {
      "cell_type": "code",
      "source": [
        "# Train baseline RF\n",
        "rf_baseline = RandomForestClassifier(\n",
        "    n_estimators=300,\n",
        "    max_depth=20,\n",
        "    min_samples_split=10,\n",
        "    min_samples_leaf=4,\n",
        "    max_features='sqrt',\n",
        "    class_weight='balanced',\n",
        "    n_jobs=-1,\n",
        "    random_state=42,\n",
        "    verbose=1\n",
        ")"
      ],
      "metadata": {
        "id": "NebWr74vykcn"
      },
      "execution_count": null,
      "outputs": []
    },
    {
      "cell_type": "code",
      "source": [
        "print(\"Training Random Forest...\")\n",
        "rf_baseline.fit(X_train, y_train)"
      ],
      "metadata": {
        "colab": {
          "base_uri": "https://localhost:8080/",
          "height": 202
        },
        "id": "J6AULwH2y2gI",
        "outputId": "a63e5310-a090-4182-b1a5-8cc1b307d64c"
      },
      "execution_count": null,
      "outputs": [
        {
          "output_type": "stream",
          "name": "stdout",
          "text": [
            "Training Random Forest...\n"
          ]
        },
        {
          "output_type": "stream",
          "name": "stderr",
          "text": [
            "[Parallel(n_jobs=-1)]: Using backend ThreadingBackend with 2 concurrent workers.\n",
            "[Parallel(n_jobs=-1)]: Done  46 tasks      | elapsed:  6.3min\n",
            "[Parallel(n_jobs=-1)]: Done 196 tasks      | elapsed: 24.7min\n",
            "[Parallel(n_jobs=-1)]: Done 300 out of 300 | elapsed: 36.5min finished\n"
          ]
        },
        {
          "output_type": "execute_result",
          "data": {
            "text/plain": [
              "RandomForestClassifier(class_weight='balanced', max_depth=20,\n",
              "                       min_samples_leaf=4, min_samples_split=10,\n",
              "                       n_estimators=300, n_jobs=-1, random_state=42, verbose=1)"
            ],
            "text/html": [
              "<style>#sk-container-id-1 {\n",
              "  /* Definition of color scheme common for light and dark mode */\n",
              "  --sklearn-color-text: #000;\n",
              "  --sklearn-color-text-muted: #666;\n",
              "  --sklearn-color-line: gray;\n",
              "  /* Definition of color scheme for unfitted estimators */\n",
              "  --sklearn-color-unfitted-level-0: #fff5e6;\n",
              "  --sklearn-color-unfitted-level-1: #f6e4d2;\n",
              "  --sklearn-color-unfitted-level-2: #ffe0b3;\n",
              "  --sklearn-color-unfitted-level-3: chocolate;\n",
              "  /* Definition of color scheme for fitted estimators */\n",
              "  --sklearn-color-fitted-level-0: #f0f8ff;\n",
              "  --sklearn-color-fitted-level-1: #d4ebff;\n",
              "  --sklearn-color-fitted-level-2: #b3dbfd;\n",
              "  --sklearn-color-fitted-level-3: cornflowerblue;\n",
              "\n",
              "  /* Specific color for light theme */\n",
              "  --sklearn-color-text-on-default-background: var(--sg-text-color, var(--theme-code-foreground, var(--jp-content-font-color1, black)));\n",
              "  --sklearn-color-background: var(--sg-background-color, var(--theme-background, var(--jp-layout-color0, white)));\n",
              "  --sklearn-color-border-box: var(--sg-text-color, var(--theme-code-foreground, var(--jp-content-font-color1, black)));\n",
              "  --sklearn-color-icon: #696969;\n",
              "\n",
              "  @media (prefers-color-scheme: dark) {\n",
              "    /* Redefinition of color scheme for dark theme */\n",
              "    --sklearn-color-text-on-default-background: var(--sg-text-color, var(--theme-code-foreground, var(--jp-content-font-color1, white)));\n",
              "    --sklearn-color-background: var(--sg-background-color, var(--theme-background, var(--jp-layout-color0, #111)));\n",
              "    --sklearn-color-border-box: var(--sg-text-color, var(--theme-code-foreground, var(--jp-content-font-color1, white)));\n",
              "    --sklearn-color-icon: #878787;\n",
              "  }\n",
              "}\n",
              "\n",
              "#sk-container-id-1 {\n",
              "  color: var(--sklearn-color-text);\n",
              "}\n",
              "\n",
              "#sk-container-id-1 pre {\n",
              "  padding: 0;\n",
              "}\n",
              "\n",
              "#sk-container-id-1 input.sk-hidden--visually {\n",
              "  border: 0;\n",
              "  clip: rect(1px 1px 1px 1px);\n",
              "  clip: rect(1px, 1px, 1px, 1px);\n",
              "  height: 1px;\n",
              "  margin: -1px;\n",
              "  overflow: hidden;\n",
              "  padding: 0;\n",
              "  position: absolute;\n",
              "  width: 1px;\n",
              "}\n",
              "\n",
              "#sk-container-id-1 div.sk-dashed-wrapped {\n",
              "  border: 1px dashed var(--sklearn-color-line);\n",
              "  margin: 0 0.4em 0.5em 0.4em;\n",
              "  box-sizing: border-box;\n",
              "  padding-bottom: 0.4em;\n",
              "  background-color: var(--sklearn-color-background);\n",
              "}\n",
              "\n",
              "#sk-container-id-1 div.sk-container {\n",
              "  /* jupyter's `normalize.less` sets `[hidden] { display: none; }`\n",
              "     but bootstrap.min.css set `[hidden] { display: none !important; }`\n",
              "     so we also need the `!important` here to be able to override the\n",
              "     default hidden behavior on the sphinx rendered scikit-learn.org.\n",
              "     See: https://github.com/scikit-learn/scikit-learn/issues/21755 */\n",
              "  display: inline-block !important;\n",
              "  position: relative;\n",
              "}\n",
              "\n",
              "#sk-container-id-1 div.sk-text-repr-fallback {\n",
              "  display: none;\n",
              "}\n",
              "\n",
              "div.sk-parallel-item,\n",
              "div.sk-serial,\n",
              "div.sk-item {\n",
              "  /* draw centered vertical line to link estimators */\n",
              "  background-image: linear-gradient(var(--sklearn-color-text-on-default-background), var(--sklearn-color-text-on-default-background));\n",
              "  background-size: 2px 100%;\n",
              "  background-repeat: no-repeat;\n",
              "  background-position: center center;\n",
              "}\n",
              "\n",
              "/* Parallel-specific style estimator block */\n",
              "\n",
              "#sk-container-id-1 div.sk-parallel-item::after {\n",
              "  content: \"\";\n",
              "  width: 100%;\n",
              "  border-bottom: 2px solid var(--sklearn-color-text-on-default-background);\n",
              "  flex-grow: 1;\n",
              "}\n",
              "\n",
              "#sk-container-id-1 div.sk-parallel {\n",
              "  display: flex;\n",
              "  align-items: stretch;\n",
              "  justify-content: center;\n",
              "  background-color: var(--sklearn-color-background);\n",
              "  position: relative;\n",
              "}\n",
              "\n",
              "#sk-container-id-1 div.sk-parallel-item {\n",
              "  display: flex;\n",
              "  flex-direction: column;\n",
              "}\n",
              "\n",
              "#sk-container-id-1 div.sk-parallel-item:first-child::after {\n",
              "  align-self: flex-end;\n",
              "  width: 50%;\n",
              "}\n",
              "\n",
              "#sk-container-id-1 div.sk-parallel-item:last-child::after {\n",
              "  align-self: flex-start;\n",
              "  width: 50%;\n",
              "}\n",
              "\n",
              "#sk-container-id-1 div.sk-parallel-item:only-child::after {\n",
              "  width: 0;\n",
              "}\n",
              "\n",
              "/* Serial-specific style estimator block */\n",
              "\n",
              "#sk-container-id-1 div.sk-serial {\n",
              "  display: flex;\n",
              "  flex-direction: column;\n",
              "  align-items: center;\n",
              "  background-color: var(--sklearn-color-background);\n",
              "  padding-right: 1em;\n",
              "  padding-left: 1em;\n",
              "}\n",
              "\n",
              "\n",
              "/* Toggleable style: style used for estimator/Pipeline/ColumnTransformer box that is\n",
              "clickable and can be expanded/collapsed.\n",
              "- Pipeline and ColumnTransformer use this feature and define the default style\n",
              "- Estimators will overwrite some part of the style using the `sk-estimator` class\n",
              "*/\n",
              "\n",
              "/* Pipeline and ColumnTransformer style (default) */\n",
              "\n",
              "#sk-container-id-1 div.sk-toggleable {\n",
              "  /* Default theme specific background. It is overwritten whether we have a\n",
              "  specific estimator or a Pipeline/ColumnTransformer */\n",
              "  background-color: var(--sklearn-color-background);\n",
              "}\n",
              "\n",
              "/* Toggleable label */\n",
              "#sk-container-id-1 label.sk-toggleable__label {\n",
              "  cursor: pointer;\n",
              "  display: flex;\n",
              "  width: 100%;\n",
              "  margin-bottom: 0;\n",
              "  padding: 0.5em;\n",
              "  box-sizing: border-box;\n",
              "  text-align: center;\n",
              "  align-items: start;\n",
              "  justify-content: space-between;\n",
              "  gap: 0.5em;\n",
              "}\n",
              "\n",
              "#sk-container-id-1 label.sk-toggleable__label .caption {\n",
              "  font-size: 0.6rem;\n",
              "  font-weight: lighter;\n",
              "  color: var(--sklearn-color-text-muted);\n",
              "}\n",
              "\n",
              "#sk-container-id-1 label.sk-toggleable__label-arrow:before {\n",
              "  /* Arrow on the left of the label */\n",
              "  content: \"▸\";\n",
              "  float: left;\n",
              "  margin-right: 0.25em;\n",
              "  color: var(--sklearn-color-icon);\n",
              "}\n",
              "\n",
              "#sk-container-id-1 label.sk-toggleable__label-arrow:hover:before {\n",
              "  color: var(--sklearn-color-text);\n",
              "}\n",
              "\n",
              "/* Toggleable content - dropdown */\n",
              "\n",
              "#sk-container-id-1 div.sk-toggleable__content {\n",
              "  max-height: 0;\n",
              "  max-width: 0;\n",
              "  overflow: hidden;\n",
              "  text-align: left;\n",
              "  /* unfitted */\n",
              "  background-color: var(--sklearn-color-unfitted-level-0);\n",
              "}\n",
              "\n",
              "#sk-container-id-1 div.sk-toggleable__content.fitted {\n",
              "  /* fitted */\n",
              "  background-color: var(--sklearn-color-fitted-level-0);\n",
              "}\n",
              "\n",
              "#sk-container-id-1 div.sk-toggleable__content pre {\n",
              "  margin: 0.2em;\n",
              "  border-radius: 0.25em;\n",
              "  color: var(--sklearn-color-text);\n",
              "  /* unfitted */\n",
              "  background-color: var(--sklearn-color-unfitted-level-0);\n",
              "}\n",
              "\n",
              "#sk-container-id-1 div.sk-toggleable__content.fitted pre {\n",
              "  /* unfitted */\n",
              "  background-color: var(--sklearn-color-fitted-level-0);\n",
              "}\n",
              "\n",
              "#sk-container-id-1 input.sk-toggleable__control:checked~div.sk-toggleable__content {\n",
              "  /* Expand drop-down */\n",
              "  max-height: 200px;\n",
              "  max-width: 100%;\n",
              "  overflow: auto;\n",
              "}\n",
              "\n",
              "#sk-container-id-1 input.sk-toggleable__control:checked~label.sk-toggleable__label-arrow:before {\n",
              "  content: \"▾\";\n",
              "}\n",
              "\n",
              "/* Pipeline/ColumnTransformer-specific style */\n",
              "\n",
              "#sk-container-id-1 div.sk-label input.sk-toggleable__control:checked~label.sk-toggleable__label {\n",
              "  color: var(--sklearn-color-text);\n",
              "  background-color: var(--sklearn-color-unfitted-level-2);\n",
              "}\n",
              "\n",
              "#sk-container-id-1 div.sk-label.fitted input.sk-toggleable__control:checked~label.sk-toggleable__label {\n",
              "  background-color: var(--sklearn-color-fitted-level-2);\n",
              "}\n",
              "\n",
              "/* Estimator-specific style */\n",
              "\n",
              "/* Colorize estimator box */\n",
              "#sk-container-id-1 div.sk-estimator input.sk-toggleable__control:checked~label.sk-toggleable__label {\n",
              "  /* unfitted */\n",
              "  background-color: var(--sklearn-color-unfitted-level-2);\n",
              "}\n",
              "\n",
              "#sk-container-id-1 div.sk-estimator.fitted input.sk-toggleable__control:checked~label.sk-toggleable__label {\n",
              "  /* fitted */\n",
              "  background-color: var(--sklearn-color-fitted-level-2);\n",
              "}\n",
              "\n",
              "#sk-container-id-1 div.sk-label label.sk-toggleable__label,\n",
              "#sk-container-id-1 div.sk-label label {\n",
              "  /* The background is the default theme color */\n",
              "  color: var(--sklearn-color-text-on-default-background);\n",
              "}\n",
              "\n",
              "/* On hover, darken the color of the background */\n",
              "#sk-container-id-1 div.sk-label:hover label.sk-toggleable__label {\n",
              "  color: var(--sklearn-color-text);\n",
              "  background-color: var(--sklearn-color-unfitted-level-2);\n",
              "}\n",
              "\n",
              "/* Label box, darken color on hover, fitted */\n",
              "#sk-container-id-1 div.sk-label.fitted:hover label.sk-toggleable__label.fitted {\n",
              "  color: var(--sklearn-color-text);\n",
              "  background-color: var(--sklearn-color-fitted-level-2);\n",
              "}\n",
              "\n",
              "/* Estimator label */\n",
              "\n",
              "#sk-container-id-1 div.sk-label label {\n",
              "  font-family: monospace;\n",
              "  font-weight: bold;\n",
              "  display: inline-block;\n",
              "  line-height: 1.2em;\n",
              "}\n",
              "\n",
              "#sk-container-id-1 div.sk-label-container {\n",
              "  text-align: center;\n",
              "}\n",
              "\n",
              "/* Estimator-specific */\n",
              "#sk-container-id-1 div.sk-estimator {\n",
              "  font-family: monospace;\n",
              "  border: 1px dotted var(--sklearn-color-border-box);\n",
              "  border-radius: 0.25em;\n",
              "  box-sizing: border-box;\n",
              "  margin-bottom: 0.5em;\n",
              "  /* unfitted */\n",
              "  background-color: var(--sklearn-color-unfitted-level-0);\n",
              "}\n",
              "\n",
              "#sk-container-id-1 div.sk-estimator.fitted {\n",
              "  /* fitted */\n",
              "  background-color: var(--sklearn-color-fitted-level-0);\n",
              "}\n",
              "\n",
              "/* on hover */\n",
              "#sk-container-id-1 div.sk-estimator:hover {\n",
              "  /* unfitted */\n",
              "  background-color: var(--sklearn-color-unfitted-level-2);\n",
              "}\n",
              "\n",
              "#sk-container-id-1 div.sk-estimator.fitted:hover {\n",
              "  /* fitted */\n",
              "  background-color: var(--sklearn-color-fitted-level-2);\n",
              "}\n",
              "\n",
              "/* Specification for estimator info (e.g. \"i\" and \"?\") */\n",
              "\n",
              "/* Common style for \"i\" and \"?\" */\n",
              "\n",
              ".sk-estimator-doc-link,\n",
              "a:link.sk-estimator-doc-link,\n",
              "a:visited.sk-estimator-doc-link {\n",
              "  float: right;\n",
              "  font-size: smaller;\n",
              "  line-height: 1em;\n",
              "  font-family: monospace;\n",
              "  background-color: var(--sklearn-color-background);\n",
              "  border-radius: 1em;\n",
              "  height: 1em;\n",
              "  width: 1em;\n",
              "  text-decoration: none !important;\n",
              "  margin-left: 0.5em;\n",
              "  text-align: center;\n",
              "  /* unfitted */\n",
              "  border: var(--sklearn-color-unfitted-level-1) 1pt solid;\n",
              "  color: var(--sklearn-color-unfitted-level-1);\n",
              "}\n",
              "\n",
              ".sk-estimator-doc-link.fitted,\n",
              "a:link.sk-estimator-doc-link.fitted,\n",
              "a:visited.sk-estimator-doc-link.fitted {\n",
              "  /* fitted */\n",
              "  border: var(--sklearn-color-fitted-level-1) 1pt solid;\n",
              "  color: var(--sklearn-color-fitted-level-1);\n",
              "}\n",
              "\n",
              "/* On hover */\n",
              "div.sk-estimator:hover .sk-estimator-doc-link:hover,\n",
              ".sk-estimator-doc-link:hover,\n",
              "div.sk-label-container:hover .sk-estimator-doc-link:hover,\n",
              ".sk-estimator-doc-link:hover {\n",
              "  /* unfitted */\n",
              "  background-color: var(--sklearn-color-unfitted-level-3);\n",
              "  color: var(--sklearn-color-background);\n",
              "  text-decoration: none;\n",
              "}\n",
              "\n",
              "div.sk-estimator.fitted:hover .sk-estimator-doc-link.fitted:hover,\n",
              ".sk-estimator-doc-link.fitted:hover,\n",
              "div.sk-label-container:hover .sk-estimator-doc-link.fitted:hover,\n",
              ".sk-estimator-doc-link.fitted:hover {\n",
              "  /* fitted */\n",
              "  background-color: var(--sklearn-color-fitted-level-3);\n",
              "  color: var(--sklearn-color-background);\n",
              "  text-decoration: none;\n",
              "}\n",
              "\n",
              "/* Span, style for the box shown on hovering the info icon */\n",
              ".sk-estimator-doc-link span {\n",
              "  display: none;\n",
              "  z-index: 9999;\n",
              "  position: relative;\n",
              "  font-weight: normal;\n",
              "  right: .2ex;\n",
              "  padding: .5ex;\n",
              "  margin: .5ex;\n",
              "  width: min-content;\n",
              "  min-width: 20ex;\n",
              "  max-width: 50ex;\n",
              "  color: var(--sklearn-color-text);\n",
              "  box-shadow: 2pt 2pt 4pt #999;\n",
              "  /* unfitted */\n",
              "  background: var(--sklearn-color-unfitted-level-0);\n",
              "  border: .5pt solid var(--sklearn-color-unfitted-level-3);\n",
              "}\n",
              "\n",
              ".sk-estimator-doc-link.fitted span {\n",
              "  /* fitted */\n",
              "  background: var(--sklearn-color-fitted-level-0);\n",
              "  border: var(--sklearn-color-fitted-level-3);\n",
              "}\n",
              "\n",
              ".sk-estimator-doc-link:hover span {\n",
              "  display: block;\n",
              "}\n",
              "\n",
              "/* \"?\"-specific style due to the `<a>` HTML tag */\n",
              "\n",
              "#sk-container-id-1 a.estimator_doc_link {\n",
              "  float: right;\n",
              "  font-size: 1rem;\n",
              "  line-height: 1em;\n",
              "  font-family: monospace;\n",
              "  background-color: var(--sklearn-color-background);\n",
              "  border-radius: 1rem;\n",
              "  height: 1rem;\n",
              "  width: 1rem;\n",
              "  text-decoration: none;\n",
              "  /* unfitted */\n",
              "  color: var(--sklearn-color-unfitted-level-1);\n",
              "  border: var(--sklearn-color-unfitted-level-1) 1pt solid;\n",
              "}\n",
              "\n",
              "#sk-container-id-1 a.estimator_doc_link.fitted {\n",
              "  /* fitted */\n",
              "  border: var(--sklearn-color-fitted-level-1) 1pt solid;\n",
              "  color: var(--sklearn-color-fitted-level-1);\n",
              "}\n",
              "\n",
              "/* On hover */\n",
              "#sk-container-id-1 a.estimator_doc_link:hover {\n",
              "  /* unfitted */\n",
              "  background-color: var(--sklearn-color-unfitted-level-3);\n",
              "  color: var(--sklearn-color-background);\n",
              "  text-decoration: none;\n",
              "}\n",
              "\n",
              "#sk-container-id-1 a.estimator_doc_link.fitted:hover {\n",
              "  /* fitted */\n",
              "  background-color: var(--sklearn-color-fitted-level-3);\n",
              "}\n",
              "</style><div id=\"sk-container-id-1\" class=\"sk-top-container\"><div class=\"sk-text-repr-fallback\"><pre>RandomForestClassifier(class_weight=&#x27;balanced&#x27;, max_depth=20,\n",
              "                       min_samples_leaf=4, min_samples_split=10,\n",
              "                       n_estimators=300, n_jobs=-1, random_state=42, verbose=1)</pre><b>In a Jupyter environment, please rerun this cell to show the HTML representation or trust the notebook. <br />On GitHub, the HTML representation is unable to render, please try loading this page with nbviewer.org.</b></div><div class=\"sk-container\" hidden><div class=\"sk-item\"><div class=\"sk-estimator fitted sk-toggleable\"><input class=\"sk-toggleable__control sk-hidden--visually\" id=\"sk-estimator-id-1\" type=\"checkbox\" checked><label for=\"sk-estimator-id-1\" class=\"sk-toggleable__label fitted sk-toggleable__label-arrow\"><div><div>RandomForestClassifier</div></div><div><a class=\"sk-estimator-doc-link fitted\" rel=\"noreferrer\" target=\"_blank\" href=\"https://scikit-learn.org/1.6/modules/generated/sklearn.ensemble.RandomForestClassifier.html\">?<span>Documentation for RandomForestClassifier</span></a><span class=\"sk-estimator-doc-link fitted\">i<span>Fitted</span></span></div></label><div class=\"sk-toggleable__content fitted\"><pre>RandomForestClassifier(class_weight=&#x27;balanced&#x27;, max_depth=20,\n",
              "                       min_samples_leaf=4, min_samples_split=10,\n",
              "                       n_estimators=300, n_jobs=-1, random_state=42, verbose=1)</pre></div> </div></div></div></div>"
            ]
          },
          "metadata": {},
          "execution_count": 49
        }
      ]
    },
    {
      "cell_type": "code",
      "source": [
        "# Menyimpan Hasil Model\n",
        "joblib.dump(rf_baseline, \"/content/drive/MyDrive/Dataset/Percobaan_Enam/rf_baseline_model.pkl\")\n",
        "\n",
        "print(\"Model berhasil disimpan.\")"
      ],
      "metadata": {
        "id": "bLMHv0fWt53C",
        "colab": {
          "base_uri": "https://localhost:8080/"
        },
        "outputId": "b2ff97e7-7edf-412e-c329-1cca3f2646a8"
      },
      "execution_count": null,
      "outputs": [
        {
          "output_type": "stream",
          "name": "stdout",
          "text": [
            "Model berhasil disimpan.\n"
          ]
        }
      ]
    },
    {
      "cell_type": "code",
      "source": [
        "# Menload Kembali Hasil Model\n",
        "rf_baseline = joblib.load(\"/content/drive/MyDrive/Dataset/Percobaan_Enam/rf_baseline_model.pkl\")\n",
        "\n",
        "print(\"Model berhasil di-load kembali.\")"
      ],
      "metadata": {
        "id": "9k8iRhwnuC8M"
      },
      "execution_count": null,
      "outputs": []
    },
    {
      "cell_type": "code",
      "source": [
        "# Evaluate\n",
        "y_val_pred = rf_baseline.predict(X_val)\n",
        "val_acc = accuracy_score(y_val, y_val_pred)\n",
        "val_f1 = f1_score(y_val, y_val_pred, average='macro')\n",
        "\n",
        "print(f\"\\nRandom Forest Results:\")\n",
        "print(f\"   Validation Accuracy: {val_acc:.4f} ({val_acc*100:.2f}%)\")\n",
        "print(f\"   Validation Macro F1: {val_f1:.4f}\")"
      ],
      "metadata": {
        "id": "ZtWaNkJgy9I7",
        "colab": {
          "base_uri": "https://localhost:8080/"
        },
        "outputId": "904e3aa6-3bc2-4802-e850-77430a9ea818"
      },
      "execution_count": null,
      "outputs": [
        {
          "output_type": "stream",
          "name": "stderr",
          "text": [
            "[Parallel(n_jobs=2)]: Using backend ThreadingBackend with 2 concurrent workers.\n",
            "[Parallel(n_jobs=2)]: Done  46 tasks      | elapsed:    0.6s\n",
            "[Parallel(n_jobs=2)]: Done 196 tasks      | elapsed:    3.4s\n",
            "[Parallel(n_jobs=2)]: Done 300 out of 300 | elapsed:    5.0s finished\n"
          ]
        },
        {
          "output_type": "stream",
          "name": "stdout",
          "text": [
            "\n",
            "Random Forest Results:\n",
            "   Validation Accuracy: 0.8778 (87.78%)\n",
            "   Validation Macro F1: 0.7670\n"
          ]
        }
      ]
    },
    {
      "cell_type": "code",
      "source": [
        "# Test evaluation\n",
        "y_test_pred = rf_baseline.predict(X_test)\n",
        "test_acc = accuracy_score(y_test, y_test_pred)\n",
        "test_f1 = f1_score(y_test, y_test_pred, average='macro')\n",
        "\n",
        "print(f\"\\n   Test Accuracy: {test_acc:.4f} ({test_acc*100:.2f}%)\")\n",
        "print(f\"   Test Macro F1: {test_f1:.4f}\")"
      ],
      "metadata": {
        "id": "R9lqe-wHzD82",
        "colab": {
          "base_uri": "https://localhost:8080/"
        },
        "outputId": "e92258d5-279a-4d95-a43f-89c513778259"
      },
      "execution_count": null,
      "outputs": [
        {
          "output_type": "stream",
          "name": "stderr",
          "text": [
            "[Parallel(n_jobs=2)]: Using backend ThreadingBackend with 2 concurrent workers.\n",
            "[Parallel(n_jobs=2)]: Done  46 tasks      | elapsed:    0.6s\n",
            "[Parallel(n_jobs=2)]: Done 196 tasks      | elapsed:    3.4s\n",
            "[Parallel(n_jobs=2)]: Done 300 out of 300 | elapsed:    4.9s finished\n"
          ]
        },
        {
          "output_type": "stream",
          "name": "stdout",
          "text": [
            "\n",
            "   Test Accuracy: 0.8763 (87.63%)\n",
            "   Test Macro F1: 0.7664\n"
          ]
        }
      ]
    },
    {
      "cell_type": "code",
      "source": [
        "print(\"Classification Report (Test Set):\")\n",
        "print(classification_report(y_test, y_test_pred))"
      ],
      "metadata": {
        "id": "m4QqRxThzGU7",
        "colab": {
          "base_uri": "https://localhost:8080/"
        },
        "outputId": "f7ce7049-a35f-476e-ff3c-259e9ce49679"
      },
      "execution_count": null,
      "outputs": [
        {
          "output_type": "stream",
          "name": "stdout",
          "text": [
            "Classification Report (Test Set):\n",
            "              precision    recall  f1-score   support\n",
            "\n",
            "      Benign       0.46      0.83      0.59      5098\n",
            " Brute Force       0.54      0.50      0.52      1959\n",
            "        DDoS       0.97      0.97      0.97     44513\n",
            "         DoS       0.93      0.92      0.92     17122\n",
            "       Mirai       1.00      1.00      1.00      9103\n",
            "       Recon       0.86      0.73      0.79     20564\n",
            "    Spoofing       0.92      0.77      0.84      9569\n",
            "   Web-Based       0.46      0.54      0.49      3710\n",
            "\n",
            "    accuracy                           0.88    111638\n",
            "   macro avg       0.77      0.78      0.77    111638\n",
            "weighted avg       0.89      0.88      0.88    111638\n",
            "\n"
          ]
        }
      ]
    },
    {
      "cell_type": "markdown",
      "source": [
        "**Option 2: LightGBM**"
      ],
      "metadata": {
        "id": "Gv7-gb0szd1Z"
      }
    },
    {
      "cell_type": "code",
      "source": [
        "le = LabelEncoder()\n",
        "y_train_encoded = le.fit_transform(y_train)\n",
        "y_val_encoded = le.transform(y_val)\n",
        "y_test_encoded = le.transform(y_test)"
      ],
      "metadata": {
        "id": "bzvxvTsN0RFM"
      },
      "execution_count": null,
      "outputs": []
    },
    {
      "cell_type": "code",
      "source": [
        "# Train LightGBM\n",
        "lgb_model = lgb.LGBMClassifier(\n",
        "   n_estimators=500,\n",
        "   max_depth=15,\n",
        "   learning_rate=0.1,\n",
        "   num_leaves=31,\n",
        "   subsample=0.8,\n",
        "   colsample_bytree=0.8,\n",
        "   objective='multiclass',\n",
        "   num_class=len(le.classes_),\n",
        "   random_state=42,\n",
        "   n_jobs=-1,\n",
        "   verbose=-1,\n",
        "   force_col_wise=True\n",
        ")"
      ],
      "metadata": {
        "id": "TmLvAo8H0VqJ"
      },
      "execution_count": null,
      "outputs": []
    },
    {
      "cell_type": "code",
      "source": [
        "print(\"Training LightGBM...\")\n",
        "\n",
        "start_time = time.time()\n",
        "\n",
        "lgb_model.fit(\n",
        "    X_train, y_train_encoded,\n",
        "    eval_set=[(X_val, y_val_encoded)],\n",
        "    callbacks=[lgb.early_stopping(50), lgb.log_evaluation(100)]\n",
        ")\n",
        "\n",
        "end_time = time.time()\n",
        "elapsed_time = end_time - start_time\n",
        "\n",
        "print(f\"\\nLightGBM completed in {elapsed_time/60:.1f} minutes\")"
      ],
      "metadata": {
        "colab": {
          "base_uri": "https://localhost:8080/"
        },
        "id": "zYHEENWD0uWZ",
        "outputId": "19723ec7-52a8-4f01-cfdf-a718722fb334"
      },
      "execution_count": null,
      "outputs": [
        {
          "output_type": "stream",
          "name": "stdout",
          "text": [
            "Training LightGBM...\n",
            "Training until validation scores don't improve for 50 rounds\n",
            "[100]\tvalid_0's multi_logloss: 0.300595\n",
            "Early stopping, best iteration is:\n",
            "[111]\tvalid_0's multi_logloss: 0.299256\n",
            "\n",
            "LightGBM completed in 3.4 minutes\n"
          ]
        }
      ]
    },
    {
      "cell_type": "code",
      "source": [
        "# Menyimpan Hasil Model\n",
        "joblib.dump(lgb_model, \"/content/drive/MyDrive/Dataset/Percobaan_Enam/lgb_model.pkl\")\n",
        "\n",
        "print(\"Model berhasil disimpan.\")"
      ],
      "metadata": {
        "colab": {
          "base_uri": "https://localhost:8080/"
        },
        "id": "8vRmhTGbtpzy",
        "outputId": "d4e2d07b-5a11-497f-c237-e083a46aa1ef"
      },
      "execution_count": null,
      "outputs": [
        {
          "output_type": "stream",
          "name": "stdout",
          "text": [
            "Model berhasil disimpan.\n"
          ]
        }
      ]
    },
    {
      "cell_type": "code",
      "source": [
        "# Menload Kembali Hasil Model\n",
        "lgb_model = joblib.load(\"/content/drive/MyDrive/Dataset/Percobaan_Enam/lgb_model.pkl\")\n",
        "\n",
        "print(\"Model berhasil di-load kembali.\")"
      ],
      "metadata": {
        "id": "EdBxKfuNtxZ9",
        "colab": {
          "base_uri": "https://localhost:8080/"
        },
        "outputId": "fcca9516-7e09-453d-8b7e-55e23c1dcb68"
      },
      "execution_count": null,
      "outputs": [
        {
          "output_type": "stream",
          "name": "stdout",
          "text": [
            "Model berhasil di-load kembali.\n"
          ]
        }
      ]
    },
    {
      "cell_type": "code",
      "source": [
        "# Evaluate\n",
        "y_val_pred_lgb = le.inverse_transform(lgb_model.predict(X_val))\n",
        "val_acc_lgb = accuracy_score(y_val, y_val_pred_lgb)\n",
        "val_f1_lgb = f1_score(y_val, y_val_pred_lgb, average='macro')\n",
        "\n",
        "y_test_pred_lgb = le.inverse_transform(lgb_model.predict(X_test))\n",
        "test_acc_lgb = accuracy_score(y_test, y_test_pred_lgb)\n",
        "test_f1_lgb = f1_score(y_test, y_test_pred_lgb, average='macro')"
      ],
      "metadata": {
        "id": "A7RsiNSK1Coy"
      },
      "execution_count": null,
      "outputs": []
    },
    {
      "cell_type": "code",
      "source": [
        "print(f\"LightGBM Results:\")\n",
        "print(f\"   Validation Accuracy: {val_acc_lgb:.4f} ({val_acc_lgb*100:.2f}%)\")\n",
        "print(f\"   Validation Macro F1: {val_f1_lgb:.4f}\")\n",
        "print(f\"   Test Accuracy: {test_acc_lgb:.4f} ({test_acc_lgb*100:.2f}%)\")\n",
        "print(f\"   Test Macro F1: {test_f1_lgb:.4f}\")"
      ],
      "metadata": {
        "colab": {
          "base_uri": "https://localhost:8080/"
        },
        "id": "HIZE8FPH1Iw6",
        "outputId": "ecd0c446-435d-4c47-ae86-5295e038852b"
      },
      "execution_count": null,
      "outputs": [
        {
          "output_type": "stream",
          "name": "stdout",
          "text": [
            "LightGBM Results:\n",
            "   Validation Accuracy: 0.8860 (88.60%)\n",
            "   Validation Macro F1: 0.7732\n",
            "   Test Accuracy: 0.8847 (88.47%)\n",
            "   Test Macro F1: 0.7707\n"
          ]
        }
      ]
    },
    {
      "cell_type": "markdown",
      "source": [
        "**Komparasi Model**"
      ],
      "metadata": {
        "id": "cyv827cz4Jaj"
      }
    },
    {
      "cell_type": "code",
      "source": [
        "print(f\"Random Forest:\")\n",
        "print(f\"   Val Accuracy: {val_acc:.4f}, Test Accuracy: {test_acc:.4f}\")\n",
        "print(f\"   Val F1: {val_f1:.4f}, Test F1: {test_f1:.4f}\")\n",
        "\n",
        "if 'lgb_model' in locals():\n",
        "    print(f\"\\nLightGBM:\")\n",
        "    print(f\"   Val Accuracy: {val_acc_lgb:.4f}, Test Accuracy: {test_acc_lgb:.4f}\")\n",
        "    print(f\"   Val F1: {val_f1_lgb:.4f}, Test F1: {test_f1_lgb:.4f}\")\n",
        "\n",
        "    if test_acc_lgb > test_acc:\n",
        "        best_model = lgb_model\n",
        "        best_name = \"LightGBM\"\n",
        "        best_acc = test_acc_lgb\n",
        "    else:\n",
        "        best_model = rf_baseline\n",
        "        best_name = \"RandomForest\"\n",
        "        best_acc = test_acc\n",
        "else:\n",
        "    best_model = rf_baseline\n",
        "    best_name = \"RandomForest\"\n",
        "    best_acc = test_acc\n",
        "\n",
        "print(f\"\\n🏆 BEST MODEL: {best_name}\")\n",
        "print(f\"   Test Accuracy: {best_acc:.4f} ({best_acc*100:.2f}%)\")\n"
      ],
      "metadata": {
        "colab": {
          "base_uri": "https://localhost:8080/"
        },
        "id": "XYR7SOHe4HfI",
        "outputId": "04aea9f0-c819-4670-ff07-e12cbebbe80a"
      },
      "execution_count": null,
      "outputs": [
        {
          "output_type": "stream",
          "name": "stdout",
          "text": [
            "Random Forest:\n",
            "   Val Accuracy: 0.8778, Test Accuracy: 0.8763\n",
            "   Val F1: 0.7670, Test F1: 0.7664\n",
            "\n",
            "LightGBM:\n",
            "   Val Accuracy: 0.8860, Test Accuracy: 0.8847\n",
            "   Val F1: 0.7732, Test F1: 0.7707\n",
            "\n",
            "🏆 BEST MODEL: LightGBM\n",
            "   Test Accuracy: 0.8847 (88.47%)\n"
          ]
        }
      ]
    },
    {
      "cell_type": "code",
      "source": [
        "available_ram = psutil.virtual_memory().available / 1024**2\n",
        "print(f\"Available RAM: {available_ram:.2f} MB ({available_ram/1024:.2f} GB)\")"
      ],
      "metadata": {
        "colab": {
          "base_uri": "https://localhost:8080/"
        },
        "id": "55p0mVfU94io",
        "outputId": "389706b8-4aa7-42c3-e426-93de6dc94770"
      },
      "execution_count": null,
      "outputs": [
        {
          "output_type": "stream",
          "name": "stdout",
          "text": [
            "Available RAM: 7859.42 MB (7.68 GB)\n"
          ]
        }
      ]
    },
    {
      "cell_type": "markdown",
      "source": [
        "**Hyperparameter Tuning**"
      ],
      "metadata": {
        "id": "ovTJ2Dr-f_PD"
      }
    },
    {
      "cell_type": "code",
      "source": [
        "# Encode labels\n",
        "le = LabelEncoder()\n",
        "y_train_encoded = le.fit_transform(y_train)\n",
        "y_val_encoded = le.transform(y_val)\n",
        "y_test_encoded = le.transform(y_test)"
      ],
      "metadata": {
        "id": "CSNmptV8QHhU"
      },
      "execution_count": null,
      "outputs": []
    },
    {
      "cell_type": "markdown",
      "source": [
        "CONFIG 1: Deeper Trees (More Complex)\n"
      ],
      "metadata": {
        "id": "xis86Z50lu8r"
      }
    },
    {
      "cell_type": "code",
      "source": [
        "print(\"Testing Config 1: Deeper Trees\")\n",
        "\n",
        "lgb_deep = lgb.LGBMClassifier(\n",
        "    n_estimators=800,        # ⬆️ Increase iterations\n",
        "    max_depth=25,            # ⬆️ Deeper trees (dari 15)\n",
        "    learning_rate=0.05,      # ⬇️ Lower LR untuk stability\n",
        "    num_leaves=63,           # ⬆️ More leaves (dari 31)\n",
        "    subsample=0.8,\n",
        "    colsample_bytree=0.8,\n",
        "    min_child_samples=20,    # ➕ Prevent overfitting\n",
        "    reg_alpha=0.1,           # ➕ L1 regularization\n",
        "    reg_lambda=0.1,          # ➕ L2 regularization\n",
        "    objective='multiclass',\n",
        "    num_class=8,\n",
        "    random_state=42,\n",
        "    n_jobs=-1,\n",
        "    verbose=-1,\n",
        "    force_col_wise=True\n",
        ")"
      ],
      "metadata": {
        "colab": {
          "base_uri": "https://localhost:8080/"
        },
        "id": "Jy8JJC-LgW7U",
        "outputId": "53bd59c0-0645-48e5-ff8e-dd3e3581093f"
      },
      "execution_count": null,
      "outputs": [
        {
          "output_type": "stream",
          "name": "stdout",
          "text": [
            "Testing Config 1: Deeper Trees\n"
          ]
        }
      ]
    },
    {
      "cell_type": "code",
      "source": [
        "# Fit Deeper Trees\n",
        "\n",
        "print(\"Training Deeper Trees...\")\n",
        "\n",
        "start_time = time.time()\n",
        "\n",
        "lgb_deep.fit(\n",
        "    X_train, y_train_encoded,\n",
        "    eval_set=[(X_val, y_val_encoded)],\n",
        "    callbacks=[lgb.early_stopping(100), lgb.log_evaluation(0)]\n",
        ")\n",
        "\n",
        "end_time = time.time()\n",
        "elapsed_time = end_time - start_time\n",
        "\n",
        "print(f\"\\nDeeper Trees completed in {elapsed_time/60:.1f} minutes\")\n"
      ],
      "metadata": {
        "colab": {
          "base_uri": "https://localhost:8080/"
        },
        "id": "5o1gYssOulUK",
        "outputId": "c66d3cd9-9bdb-4834-e992-cfe1f4935f7b"
      },
      "execution_count": null,
      "outputs": [
        {
          "output_type": "stream",
          "name": "stdout",
          "text": [
            "Training Deeper Trees...\n",
            "Training until validation scores don't improve for 100 rounds\n",
            "Did not meet early stopping. Best iteration is:\n",
            "[799]\tvalid_0's multi_logloss: 0.275874\n",
            "\n",
            "Deeper Trees completed in 16.3 minutes\n"
          ]
        }
      ]
    },
    {
      "cell_type": "code",
      "source": [
        "# Menyimpan hasil Tuning\n",
        "joblib.dump(lgb_deep, \"/content/drive/MyDrive/Dataset/Percobaan_Enam/lgb_deep.pkl\")\n",
        "\n",
        "print(\"Model berhasil disimpan.\")"
      ],
      "metadata": {
        "colab": {
          "base_uri": "https://localhost:8080/"
        },
        "id": "0JN3f61gq7nu",
        "outputId": "f3c5fe27-65d3-42ab-9ce3-84746cede7fe"
      },
      "execution_count": null,
      "outputs": [
        {
          "output_type": "stream",
          "name": "stdout",
          "text": [
            "Model berhasil disimpan.\n"
          ]
        }
      ]
    },
    {
      "cell_type": "code",
      "source": [
        "# MenLoad kembali Hasil Tuning\n",
        "lgb_deep = joblib.load(\"/content/drive/MyDrive/Dataset/Percobaan_Enam/lgb_deep.pkl\")\n",
        "\n",
        "print(\"Model berhasil di-load kembali.\")"
      ],
      "metadata": {
        "id": "VFiBnximrQzd",
        "colab": {
          "base_uri": "https://localhost:8080/"
        },
        "outputId": "3224e0b4-62cf-4519-ec59-4393a15945e4"
      },
      "execution_count": null,
      "outputs": [
        {
          "output_type": "stream",
          "name": "stdout",
          "text": [
            "Model berhasil di-load kembali.\n"
          ]
        }
      ]
    },
    {
      "cell_type": "code",
      "source": [
        "y_val_pred = le.inverse_transform(lgb_deep.predict(X_val))\n",
        "y_test_pred = le.inverse_transform(lgb_deep.predict(X_test))\n",
        "\n",
        "val_acc_deep = accuracy_score(y_val, y_val_pred)\n",
        "test_acc_deep = accuracy_score(y_test, y_test_pred)\n",
        "val_f1_deep = f1_score(y_val, y_val_pred, average='macro')\n",
        "test_f1_deep = f1_score(y_test, y_test_pred, average='macro')\n",
        "\n",
        "print(f\"Deep Trees Results:\")\n",
        "print(f\"   Val:  Acc={val_acc_deep:.4f}, F1={val_f1_deep:.4f}\")\n",
        "print(f\"   Test: Acc={test_acc_deep:.4f}, F1={test_f1_deep:.4f}\")"
      ],
      "metadata": {
        "colab": {
          "base_uri": "https://localhost:8080/"
        },
        "id": "3UNRlbMPu5Qd",
        "outputId": "5beee480-542c-4fdc-be38-5b84faa3a584"
      },
      "execution_count": null,
      "outputs": [
        {
          "output_type": "stream",
          "name": "stdout",
          "text": [
            "Deep Trees Results:\n",
            "   Val:  Acc=0.8946, F1=0.7857\n",
            "   Test: Acc=0.8944, F1=0.7853\n"
          ]
        }
      ]
    },
    {
      "cell_type": "markdown",
      "source": [
        "CONFIG 2: Balanced Focus"
      ],
      "metadata": {
        "id": "iALz_dc7mUuC"
      }
    },
    {
      "cell_type": "code",
      "source": [
        "print(\"Testing Config 2: Balanced Model\")\n",
        "\n",
        "lgb_balanced = lgb.LGBMClassifier(\n",
        "    n_estimators=1000,\n",
        "    max_depth=20,\n",
        "    learning_rate=0.08,\n",
        "    num_leaves=45,\n",
        "    subsample=0.75,\n",
        "    colsample_bytree=0.75,\n",
        "    min_child_samples=15,\n",
        "    min_split_gain=0.01,\n",
        "    reg_alpha=0.3,\n",
        "    reg_lambda=0.3,\n",
        "    objective='multiclass',\n",
        "    num_class=8,\n",
        "    class_weight='balanced',  # ➕ Important for imbalanced!\n",
        "    random_state=42,\n",
        "    n_jobs=-1,\n",
        "    verbose=-1,\n",
        "    force_col_wise=True\n",
        ")"
      ],
      "metadata": {
        "colab": {
          "base_uri": "https://localhost:8080/"
        },
        "id": "8JPfet3dgcIN",
        "outputId": "1cbe112e-681b-471c-81cf-9b3ce4279c5e"
      },
      "execution_count": null,
      "outputs": [
        {
          "output_type": "stream",
          "name": "stdout",
          "text": [
            "Testing Config 2: Balanced Model\n"
          ]
        }
      ]
    },
    {
      "cell_type": "code",
      "source": [
        "# Fit Balance\n",
        "\n",
        "print(\"Training Balanced Model...\")\n",
        "\n",
        "start_time = time.time()\n",
        "\n",
        "lgb_balanced.fit(\n",
        "    X_train, y_train_encoded,\n",
        "    eval_set=[(X_val, y_val_encoded)],\n",
        "    callbacks=[lgb.early_stopping(100), lgb.log_evaluation(0)]\n",
        ")\n",
        "\n",
        "end_time = time.time()\n",
        "elapsed_time = end_time - start_time\n",
        "\n",
        "print(f\"\\nBalanced Model completed in {elapsed_time/60:.1f} minutes\")"
      ],
      "metadata": {
        "colab": {
          "base_uri": "https://localhost:8080/"
        },
        "id": "6yyVPpbvvAWA",
        "outputId": "fa6a53bd-6b68-4ab8-fa3f-b62a7f4c9358"
      },
      "execution_count": null,
      "outputs": [
        {
          "output_type": "stream",
          "name": "stdout",
          "text": [
            "Training Balanced Model...\n",
            "Training until validation scores don't improve for 100 rounds\n",
            "Early stopping, best iteration is:\n",
            "[819]\tvalid_0's multi_logloss: 0.276415\n",
            "\n",
            "Balanced Model completed in 18.1 minutes\n"
          ]
        }
      ]
    },
    {
      "cell_type": "code",
      "source": [
        "# Menyimpan Hasil Model\n",
        "joblib.dump(lgb_balanced, \"/content/drive/MyDrive/Dataset/Percobaan_Enam/lgb_balanced.pkl\")\n",
        "\n",
        "print(\"Model berhasil disimpan.\")"
      ],
      "metadata": {
        "colab": {
          "base_uri": "https://localhost:8080/"
        },
        "id": "-IUaeJjXvWZ0",
        "outputId": "7802eecd-95ac-47b2-acfc-8389bcd981bd"
      },
      "execution_count": null,
      "outputs": [
        {
          "output_type": "stream",
          "name": "stdout",
          "text": [
            "Model berhasil disimpan.\n"
          ]
        }
      ]
    },
    {
      "cell_type": "code",
      "source": [
        "# Meload Kembali Hasil Model\n",
        "lgb_balanced = joblib.load(\"/content/drive/MyDrive/Dataset/Percobaan_Enam/lgb_balanced.pkl\")\n",
        "\n",
        "print(\"Model berhasil di-load kembali.\")"
      ],
      "metadata": {
        "id": "G8gbw-cyvcWx",
        "colab": {
          "base_uri": "https://localhost:8080/"
        },
        "outputId": "ff72aca7-de80-43d3-cc42-1da567f8e7d5"
      },
      "execution_count": null,
      "outputs": [
        {
          "output_type": "stream",
          "name": "stdout",
          "text": [
            "Model berhasil di-load kembali.\n"
          ]
        }
      ]
    },
    {
      "cell_type": "code",
      "source": [
        "y_val_pred_bal = le.inverse_transform(lgb_balanced.predict(X_val))\n",
        "y_test_pred_bal = le.inverse_transform(lgb_balanced.predict(X_test))\n",
        "\n",
        "val_acc_bal = accuracy_score(y_val, y_val_pred_bal)\n",
        "test_acc_bal = accuracy_score(y_test, y_test_pred_bal)\n",
        "val_f1_bal = f1_score(y_val, y_val_pred_bal, average='macro')\n",
        "test_f1_bal = f1_score(y_test, y_test_pred_bal, average='macro')\n",
        "\n",
        "print(f\"Balanced Model Results:\")\n",
        "print(f\"   Val:  Acc={val_acc_bal:.4f}, F1={val_f1_bal:.4f}\")\n",
        "print(f\"   Test: Acc={test_acc_bal:.4f}, F1={test_f1_bal:.4f}\")"
      ],
      "metadata": {
        "colab": {
          "base_uri": "https://localhost:8080/"
        },
        "id": "tK3Cb0uyvRem",
        "outputId": "27bc030e-aea9-41eb-832c-7055bb55ad73"
      },
      "execution_count": null,
      "outputs": [
        {
          "output_type": "stream",
          "name": "stdout",
          "text": [
            "Balanced Model Results:\n",
            "   Val:  Acc=0.8948, F1=0.7857\n",
            "   Test: Acc=0.8942, F1=0.7839\n"
          ]
        }
      ]
    },
    {
      "cell_type": "markdown",
      "source": [
        "CONFIG 3: High Capacity Model"
      ],
      "metadata": {
        "id": "Fnex_n_CmvHD"
      }
    },
    {
      "cell_type": "code",
      "source": [
        "print(\" Testing Config 3: High Capacity\")\n",
        "\n",
        "lgb_high = lgb.LGBMClassifier(\n",
        "    n_estimators=1200,\n",
        "    max_depth=30,            # Very deep\n",
        "    learning_rate=0.03,      # Very low LR\n",
        "    num_leaves=100,          # Many leaves\n",
        "    subsample=0.7,\n",
        "    colsample_bytree=0.7,\n",
        "    min_child_samples=10,\n",
        "    min_split_gain=0.001,\n",
        "    reg_alpha=0.5,\n",
        "    reg_lambda=0.5,\n",
        "    objective='multiclass',\n",
        "    num_class=8,\n",
        "    random_state=42,\n",
        "    n_jobs=-1,\n",
        "    verbose=-1,\n",
        "    force_col_wise=True,\n",
        "    max_bin=511             # More bins for better splits\n",
        ")"
      ],
      "metadata": {
        "colab": {
          "base_uri": "https://localhost:8080/"
        },
        "id": "k2vG4dokgia0",
        "outputId": "88065b71-781f-4834-8223-df19f9765d10"
      },
      "execution_count": null,
      "outputs": [
        {
          "output_type": "stream",
          "name": "stdout",
          "text": [
            " Testing Config 3: High Capacity\n"
          ]
        }
      ]
    },
    {
      "cell_type": "code",
      "source": [
        "# Fit High\n",
        "\n",
        "print(\"Training High Capacity Model...\")\n",
        "\n",
        "start_time = time.time()\n",
        "\n",
        "lgb_high.fit(\n",
        "    X_train, y_train_encoded,\n",
        "    eval_set=[(X_val, y_val_encoded)],\n",
        "    callbacks=[lgb.early_stopping(150), lgb.log_evaluation(0)]\n",
        ")\n",
        "\n",
        "end_time = time.time()\n",
        "elapsed_time = end_time - start_time\n",
        "\n",
        "print(f\"\\nHigh Capacity Model completed in {elapsed_time/60:.1f} minutes\")"
      ],
      "metadata": {
        "colab": {
          "base_uri": "https://localhost:8080/"
        },
        "id": "hAdMGLkCvl7y",
        "outputId": "377d3c27-a60c-42f4-a832-a13d68707268"
      },
      "execution_count": null,
      "outputs": [
        {
          "output_type": "stream",
          "name": "stdout",
          "text": [
            "Training High Capacity Model...\n",
            "Training until validation scores don't improve for 150 rounds\n",
            "Did not meet early stopping. Best iteration is:\n",
            "[1200]\tvalid_0's multi_logloss: 0.273321\n",
            "\n",
            "High Capacity Model completed in 29.2 minutes\n"
          ]
        }
      ]
    },
    {
      "cell_type": "code",
      "source": [
        "# Menyimpan Hasil Model\n",
        "joblib.dump(lgb_high, \"/content/drive/MyDrive/Dataset/Percobaan_Enam/lgb_high.pkl\")\n",
        "\n",
        "print(\"Model berhasil disimpan.\")"
      ],
      "metadata": {
        "colab": {
          "base_uri": "https://localhost:8080/"
        },
        "id": "ZfhM2ykAv4zn",
        "outputId": "7150c4d7-5669-4a67-8a66-650fd2a4016c"
      },
      "execution_count": null,
      "outputs": [
        {
          "output_type": "stream",
          "name": "stdout",
          "text": [
            "Model berhasil disimpan.\n"
          ]
        }
      ]
    },
    {
      "cell_type": "code",
      "source": [
        "# Menload Kembali Hasil Model\n",
        "lgb_high = joblib.load(\"/content/drive/MyDrive/Dataset/Percobaan_Enam/lgb_high.pkl\")\n",
        "\n",
        "print(\"Model berhasil di-load kembali.\")"
      ],
      "metadata": {
        "id": "nO80JW73v8iJ",
        "colab": {
          "base_uri": "https://localhost:8080/"
        },
        "outputId": "7a5dfa89-c7a7-4960-b8fa-ab27ede1e568"
      },
      "execution_count": null,
      "outputs": [
        {
          "output_type": "stream",
          "name": "stdout",
          "text": [
            "Model berhasil di-load kembali.\n"
          ]
        }
      ]
    },
    {
      "cell_type": "code",
      "source": [
        "y_val_pred_high = le.inverse_transform(lgb_high.predict(X_val))\n",
        "y_test_pred_high = le.inverse_transform(lgb_high.predict(X_test))\n",
        "\n",
        "val_acc_high = accuracy_score(y_val, y_val_pred_high)\n",
        "test_acc_high = accuracy_score(y_test, y_test_pred_high)\n",
        "val_f1_high = f1_score(y_val, y_val_pred_high, average='macro')\n",
        "test_f1_high = f1_score(y_test, y_test_pred_high, average='macro')\n",
        "\n",
        "print(f\"High Capacity Results:\")\n",
        "print(f\"   Val:  Acc={val_acc_high:.4f}, F1={val_f1_high:.4f}\")\n",
        "print(f\"   Test: Acc={test_acc_high:.4f}, F1={test_f1_high:.4f}\")"
      ],
      "metadata": {
        "colab": {
          "base_uri": "https://localhost:8080/"
        },
        "id": "rWy5taD7vyvN",
        "outputId": "968a6c92-1e88-41a5-9b4b-3931930607e4"
      },
      "execution_count": null,
      "outputs": [
        {
          "output_type": "stream",
          "name": "stdout",
          "text": [
            "High Capacity Results:\n",
            "   Val:  Acc=0.8960, F1=0.7871\n",
            "   Test: Acc=0.8956, F1=0.7864\n"
          ]
        }
      ]
    },
    {
      "cell_type": "code",
      "source": [
        "# COMPARISON & SELECT BEST\n",
        "\n",
        "print(\" MODEL COMPARISON\")\n",
        "\n",
        "results = [\n",
        "    (\"Baseline LightGBM\", 0.8847, 0.7707),\n",
        "    (\"Deep Trees\", test_acc_deep, test_f1_deep),\n",
        "    (\"Balanced\", test_acc_bal, test_f1_bal),\n",
        "    (\"High Capacity\", test_acc_high, test_f1_high)\n",
        "]\n",
        "\n",
        "print(f\"\\n{'Model':<25s} {'Test Accuracy':<15s} {'Test F1':<15s}\")\n",
        "print(\"-\"*55)\n",
        "for name, acc, f1 in results:\n",
        "    print(f\"{name:<25s} {acc:.4f} ({acc*100:.2f}%)  {f1:.4f}\")\n",
        "\n",
        "# Find best\n",
        "best_idx = np.argmax([r[1] for r in results])\n",
        "best_name, best_acc, best_f1 = results[best_idx]\n",
        "\n",
        "print(f\"\\n🏆 BEST MODEL: {best_name}\")\n",
        "print(f\"   Test Accuracy: {best_acc:.4f} ({best_acc*100:.2f}%)\")\n",
        "print(f\"   Test F1:       {best_f1:.4f}\")\n",
        "print(f\"   Improvement:   +{(best_acc - 0.8847)*100:.2f}%\")"
      ],
      "metadata": {
        "colab": {
          "base_uri": "https://localhost:8080/"
        },
        "id": "W8zK59tugrPs",
        "outputId": "039fb8da-ca78-41dd-84d5-3066aa3ac681"
      },
      "execution_count": null,
      "outputs": [
        {
          "output_type": "stream",
          "name": "stdout",
          "text": [
            " MODEL COMPARISON\n",
            "\n",
            "Model                     Test Accuracy   Test F1        \n",
            "-------------------------------------------------------\n",
            "Baseline LightGBM         0.7862 (78.62%)  0.6987\n",
            "Deep Trees                0.8944 (89.44%)  0.7853\n",
            "Balanced                  0.8942 (89.42%)  0.7839\n",
            "High Capacity             0.8956 (89.56%)  0.7864\n",
            "\n",
            "🏆 BEST MODEL: High Capacity\n",
            "   Test Accuracy: 0.8956 (89.56%)\n",
            "   Test F1:       0.7864\n",
            "   Improvement:   +10.94%\n"
          ]
        }
      ]
    },
    {
      "cell_type": "code",
      "source": [
        "# Check RAM\n",
        "import psutil\n",
        "ram_available = psutil.virtual_memory().available / 1024**2\n",
        "print(f\"\\n💾 Available RAM: {ram_available:.2f} MB ({ram_available/1024:.2f} GB)\")"
      ],
      "metadata": {
        "colab": {
          "base_uri": "https://localhost:8080/"
        },
        "id": "Rkx09igJgwec",
        "outputId": "155040e2-ff22-4f55-bfd1-d6077d6ed117"
      },
      "execution_count": null,
      "outputs": [
        {
          "output_type": "stream",
          "name": "stdout",
          "text": [
            "\n",
            "💾 Available RAM: 7808.18 MB (7.63 GB)\n"
          ]
        }
      ]
    },
    {
      "cell_type": "markdown",
      "source": [
        "dan saya mau nanya lagi, apakah pada saat mau menjalankan lightgbm harus label encoder lagi atau tidak usah menjalankan label encoder lagi? soalnya saya sudah menjalankan label encoded di bagian preprocessing?"
      ],
      "metadata": {
        "id": "ZJEjjduhG1Ea"
      }
    },
    {
      "cell_type": "markdown",
      "source": [
        "**Advanced Hyperparameter Tuning**"
      ],
      "metadata": {
        "id": "VcLkwznFcYke"
      }
    },
    {
      "cell_type": "code",
      "source": [
        "# Prepare labels\n",
        "le = LabelEncoder()\n",
        "y_train_encoded = le.fit_transform(y_train)\n",
        "y_val_encoded = le.transform(y_val)\n",
        "y_test_encoded = le.transform(y_test)"
      ],
      "metadata": {
        "id": "zsgs52AedGbP"
      },
      "execution_count": null,
      "outputs": []
    },
    {
      "cell_type": "markdown",
      "source": [
        "CONFIG 1: Very Deep + Long Training"
      ],
      "metadata": {
        "id": "veT3X34IdMl2"
      }
    },
    {
      "cell_type": "code",
      "source": [
        "print(\"CONFIG 1: VERY DEEP MODEL (Extended Training)\")\n",
        "\n",
        "lgb_very_deep = lgb.LGBMClassifier(\n",
        "    n_estimators=2000,          # ⬆️⬆️ Much more iterations\n",
        "    max_depth=35,               # ⬆️ Very deep\n",
        "    learning_rate=0.02,         # ⬇️ Very slow learning\n",
        "    num_leaves=120,             # ⬆️ Many leaves\n",
        "    subsample=0.75,\n",
        "    colsample_bytree=0.75,\n",
        "    min_child_samples=8,\n",
        "    min_split_gain=0.0001,\n",
        "    reg_alpha=0.8,              # ⬆️ Strong regularization\n",
        "    reg_lambda=0.8,\n",
        "    objective='multiclass',\n",
        "    num_class=8,\n",
        "    random_state=42,\n",
        "    n_jobs=-1,\n",
        "    verbose=-1,\n",
        "    force_col_wise=True,\n",
        "    max_bin=511,\n",
        "    feature_fraction=0.8,       # ➕ Feature sampling\n",
        "    bagging_freq=5,             # ➕ Bagging\n",
        "    boost_from_average=True     # ➕ Better for multiclass\n",
        ")"
      ],
      "metadata": {
        "colab": {
          "base_uri": "https://localhost:8080/"
        },
        "id": "3F-sr-Sedh0G",
        "outputId": "56e9b28c-abde-4bff-ba9c-48fac098aad5"
      },
      "execution_count": null,
      "outputs": [
        {
          "output_type": "stream",
          "name": "stdout",
          "text": [
            "CONFIG 1: VERY DEEP MODEL (Extended Training)\n"
          ]
        }
      ]
    },
    {
      "cell_type": "code",
      "source": [
        "print(\"Training Very Deep Model...\")\n",
        "\n",
        "start_time = time.time()\n",
        "\n",
        "lgb_very_deep.fit(\n",
        "    X_train, y_train_encoded,\n",
        "    eval_set=[(X_val, y_val_encoded)],\n",
        "    callbacks=[\n",
        "        lgb.early_stopping(200),  # More patience\n",
        "        lgb.log_evaluation(100)\n",
        "    ]\n",
        ")\n",
        "\n",
        "end_time = time.time()\n",
        "training_time = end_time - start_time\n",
        "\n",
        "print(f\"Training time: {training_time/60:.1f} minutes\")"
      ],
      "metadata": {
        "colab": {
          "base_uri": "https://localhost:8080/"
        },
        "id": "MLAQYZM1dooP",
        "outputId": "d64fec0f-3831-47cc-e144-c65b091e6234"
      },
      "execution_count": null,
      "outputs": [
        {
          "output_type": "stream",
          "name": "stdout",
          "text": [
            "Training Very Deep Model...\n",
            "Training until validation scores don't improve for 200 rounds\n",
            "[100]\tvalid_0's multi_logloss: 0.370306\n",
            "[200]\tvalid_0's multi_logloss: 0.297698\n",
            "[300]\tvalid_0's multi_logloss: 0.285103\n",
            "[400]\tvalid_0's multi_logloss: 0.280535\n",
            "[500]\tvalid_0's multi_logloss: 0.277941\n",
            "[600]\tvalid_0's multi_logloss: 0.276354\n",
            "[700]\tvalid_0's multi_logloss: 0.275245\n",
            "[800]\tvalid_0's multi_logloss: 0.274371\n",
            "[900]\tvalid_0's multi_logloss: 0.273844\n",
            "[1000]\tvalid_0's multi_logloss: 0.273472\n",
            "[1100]\tvalid_0's multi_logloss: 0.273202\n",
            "[1200]\tvalid_0's multi_logloss: 0.273015\n",
            "[1300]\tvalid_0's multi_logloss: 0.272936\n",
            "[1400]\tvalid_0's multi_logloss: 0.272948\n",
            "[1500]\tvalid_0's multi_logloss: 0.272995\n",
            "Early stopping, best iteration is:\n",
            "[1344]\tvalid_0's multi_logloss: 0.272897\n",
            "Training time: 46.9 minutes\n"
          ]
        }
      ]
    },
    {
      "cell_type": "code",
      "source": [
        "# Menyimpan Hasil Model\n",
        "joblib.dump(lgb_very_deep, \"/content/drive/MyDrive/Dataset/Percobaan_Enam/lgb_very_deep.pkl\")\n",
        "\n",
        "print(\"Model berhasil disimpan.\")"
      ],
      "metadata": {
        "colab": {
          "base_uri": "https://localhost:8080/"
        },
        "id": "e_V0q6s9dzBe",
        "outputId": "4b425032-dc90-4540-fc36-0b16e984fd3a"
      },
      "execution_count": null,
      "outputs": [
        {
          "output_type": "stream",
          "name": "stdout",
          "text": [
            "Model berhasil disimpan.\n"
          ]
        }
      ]
    },
    {
      "cell_type": "code",
      "source": [
        "# Menload Kembali Hasil Model\n",
        "lgb_very_deep = joblib.load(\"/content/drive/MyDrive/Dataset/Percobaan_Enam/lgb_very_deep.pkl\")\n",
        "\n",
        "print(\"Model berhasil di-load kembali.\")"
      ],
      "metadata": {
        "colab": {
          "base_uri": "https://localhost:8080/"
        },
        "id": "N9wFl_CPeCx4",
        "outputId": "16fec331-9ab4-4b48-f2ae-48b97ebc41b0"
      },
      "execution_count": null,
      "outputs": [
        {
          "output_type": "stream",
          "name": "stdout",
          "text": [
            "Model berhasil di-load kembali.\n"
          ]
        }
      ]
    },
    {
      "cell_type": "code",
      "source": [
        "y_val_pred_1 = le.inverse_transform(lgb_very_deep.predict(X_val))\n",
        "y_test_pred_1 = le.inverse_transform(lgb_very_deep.predict(X_test))\n",
        "\n",
        "val_acc_1 = accuracy_score(y_val, y_val_pred_1)\n",
        "test_acc_1 = accuracy_score(y_test, y_test_pred_1)\n",
        "val_f1_1 = f1_score(y_val, y_val_pred_1, average='macro')\n",
        "test_f1_1 = f1_score(y_test, y_test_pred_1, average='macro')\n",
        "\n",
        "print(f\" Very Deep Model Results:\")\n",
        "print(f\"   Best iteration: {lgb_very_deep.best_iteration_}\")\n",
        "print(f\"   Val:  Acc={val_acc_1:.4f}, F1={val_f1_1:.4f}\")\n",
        "print(f\"   Test: Acc={test_acc_1:.4f}, F1={test_f1_1:.4f}\")"
      ],
      "metadata": {
        "colab": {
          "base_uri": "https://localhost:8080/"
        },
        "id": "D9AQPLKreWxK",
        "outputId": "35fd3749-5a7e-4ce5-d3f6-526225e10370"
      },
      "execution_count": null,
      "outputs": [
        {
          "output_type": "stream",
          "name": "stdout",
          "text": [
            " Very Deep Model Results:\n",
            "   Best iteration: 1344\n",
            "   Val:  Acc=0.8960, F1=0.7867\n",
            "   Test: Acc=0.8957, F1=0.7868\n"
          ]
        }
      ]
    },
    {
      "cell_type": "markdown",
      "source": [
        "CONFIG 2: Balanced + More Trees"
      ],
      "metadata": {
        "id": "nsOMb9EEe0aC"
      }
    },
    {
      "cell_type": "code",
      "source": [
        "print(\"CONFIG 2: BALANCED MODEL (More Trees)\")\n",
        "\n",
        "lgb_more_trees = lgb.LGBMClassifier(\n",
        "    n_estimators=1800,\n",
        "    max_depth=25,\n",
        "    learning_rate=0.04,\n",
        "    num_leaves=80,\n",
        "    subsample=0.8,\n",
        "    colsample_bytree=0.8,\n",
        "    min_child_samples=12,\n",
        "    min_split_gain=0.001,\n",
        "    reg_alpha=0.5,\n",
        "    reg_lambda=0.5,\n",
        "    objective='multiclass',\n",
        "    num_class=8,\n",
        "    class_weight='balanced',    # ⭐ Important!\n",
        "    random_state=42,\n",
        "    n_jobs=-1,\n",
        "    verbose=-1,\n",
        "    force_col_wise=True,\n",
        "    max_bin=511,\n",
        "    feature_fraction=0.85,\n",
        "    bagging_freq=3,\n",
        "    boost_from_average=True,\n",
        "    path_smooth=1.0             # ➕ Help with overfitting\n",
        ")"
      ],
      "metadata": {
        "colab": {
          "base_uri": "https://localhost:8080/"
        },
        "id": "pMUZAb8hfB2J",
        "outputId": "3621d208-555a-4f21-825e-9f55c6a19134"
      },
      "execution_count": null,
      "outputs": [
        {
          "output_type": "stream",
          "name": "stdout",
          "text": [
            "CONFIG 2: BALANCED MODEL (More Trees)\n"
          ]
        }
      ]
    },
    {
      "cell_type": "code",
      "source": [
        "print(\"Training Balanced Model (More Trees)...\")\n",
        "\n",
        "start_time = time.time()\n",
        "\n",
        "lgb_more_trees.fit(\n",
        "    X_train, y_train_encoded,\n",
        "    eval_set=[(X_val, y_val_encoded)],\n",
        "    callbacks=[\n",
        "        lgb.early_stopping(180),\n",
        "        lgb.log_evaluation(100)\n",
        "    ]\n",
        ")\n",
        "\n",
        "end_time = time.time()\n",
        "training_time = end_time - start_time\n",
        "\n",
        "print(f\"Training time: {training_time/60:.1f} minutes\")"
      ],
      "metadata": {
        "colab": {
          "base_uri": "https://localhost:8080/"
        },
        "id": "JxTScowFfHxk",
        "outputId": "d3d57c70-58ed-4841-f65c-504890e368bf"
      },
      "execution_count": null,
      "outputs": [
        {
          "output_type": "stream",
          "name": "stdout",
          "text": [
            "Training Balanced Model (More Trees)...\n",
            "Training until validation scores don't improve for 180 rounds\n",
            "[100]\tvalid_0's multi_logloss: 0.304737\n",
            "[200]\tvalid_0's multi_logloss: 0.285421\n",
            "[300]\tvalid_0's multi_logloss: 0.280272\n",
            "[400]\tvalid_0's multi_logloss: 0.277311\n",
            "[500]\tvalid_0's multi_logloss: 0.275731\n",
            "[600]\tvalid_0's multi_logloss: 0.274719\n",
            "[700]\tvalid_0's multi_logloss: 0.27414\n",
            "[800]\tvalid_0's multi_logloss: 0.273808\n",
            "[900]\tvalid_0's multi_logloss: 0.273624\n",
            "[1000]\tvalid_0's multi_logloss: 0.273505\n",
            "[1100]\tvalid_0's multi_logloss: 0.273625\n",
            "Early stopping, best iteration is:\n",
            "[993]\tvalid_0's multi_logloss: 0.273482\n",
            "Training time: 31.5 minutes\n"
          ]
        }
      ]
    },
    {
      "cell_type": "code",
      "source": [
        "# Menyimpan Hasil Model\n",
        "joblib.dump(lgb_more_trees, \"/content/drive/MyDrive/Dataset/Percobaan_Enam/lgb_more_trees.pkl\")\n",
        "\n",
        "print(\"Model berhasil disimpan.\")"
      ],
      "metadata": {
        "colab": {
          "base_uri": "https://localhost:8080/"
        },
        "id": "i-JnZAkRfNRn",
        "outputId": "7a7020b0-7e93-40ae-96d4-1c1333a0dec4"
      },
      "execution_count": null,
      "outputs": [
        {
          "output_type": "stream",
          "name": "stdout",
          "text": [
            "Model berhasil disimpan.\n"
          ]
        }
      ]
    },
    {
      "cell_type": "code",
      "source": [
        "# Menload Kembali Hasil Model\n",
        "lgb_more_trees = joblib.load(\"/content/drive/MyDrive/Dataset/Percobaan_Enam/lgb_more_trees.pkl\")\n",
        "\n",
        "print(\"Model berhasil di-load kembali.\")"
      ],
      "metadata": {
        "id": "qMOuFdSZgthp",
        "colab": {
          "base_uri": "https://localhost:8080/"
        },
        "outputId": "97cbf655-e866-4b60-9069-99d2b3cbbddc"
      },
      "execution_count": null,
      "outputs": [
        {
          "output_type": "stream",
          "name": "stdout",
          "text": [
            "Model berhasil di-load kembali.\n"
          ]
        }
      ]
    },
    {
      "cell_type": "code",
      "source": [
        "y_val_pred_2 = le.inverse_transform(lgb_more_trees.predict(X_val))\n",
        "y_test_pred_2 = le.inverse_transform(lgb_more_trees.predict(X_test))\n",
        "\n",
        "val_acc_2 = accuracy_score(y_val, y_val_pred_2)\n",
        "test_acc_2 = accuracy_score(y_test, y_test_pred_2)\n",
        "val_f1_2 = f1_score(y_val, y_val_pred_2, average='macro')\n",
        "test_f1_2 = f1_score(y_test, y_test_pred_2, average='macro')\n",
        "\n",
        "print(f\"Balanced (More Trees) Results:\")\n",
        "print(f\"   Best iteration: {lgb_more_trees.best_iteration_}\")\n",
        "print(f\"   Val:  Acc={val_acc_2:.4f}, F1={val_f1_2:.4f}\")\n",
        "print(f\"   Test: Acc={test_acc_2:.4f}, F1={test_f1_2:.4f}\")"
      ],
      "metadata": {
        "colab": {
          "base_uri": "https://localhost:8080/"
        },
        "id": "bM2R1Tn4g4ZZ",
        "outputId": "598a74e8-dff4-459d-b7d9-c6c6bf4c55e4"
      },
      "execution_count": null,
      "outputs": [
        {
          "output_type": "stream",
          "name": "stdout",
          "text": [
            "Balanced (More Trees) Results:\n",
            "   Best iteration: 993\n",
            "   Val:  Acc=0.8955, F1=0.7863\n",
            "   Test: Acc=0.8951, F1=0.7864\n"
          ]
        }
      ]
    },
    {
      "cell_type": "markdown",
      "source": [
        "CONFIG 3: Aggressive + Strong Regularization"
      ],
      "metadata": {
        "id": "9xV9hV-2g-Od"
      }
    },
    {
      "cell_type": "code",
      "source": [
        "print(\"CONFIG 3: AGGRESSIVE MODEL (Strong Regularization)\")\n",
        "\n",
        "lgb_aggressive = lgb.LGBMClassifier(\n",
        "    n_estimators=2500,          # ⬆️⬆️ Many iterations\n",
        "    max_depth=40,               # ⬆️⬆️ Very deep\n",
        "    learning_rate=0.015,        # ⬇️⬇️ Very slow\n",
        "    num_leaves=150,             # ⬆️⬆️ Many leaves\n",
        "    subsample=0.7,\n",
        "    colsample_bytree=0.7,\n",
        "    min_child_samples=5,\n",
        "    min_split_gain=0.00001,\n",
        "    reg_alpha=1.5,              # ⬆️⬆️ Very strong L1\n",
        "    reg_lambda=1.5,             # ⬆️⬆️ Very strong L2\n",
        "    objective='multiclass',\n",
        "    num_class=8,\n",
        "    random_state=42,\n",
        "    n_jobs=-1,\n",
        "    verbose=-1,\n",
        "    force_col_wise=True,\n",
        "    max_bin=511,\n",
        "    feature_fraction=0.75,\n",
        "    bagging_freq=7,\n",
        "    boost_from_average=True,\n",
        "    path_smooth=2.0,            # ⬆️ More smoothing\n",
        "    min_data_in_bin=3           # ➕ Prevent overfitting\n",
        ")"
      ],
      "metadata": {
        "colab": {
          "base_uri": "https://localhost:8080/"
        },
        "id": "vDd_mcFThJ5_",
        "outputId": "e86a2473-1e37-430b-eccc-167c78955c9b"
      },
      "execution_count": null,
      "outputs": [
        {
          "output_type": "stream",
          "name": "stdout",
          "text": [
            "CONFIG 3: AGGRESSIVE MODEL (Strong Regularization)\n"
          ]
        }
      ]
    },
    {
      "cell_type": "code",
      "source": [
        "print(\"Training Aggressive Model...\")\n",
        "\n",
        "start_time = time.time()\n",
        "\n",
        "lgb_aggressive.fit(\n",
        "    X_train, y_train_encoded,\n",
        "    eval_set=[(X_val, y_val_encoded)],\n",
        "    callbacks=[\n",
        "        lgb.early_stopping(250),  # Much more patience\n",
        "        lgb.log_evaluation(100)\n",
        "    ]\n",
        ")\n",
        "\n",
        "end_time = time.time()\n",
        "training_time = end_time - start_time\n",
        "\n",
        "print(f\"Training time: {training_time/60:.1f} minutes\")"
      ],
      "metadata": {
        "colab": {
          "base_uri": "https://localhost:8080/"
        },
        "id": "3VCvxibwhdSX",
        "outputId": "e6950451-26d9-4031-8ba4-6a2d4560a203"
      },
      "execution_count": null,
      "outputs": [
        {
          "output_type": "stream",
          "name": "stdout",
          "text": [
            "Training Aggressive Model...\n",
            "Training until validation scores don't improve for 250 rounds\n",
            "[100]\tvalid_0's multi_logloss: 0.436075\n",
            "[200]\tvalid_0's multi_logloss: 0.313299\n",
            "[300]\tvalid_0's multi_logloss: 0.290302\n",
            "[400]\tvalid_0's multi_logloss: 0.282592\n",
            "[500]\tvalid_0's multi_logloss: 0.279242\n",
            "[600]\tvalid_0's multi_logloss: 0.27709\n",
            "[700]\tvalid_0's multi_logloss: 0.275704\n",
            "[800]\tvalid_0's multi_logloss: 0.274688\n",
            "[900]\tvalid_0's multi_logloss: 0.274045\n",
            "[1000]\tvalid_0's multi_logloss: 0.273524\n",
            "[1100]\tvalid_0's multi_logloss: 0.273041\n",
            "[1200]\tvalid_0's multi_logloss: 0.272722\n",
            "[1300]\tvalid_0's multi_logloss: 0.272505\n",
            "[1400]\tvalid_0's multi_logloss: 0.272432\n",
            "[1500]\tvalid_0's multi_logloss: 0.272436\n",
            "[1600]\tvalid_0's multi_logloss: 0.272408\n",
            "[1700]\tvalid_0's multi_logloss: 0.272454\n",
            "[1800]\tvalid_0's multi_logloss: 0.272526\n",
            "Early stopping, best iteration is:\n",
            "[1560]\tvalid_0's multi_logloss: 0.272378\n",
            "Training time: 58.4 minutes\n"
          ]
        }
      ]
    },
    {
      "cell_type": "code",
      "source": [
        "# Menyimpan Hasil Model\n",
        "joblib.dump(lgb_aggressive, \"/content/drive/MyDrive/Dataset/Percobaan_Enam/lgb_aggressive.pkl\")\n",
        "\n",
        "print(\"Model berhasil disimpan.\")"
      ],
      "metadata": {
        "colab": {
          "base_uri": "https://localhost:8080/"
        },
        "id": "WRwqJQNHhnz6",
        "outputId": "3414561e-ff56-4e0a-b750-3382bb961bf8"
      },
      "execution_count": null,
      "outputs": [
        {
          "output_type": "stream",
          "name": "stdout",
          "text": [
            "Model berhasil disimpan.\n"
          ]
        }
      ]
    },
    {
      "cell_type": "code",
      "source": [
        "# Menload Kembali Hasil Model\n",
        "lgb_aggressive = joblib.load(\"/content/drive/MyDrive/Dataset/Percobaan_Enam/lgb_aggressive.pkl\")\n",
        "\n",
        "print(\"Model berhasil di-load kembali.\")"
      ],
      "metadata": {
        "id": "w-RIIHVOhuEr",
        "colab": {
          "base_uri": "https://localhost:8080/"
        },
        "outputId": "a01cf696-60c3-428c-b377-22b2b199a61f"
      },
      "execution_count": null,
      "outputs": [
        {
          "output_type": "stream",
          "name": "stdout",
          "text": [
            "Model berhasil di-load kembali.\n"
          ]
        }
      ]
    },
    {
      "cell_type": "code",
      "source": [
        "y_val_pred_3 = le.inverse_transform(lgb_aggressive.predict(X_val))\n",
        "y_test_pred_3 = le.inverse_transform(lgb_aggressive.predict(X_test))\n",
        "\n",
        "val_acc_3 = accuracy_score(y_val, y_val_pred_3)\n",
        "test_acc_3 = accuracy_score(y_test, y_test_pred_3)\n",
        "val_f1_3 = f1_score(y_val, y_val_pred_3, average='macro')\n",
        "test_f1_3 = f1_score(y_test, y_test_pred_3, average='macro')\n",
        "\n",
        "print(f\"Aggressive Model Results:\")\n",
        "print(f\"   Best iteration: {lgb_aggressive.best_iteration_}\")\n",
        "print(f\"   Val:  Acc={val_acc_3:.4f}, F1={val_f1_3:.4f}\")\n",
        "print(f\"   Test: Acc={test_acc_3:.4f}, F1={test_f1_3:.4f}\")"
      ],
      "metadata": {
        "colab": {
          "base_uri": "https://localhost:8080/"
        },
        "id": "KiTi1a1bh4-5",
        "outputId": "a7ce1d76-831e-4908-c879-d93684079d51"
      },
      "execution_count": null,
      "outputs": [
        {
          "output_type": "stream",
          "name": "stdout",
          "text": [
            "Aggressive Model Results:\n",
            "   Best iteration: 1560\n",
            "   Val:  Acc=0.8961, F1=0.7871\n",
            "   Test: Acc=0.8956, F1=0.7864\n"
          ]
        }
      ]
    },
    {
      "cell_type": "markdown",
      "source": [
        "CONFIG 4: Wide & Shallow (Different Approach)"
      ],
      "metadata": {
        "id": "QQ6b-zsjiEBX"
      }
    },
    {
      "cell_type": "code",
      "source": [
        "print(\"CONFIG 4: WIDE & SHALLOW MODEL\")\n",
        "\n",
        "lgb_wide = lgb.LGBMClassifier(\n",
        "    n_estimators=2000,\n",
        "    max_depth=15,               # ⬇️ Shallower\n",
        "    learning_rate=0.03,\n",
        "    num_leaves=200,             # ⬆️⬆️ Very wide\n",
        "    subsample=0.85,\n",
        "    colsample_bytree=0.85,\n",
        "    min_child_samples=20,\n",
        "    min_split_gain=0.01,\n",
        "    reg_alpha=0.3,\n",
        "    reg_lambda=0.3,\n",
        "    objective='multiclass',\n",
        "    num_class=8,\n",
        "    class_weight='balanced',\n",
        "    random_state=42,\n",
        "    n_jobs=-1,\n",
        "    verbose=-1,\n",
        "    force_col_wise=True,\n",
        "    max_bin=511,\n",
        "    feature_fraction=0.9,\n",
        "    bagging_freq=2,\n",
        "    boost_from_average=True\n",
        ")"
      ],
      "metadata": {
        "colab": {
          "base_uri": "https://localhost:8080/"
        },
        "id": "stXWSMpHiOzA",
        "outputId": "fa232860-d7ce-4c35-fcde-a3d95a3d9c21"
      },
      "execution_count": null,
      "outputs": [
        {
          "output_type": "stream",
          "name": "stdout",
          "text": [
            "CONFIG 4: WIDE & SHALLOW MODEL\n"
          ]
        }
      ]
    },
    {
      "cell_type": "code",
      "source": [
        "print(\"Training Wide & Shallow Model...\")\n",
        "\n",
        "start_time = time.time()\n",
        "\n",
        "lgb_wide.fit(\n",
        "    X_train, y_train_encoded,\n",
        "    eval_set=[(X_val, y_val_encoded)],\n",
        "    callbacks=[\n",
        "        lgb.early_stopping(200),\n",
        "        lgb.log_evaluation(100)\n",
        "    ]\n",
        ")\n",
        "\n",
        "end_time = time.time()\n",
        "training_time = end_time - start_time\n",
        "\n",
        "print(f\"Training time: {training_time/60:.1f} minutes\")"
      ],
      "metadata": {
        "colab": {
          "base_uri": "https://localhost:8080/"
        },
        "id": "ik5uLlmXiT4H",
        "outputId": "eb7144a5-a011-4ee4-97e3-e9e8be5b8c5c"
      },
      "execution_count": null,
      "outputs": [
        {
          "output_type": "stream",
          "name": "stdout",
          "text": [
            "Training Wide & Shallow Model...\n",
            "Training until validation scores don't improve for 200 rounds\n",
            "[100]\tvalid_0's multi_logloss: 0.311078\n",
            "[200]\tvalid_0's multi_logloss: 0.282147\n",
            "[300]\tvalid_0's multi_logloss: 0.276714\n",
            "[400]\tvalid_0's multi_logloss: 0.274521\n",
            "[500]\tvalid_0's multi_logloss: 0.273639\n",
            "[600]\tvalid_0's multi_logloss: 0.273379\n",
            "[700]\tvalid_0's multi_logloss: 0.273561\n",
            "Early stopping, best iteration is:\n",
            "[598]\tvalid_0's multi_logloss: 0.273367\n",
            "Training time: 29.5 minutes\n"
          ]
        }
      ]
    },
    {
      "cell_type": "code",
      "source": [
        "# Menyimpan Hasil Model\n",
        "joblib.dump(lgb_wide, \"/content/drive/MyDrive/Dataset/Percobaan_Enam/lgb_wide.pkl\")\n",
        "\n",
        "print(\"Model berhasil disimpan.\")"
      ],
      "metadata": {
        "colab": {
          "base_uri": "https://localhost:8080/"
        },
        "id": "_HVUqPoHiVCk",
        "outputId": "a834d3d5-2be4-421d-842c-75cd06985ee3"
      },
      "execution_count": null,
      "outputs": [
        {
          "output_type": "stream",
          "name": "stdout",
          "text": [
            "Model berhasil disimpan.\n"
          ]
        }
      ]
    },
    {
      "cell_type": "code",
      "source": [
        "# Menload Kembali Hasil Model\n",
        "lgb_wide = joblib.load(\"/content/drive/MyDrive/Dataset/Percobaan_Enam/lgb_wide.pkl\")\n",
        "\n",
        "print(\"Model berhasil di-load kembali.\")"
      ],
      "metadata": {
        "id": "L0OgyEKBiiiW",
        "colab": {
          "base_uri": "https://localhost:8080/"
        },
        "outputId": "3d0d8425-3169-425a-f880-d7c20d95b767"
      },
      "execution_count": null,
      "outputs": [
        {
          "output_type": "stream",
          "name": "stdout",
          "text": [
            "Model berhasil di-load kembali.\n"
          ]
        }
      ]
    },
    {
      "cell_type": "code",
      "source": [
        "y_val_pred_4 = le.inverse_transform(lgb_wide.predict(X_val))\n",
        "y_test_pred_4 = le.inverse_transform(lgb_wide.predict(X_test))\n",
        "\n",
        "val_acc_4 = accuracy_score(y_val, y_val_pred_4)\n",
        "test_acc_4 = accuracy_score(y_test, y_test_pred_4)\n",
        "val_f1_4 = f1_score(y_val, y_val_pred_4, average='macro')\n",
        "test_f1_4 = f1_score(y_test, y_test_pred_4, average='macro')\n",
        "\n",
        "print(f\"Wide & Shallow Results:\")\n",
        "print(f\"   Best iteration: {lgb_wide.best_iteration_}\")\n",
        "print(f\"   Val:  Acc={val_acc_4:.4f}, F1={val_f1_4:.4f}\")\n",
        "print(f\"   Test: Acc={test_acc_4:.4f}, F1={test_f1_4:.4f}\")"
      ],
      "metadata": {
        "colab": {
          "base_uri": "https://localhost:8080/"
        },
        "id": "aFmBzo63iq3I",
        "outputId": "d108f1cf-38e8-4886-a4b1-4ea84c2d1b2d"
      },
      "execution_count": null,
      "outputs": [
        {
          "output_type": "stream",
          "name": "stdout",
          "text": [
            "Wide & Shallow Results:\n",
            "   Best iteration: 598\n",
            "   Val:  Acc=0.8958, F1=0.7861\n",
            "   Test: Acc=0.8953, F1=0.7857\n"
          ]
        }
      ]
    },
    {
      "cell_type": "markdown",
      "source": [
        "COMPREHENSIVE COMPARISON"
      ],
      "metadata": {
        "id": "BPTvWs5Ci2GK"
      }
    },
    {
      "cell_type": "code",
      "source": [
        "print(\"COMPREHENSIVE MODEL COMPARISON\")\n",
        "\n",
        "results = [\n",
        "    (\"Previous Baseline\", 0.7862, 0.6987, \"-\"),\n",
        "    (\"Previous Best (High Capacity)\", 0.7995, 0.7122, \"-\"),\n",
        "    (\"Very Deep\", test_acc_1, test_f1_1, lgb_very_deep.best_iteration_),\n",
        "    (\"Balanced (More Trees)\", test_acc_2, test_f1_2, lgb_more_trees.best_iteration_),\n",
        "    (\"Aggressive\", test_acc_3, test_f1_3, lgb_aggressive.best_iteration_),\n",
        "    (\"Wide & Shallow\", test_acc_4, test_f1_4, lgb_wide.best_iteration_)\n",
        "]\n",
        "\n",
        "print(f\"\\n{'Model':<30s} {'Accuracy':<12s} {'F1 Score':<12s} {'Best Iter':<12s}\")\n",
        "print(\"-\"*70)\n",
        "for name, acc, f1, iter_num in results:\n",
        "    print(f\"{name:<30s} {acc:.4f} ({acc*100:.2f}%)  {f1:.4f}      {str(iter_num):<10s}\")\n",
        "\n",
        "# Find absolute best\n",
        "test_accuracies = [r[1] for r in results[2:]]  # Skip baselines\n",
        "best_idx = np.argmax(test_accuracies) + 2\n",
        "best_name, best_acc, best_f1, best_iter = results[best_idx]\n",
        "\n",
        "print(f\"\\n🏆 ABSOLUTE BEST MODEL: {best_name}\")\n",
        "print(f\"   Test Accuracy: {best_acc:.4f} ({best_acc*100:.2f}%)\")\n",
        "print(f\"   Test F1:       {best_f1:.4f}\")\n",
        "print(f\"   Best Iteration: {best_iter}\")\n",
        "print(f\"   Improvement over baseline: +{(best_acc - 0.7862)*100:.2f}%\")\n",
        "\n",
        "# Select best model object\n",
        "models_dict = {\n",
        "    \"Very Deep\": lgb_very_deep,\n",
        "    \"Balanced (More Trees)\": lgb_more_trees,\n",
        "    \"Aggressive\": lgb_aggressive,\n",
        "    \"Wide & Shallow\": lgb_wide\n",
        "}\n",
        "\n",
        "best_model_advanced = models_dict[best_name]"
      ],
      "metadata": {
        "colab": {
          "base_uri": "https://localhost:8080/"
        },
        "id": "8tzHwIRejLB1",
        "outputId": "5f0571f5-855a-4fef-f803-92c40cb83d47"
      },
      "execution_count": null,
      "outputs": [
        {
          "output_type": "stream",
          "name": "stdout",
          "text": [
            "COMPREHENSIVE MODEL COMPARISON\n",
            "\n",
            "Model                          Accuracy     F1 Score     Best Iter   \n",
            "----------------------------------------------------------------------\n",
            "Previous Baseline              0.7862 (78.62%)  0.6987      -         \n",
            "Previous Best (High Capacity)  0.7995 (79.95%)  0.7122      -         \n",
            "Very Deep                      0.8957 (89.57%)  0.7868      1344      \n",
            "Balanced (More Trees)          0.8951 (89.51%)  0.7864      993       \n",
            "Aggressive                     0.8956 (89.56%)  0.7864      1560      \n",
            "Wide & Shallow                 0.8953 (89.53%)  0.7857      598       \n",
            "\n",
            "🏆 ABSOLUTE BEST MODEL: Very Deep\n",
            "   Test Accuracy: 0.8957 (89.57%)\n",
            "   Test F1:       0.7868\n",
            "   Best Iteration: 1344\n",
            "   Improvement over baseline: +10.95%\n"
          ]
        }
      ]
    },
    {
      "cell_type": "markdown",
      "source": [
        "SOFT VOTING ENSEMBLE dari 4 Model"
      ],
      "metadata": {
        "id": "RfNxZdiHjSPN"
      }
    },
    {
      "cell_type": "code",
      "source": [
        "print(\"ENSEMBLE: SOFT VOTING (All 4 Models)\")\n",
        "\n",
        "print(\"Creating ensemble predictions...\")\n",
        "\n",
        "# Get probability predictions from all models\n",
        "\n",
        "start_time = time.time()\n",
        "\n",
        "y_val_proba_1 = lgb_very_deep.predict_proba(X_val)\n",
        "y_val_proba_2 = lgb_more_trees.predict_proba(X_val)\n",
        "y_val_proba_3 = lgb_aggressive.predict_proba(X_val)\n",
        "y_val_proba_4 = lgb_wide.predict_proba(X_val)\n",
        "\n",
        "y_test_proba_1 = lgb_very_deep.predict_proba(X_test)\n",
        "y_test_proba_2 = lgb_more_trees.predict_proba(X_test)\n",
        "y_test_proba_3 = lgb_aggressive.predict_proba(X_test)\n",
        "y_test_proba_4 = lgb_wide.predict_proba(X_test)\n",
        "\n",
        "end_time = time.time()\n",
        "prediction_time = end_time - start_time\n",
        "\n",
        "print(f\"Prediction time: {prediction_time/60:.1f} minutes\")"
      ],
      "metadata": {
        "colab": {
          "base_uri": "https://localhost:8080/"
        },
        "id": "fLwbLdYv-2Cm",
        "outputId": "212472bf-6400-42ba-9b1d-fa84fb15756c"
      },
      "execution_count": null,
      "outputs": [
        {
          "output_type": "stream",
          "name": "stdout",
          "text": [
            "ENSEMBLE: SOFT VOTING (All 4 Models)\n",
            "Creating ensemble predictions...\n",
            "Prediction time: 26.9 minutes\n"
          ]
        }
      ]
    },
    {
      "cell_type": "code",
      "source": [
        "# Menyimpan Hasil Ensemble\n",
        "joblib.dump((y_val_proba_1, y_val_proba_2, y_val_proba_3, y_val_proba_4), \"/content/drive/MyDrive/Dataset/Percobaan_Lima/ensemble_val_proba.pkl\")\n",
        "joblib.dump((y_test_proba_1, y_test_proba_2, y_test_proba_3, y_test_proba_4), \"/content/drive/MyDrive/Dataset/Percobaan_Lima/ensemble_test_proba.pkl\")\n",
        "\n",
        "print(\"Hasil Ensemble berhasil disimpan.\")"
      ],
      "metadata": {
        "id": "hZJ-hVhGD7Dy",
        "colab": {
          "base_uri": "https://localhost:8080/"
        },
        "outputId": "dce63f70-db34-408b-8ac4-7a6428e1231f"
      },
      "execution_count": null,
      "outputs": [
        {
          "output_type": "stream",
          "name": "stdout",
          "text": [
            "Hasil Ensemble berhasil disimpan.\n"
          ]
        }
      ]
    },
    {
      "cell_type": "code",
      "source": [
        "# Menload Kembali Hasil Ensemble\n",
        "y_val_proba_1, y_val_proba_2, y_val_proba_3, y_val_proba_4 = joblib.load(\"/content/drive/MyDrive/Dataset/Percobaan_Lima/ensemble_val_proba.pkl\")\n",
        "y_test_proba_1, y_test_proba_2, y_test_proba_3, y_test_proba_4 = joblib.load(\"/content/drive/MyDrive/Dataset/Percobaan_Lima/ensemble_test_proba.pkl\")\n",
        "\n",
        "print(\"Hasil Ensemble berhasil di-load kembali.\")"
      ],
      "metadata": {
        "id": "bqlOW74cEUwT"
      },
      "execution_count": null,
      "outputs": []
    },
    {
      "cell_type": "code",
      "source": [
        "# Average probabilities\n",
        "y_val_proba_ensemble = (y_val_proba_1 + y_val_proba_2 + y_val_proba_3 + y_val_proba_4) / 4\n",
        "y_test_proba_ensemble = (y_test_proba_1 + y_test_proba_2 + y_test_proba_3 + y_test_proba_4) / 4"
      ],
      "metadata": {
        "id": "yh2fdTGG-8OL"
      },
      "execution_count": null,
      "outputs": []
    },
    {
      "cell_type": "code",
      "source": [
        "# Get predictions\n",
        "y_val_pred_ensemble = le.inverse_transform(np.argmax(y_val_proba_ensemble, axis=1))\n",
        "y_test_pred_ensemble = le.inverse_transform(np.argmax(y_test_proba_ensemble, axis=1))\n",
        "\n",
        "val_acc_ensemble = accuracy_score(y_val, y_val_pred_ensemble)\n",
        "test_acc_ensemble = accuracy_score(y_test, y_test_pred_ensemble)\n",
        "val_f1_ensemble = f1_score(y_val, y_val_pred_ensemble, average='macro')\n",
        "test_f1_ensemble = f1_score(y_test, y_test_pred_ensemble, average='macro')"
      ],
      "metadata": {
        "id": "bKTdLEpp_Gat"
      },
      "execution_count": null,
      "outputs": []
    },
    {
      "cell_type": "code",
      "source": [
        "print(f\"Ensemble (4 Models) Results:\")\n",
        "print(f\"   Val:  Acc={val_acc_ensemble:.4f}, F1={val_f1_ensemble:.4f}\")\n",
        "print(f\"   Test: Acc={test_acc_ensemble:.4f}, F1={test_f1_ensemble:.4f}\")\n",
        "\n",
        "if test_acc_ensemble > best_acc:\n",
        "    print(f\"\\n🎉 ENSEMBLE WINS! Improvement: +{(test_acc_ensemble - best_acc)*100:.2f}%\")\n",
        "    final_best_name = \"Ensemble (4 Models)\"\n",
        "    final_best_acc = test_acc_ensemble\n",
        "    final_best_f1 = test_f1_ensemble\n",
        "\n",
        "    # Save ensemble models\n",
        "    ensemble_package = {\n",
        "        'models': [lgb_very_deep, lgb_more_trees, lgb_aggressive, lgb_wide],\n",
        "        'label_encoder': le,\n",
        "        'feature_names': list(X_train.columns) if hasattr(X_train, 'columns') else None\n",
        "    }\n",
        "    joblib.dump(ensemble_package, 'best_ensemble_advanced.pkl')\n",
        "    print(\"Ensemble saved: best_ensemble_advanced.pkl\")\n",
        "else:\n",
        "    print(f\"Single model still better. Using: {best_name}\")\n",
        "    final_best_name = best_name\n",
        "    final_best_acc = best_acc\n",
        "    final_best_f1 = best_f1\n",
        "\n",
        "    joblib.dump(best_model_advanced, 'best_single_model_advanced.pkl')\n",
        "    print(f\"Best single model saved: best_single_model_advanced.pkl\")"
      ],
      "metadata": {
        "id": "KWgIj_wocga2",
        "colab": {
          "base_uri": "https://localhost:8080/"
        },
        "outputId": "306114a0-f3a8-4dc4-87b7-230bda8c1135"
      },
      "execution_count": null,
      "outputs": [
        {
          "output_type": "stream",
          "name": "stdout",
          "text": [
            "Ensemble (4 Models) Results:\n",
            "   Val:  Acc=0.8962, F1=0.7873\n",
            "   Test: Acc=0.8956, F1=0.7865\n",
            "Single model still better. Using: Very Deep\n",
            "Best single model saved: best_single_model_advanced.pkl\n"
          ]
        }
      ]
    },
    {
      "cell_type": "code",
      "source": [
        "# Menload Kembali Hasil Ensemble Model\n",
        "ensemble_package = joblib.load('best_ensemble_advanced.pkl')\n",
        "\n",
        "lgb_very_deep = ensemble_package['models'][0]\n",
        "lgb_more_trees = ensemble_package['models'][1]\n",
        "lgb_aggressive = ensemble_package['models'][2]\n",
        "lgb_wide = ensemble_package['models'][3]\n",
        "le = ensemble_package['label_encoder']\n",
        "\n",
        "print(\"Ensemble model berhasil di-load kembali.\")"
      ],
      "metadata": {
        "id": "pW0RCMXaCy7_",
        "colab": {
          "base_uri": "https://localhost:8080/",
          "height": 332
        },
        "outputId": "f010ab17-a79d-47a6-c036-969c47fefe4f"
      },
      "execution_count": null,
      "outputs": [
        {
          "output_type": "error",
          "ename": "FileNotFoundError",
          "evalue": "[Errno 2] No such file or directory: 'best_ensemble_advanced.pkl'",
          "traceback": [
            "\u001b[0;31m---------------------------------------------------------------------------\u001b[0m",
            "\u001b[0;31mFileNotFoundError\u001b[0m                         Traceback (most recent call last)",
            "\u001b[0;32m/tmp/ipython-input-700228577.py\u001b[0m in \u001b[0;36m<cell line: 0>\u001b[0;34m()\u001b[0m\n\u001b[1;32m      1\u001b[0m \u001b[0;31m# Menload Kembali Hasil Ensemble Model\u001b[0m\u001b[0;34m\u001b[0m\u001b[0;34m\u001b[0m\u001b[0m\n\u001b[0;32m----> 2\u001b[0;31m \u001b[0mensemble_package\u001b[0m \u001b[0;34m=\u001b[0m \u001b[0mjoblib\u001b[0m\u001b[0;34m.\u001b[0m\u001b[0mload\u001b[0m\u001b[0;34m(\u001b[0m\u001b[0;34m'best_ensemble_advanced.pkl'\u001b[0m\u001b[0;34m)\u001b[0m\u001b[0;34m\u001b[0m\u001b[0;34m\u001b[0m\u001b[0m\n\u001b[0m\u001b[1;32m      3\u001b[0m \u001b[0;34m\u001b[0m\u001b[0m\n\u001b[1;32m      4\u001b[0m \u001b[0mlgb_very_deep\u001b[0m \u001b[0;34m=\u001b[0m \u001b[0mensemble_package\u001b[0m\u001b[0;34m[\u001b[0m\u001b[0;34m'models'\u001b[0m\u001b[0;34m]\u001b[0m\u001b[0;34m[\u001b[0m\u001b[0;36m0\u001b[0m\u001b[0;34m]\u001b[0m\u001b[0;34m\u001b[0m\u001b[0;34m\u001b[0m\u001b[0m\n\u001b[1;32m      5\u001b[0m \u001b[0mlgb_more_trees\u001b[0m \u001b[0;34m=\u001b[0m \u001b[0mensemble_package\u001b[0m\u001b[0;34m[\u001b[0m\u001b[0;34m'models'\u001b[0m\u001b[0;34m]\u001b[0m\u001b[0;34m[\u001b[0m\u001b[0;36m1\u001b[0m\u001b[0;34m]\u001b[0m\u001b[0;34m\u001b[0m\u001b[0;34m\u001b[0m\u001b[0m\n",
            "\u001b[0;32m/usr/local/lib/python3.12/dist-packages/joblib/numpy_pickle.py\u001b[0m in \u001b[0;36mload\u001b[0;34m(filename, mmap_mode, ensure_native_byte_order)\u001b[0m\n\u001b[1;32m    733\u001b[0m             \u001b[0mobj\u001b[0m \u001b[0;34m=\u001b[0m \u001b[0m_unpickle\u001b[0m\u001b[0;34m(\u001b[0m\u001b[0mfobj\u001b[0m\u001b[0;34m,\u001b[0m \u001b[0mensure_native_byte_order\u001b[0m\u001b[0;34m=\u001b[0m\u001b[0mensure_native_byte_order\u001b[0m\u001b[0;34m)\u001b[0m\u001b[0;34m\u001b[0m\u001b[0;34m\u001b[0m\u001b[0m\n\u001b[1;32m    734\u001b[0m     \u001b[0;32melse\u001b[0m\u001b[0;34m:\u001b[0m\u001b[0;34m\u001b[0m\u001b[0;34m\u001b[0m\u001b[0m\n\u001b[0;32m--> 735\u001b[0;31m         \u001b[0;32mwith\u001b[0m \u001b[0mopen\u001b[0m\u001b[0;34m(\u001b[0m\u001b[0mfilename\u001b[0m\u001b[0;34m,\u001b[0m \u001b[0;34m\"rb\"\u001b[0m\u001b[0;34m)\u001b[0m \u001b[0;32mas\u001b[0m \u001b[0mf\u001b[0m\u001b[0;34m:\u001b[0m\u001b[0;34m\u001b[0m\u001b[0;34m\u001b[0m\u001b[0m\n\u001b[0m\u001b[1;32m    736\u001b[0m             with _validate_fileobject_and_memmap(f, filename, mmap_mode) as (\n\u001b[1;32m    737\u001b[0m                 \u001b[0mfobj\u001b[0m\u001b[0;34m,\u001b[0m\u001b[0;34m\u001b[0m\u001b[0;34m\u001b[0m\u001b[0m\n",
            "\u001b[0;31mFileNotFoundError\u001b[0m: [Errno 2] No such file or directory: 'best_ensemble_advanced.pkl'"
          ]
        }
      ]
    },
    {
      "cell_type": "code",
      "source": [
        "# Menload Kembali Hasil Single Model Advanced\n",
        "best_model_advanced = joblib.load('best_single_model_advanced.pkl')\n",
        "\n",
        "print(\"Single model berhasil di-load kembali.\")"
      ],
      "metadata": {
        "id": "dy47USxXDTks",
        "colab": {
          "base_uri": "https://localhost:8080/"
        },
        "outputId": "194d33dc-d1eb-4a7e-be81-d0831680b69f"
      },
      "execution_count": null,
      "outputs": [
        {
          "output_type": "stream",
          "name": "stdout",
          "text": [
            "Single model berhasil di-load kembali.\n"
          ]
        }
      ]
    },
    {
      "cell_type": "markdown",
      "source": [
        "FINAL EVALUATION & INSIGHTS"
      ],
      "metadata": {
        "id": "ZMn7D6prjhKu"
      }
    },
    {
      "cell_type": "code",
      "source": [
        "print(\"FINAL PERFORMANCE SUMMARY\")\n",
        "\n",
        "print(f\"Journey:\")\n",
        "print(f\"   Original Baseline:    78.62%\")\n",
        "print(f\"   First Tuning:         79.95% (+1.33%)\")\n",
        "print(f\"   Advanced Tuning:      {final_best_acc*100:.2f}% (+{(final_best_acc - 0.7862)*100:.2f}%)\")\n",
        "print(f\"   Total Improvement:    {(final_best_acc - 0.7862)*100:.2f}%\")\n",
        "\n",
        "print(f\"FINAL BEST MODEL: {final_best_name}\")\n",
        "print(f\"   Test Accuracy: {final_best_acc:.4f} ({final_best_acc*100:.2f}%)\")\n",
        "print(f\"   Test F1 Score: {final_best_f1:.4f}\")"
      ],
      "metadata": {
        "id": "aXkz2wxMG2_X",
        "colab": {
          "base_uri": "https://localhost:8080/"
        },
        "outputId": "959ac262-0a59-4500-f61e-fe7225943c75"
      },
      "execution_count": null,
      "outputs": [
        {
          "output_type": "stream",
          "name": "stdout",
          "text": [
            "FINAL PERFORMANCE SUMMARY\n",
            "Journey:\n",
            "   Original Baseline:    78.62%\n",
            "   First Tuning:         79.95% (+1.33%)\n",
            "   Advanced Tuning:      89.57% (+10.95%)\n",
            "   Total Improvement:    10.95%\n",
            "FINAL BEST MODEL: Very Deep\n",
            "   Test Accuracy: 0.8957 (89.57%)\n",
            "   Test F1 Score: 0.7868\n"
          ]
        }
      ]
    },
    {
      "cell_type": "code",
      "source": [
        "# Memory check\n",
        "import psutil\n",
        "ram_available = psutil.virtual_memory().available / 1024**2\n",
        "print(f\"\\n💾 Available RAM: {ram_available:.2f} MB ({ram_available/1024:.2f} GB)\")\n",
        "\n",
        "print(\"ADVANCED TUNING COMPLETE!\")"
      ],
      "metadata": {
        "id": "OpI79bR_j8Yh",
        "colab": {
          "base_uri": "https://localhost:8080/"
        },
        "outputId": "a9d3a9b8-e792-4c63-c340-a1f966c23513"
      },
      "execution_count": null,
      "outputs": [
        {
          "output_type": "stream",
          "name": "stdout",
          "text": [
            "\n",
            "💾 Available RAM: 7518.57 MB (7.34 GB)\n",
            "ADVANCED TUNING COMPLETE!\n"
          ]
        }
      ]
    },
    {
      "cell_type": "code",
      "source": [
        "# Detailed classification report\n",
        "# Ensure we are using predictions from the best_model_advanced\n",
        "# The best_model_advanced was determined in cell 8tzHwIRejLB1 and loaded in dy47USxXDTks\n",
        "\n",
        "# Make predictions using the loaded best model\n",
        "y_final_pred = best_model_advanced.predict(X_test)\n",
        "\n",
        "# If the model output is encoded, inverse transform it\n",
        "# Check if the model output is encoded (e.g., numpy array of integers)\n",
        "# and if le is available.\n",
        "if isinstance(y_final_pred[0], (int, np.integer)) and 'le' in locals():\n",
        "    y_final_pred = le.inverse_transform(y_final_pred)\n",
        "else:\n",
        "     # If not encoded, ensure it's the same type as y_test for consistency\n",
        "     y_final_pred = np.array(y_final_pred)\n",
        "\n",
        "\n",
        "print(\"Detailed Classification Report (Test Set) from Best Model:\") # Updated title\n",
        "\n",
        "print(classification_report(y_test, y_final_pred, zero_division=0))\n",
        "\n",
        "# Also print the accuracy again to confirm\n",
        "final_report_accuracy = accuracy_score(y_test, y_final_pred)\n",
        "print(f\"\\nConfirmed Test Accuracy from Report: {final_report_accuracy:.4f} ({final_report_accuracy*100:.2f}%)\")"
      ],
      "metadata": {
        "id": "i4Q32-Y4j-x7",
        "colab": {
          "base_uri": "https://localhost:8080/"
        },
        "outputId": "d6bc7620-104c-4c84-b1cd-793242399408"
      },
      "execution_count": null,
      "outputs": [
        {
          "output_type": "stream",
          "name": "stdout",
          "text": [
            "Detailed Classification Report (Test Set) from Best Model:\n",
            "              precision    recall  f1-score   support\n",
            "\n",
            "      Benign       0.56      0.76      0.64      5098\n",
            " Brute Force       0.65      0.47      0.55      1959\n",
            "        DDoS       0.97      0.98      0.98     44513\n",
            "         DoS       0.96      0.91      0.93     17122\n",
            "       Mirai       1.00      1.00      1.00      9103\n",
            "       Recon       0.81      0.85      0.83     20564\n",
            "    Spoofing       0.91      0.79      0.85      9569\n",
            "   Web-Based       0.63      0.45      0.53      3710\n",
            "\n",
            "    accuracy                           0.90    111638\n",
            "   macro avg       0.81      0.78      0.79    111638\n",
            "weighted avg       0.90      0.90      0.90    111638\n",
            "\n",
            "\n",
            "Confirmed Test Accuracy from Report: 0.8957 (89.57%)\n"
          ]
        }
      ]
    },
    {
      "cell_type": "markdown",
      "source": [
        "## Analisis Error ##"
      ],
      "metadata": {
        "id": "dVfcmaJxJ6Gi"
      }
    },
    {
      "cell_type": "code",
      "source": [
        "# Confusion matrix\n",
        "# Use y_test and y_final_pred from the previous cell\n",
        "cm = confusion_matrix(y_test, y_final_pred)\n",
        "class_labels = sorted(set(y_test))\n",
        "\n",
        "\n",
        "print(\"\\nConfusion Matrix:\")\n",
        "# Use y_test and y_final_pred and class_labels\n",
        "conf_matrix = confusion_matrix(y_test, y_final_pred)\n",
        "plt.figure(figsize=(10, 8))\n",
        "sns.heatmap(conf_matrix, annot=True, fmt='d', cmap='Blues', xticklabels=class_labels, yticklabels=class_labels)\n",
        "plt.xlabel('Prediksi')\n",
        "plt.ylabel('Aktual')\n",
        "plt.title('Confusion Matrix')\n",
        "plt.show()"
      ],
      "metadata": {
        "id": "CzhiduRbKZcS",
        "colab": {
          "base_uri": "https://localhost:8080/",
          "height": 753
        },
        "outputId": "28f2fc71-3b01-4dc9-eebe-548186b5f3db"
      },
      "execution_count": null,
      "outputs": [
        {
          "output_type": "stream",
          "name": "stdout",
          "text": [
            "\n",
            "Confusion Matrix:\n"
          ]
        },
        {
          "output_type": "display_data",
          "data": {
            "text/plain": [
              "<Figure size 1000x800 with 2 Axes>"
            ],
            "image/png": "[encoded data removed]"
          },
          "metadata": {}
        }
      ]
    },
    {
      "cell_type": "code",
      "source": [
        "# Per-class accuracy\n",
        "class_accuracy = cm.diagonal() / cm.sum(axis=1)\n",
        "class_support = cm.sum(axis=1)\n",
        "\n",
        "df_class_perf = pd.DataFrame({\n",
        "    'Class': class_labels,\n",
        "    'Accuracy': class_accuracy,\n",
        "    'Support': class_support,\n",
        "    'Errors': class_support - cm.diagonal()\n",
        "}).sort_values('Accuracy')\n",
        "\n",
        "print(\"\\n📉 WORST 10 Classes:\")\n",
        "print(df_class_perf.head(10).to_string(index=False))\n",
        "\n",
        "print(\"\\n📈 BEST 10 Classes:\")\n",
        "print(df_class_perf.tail(10).to_string(index=False))"
      ],
      "metadata": {
        "colab": {
          "base_uri": "https://localhost:8080/"
        },
        "id": "mYxBNqSEKb8K",
        "outputId": "6c726ceb-badc-4882-b587-3333134f4df2"
      },
      "execution_count": null,
      "outputs": [
        {
          "output_type": "stream",
          "name": "stdout",
          "text": [
            "\n",
            "📉 WORST 10 Classes:\n",
            "      Class  Accuracy  Support  Errors\n",
            "  Web-Based  0.450674     3710    2038\n",
            "Brute Force  0.469627     1959    1039\n",
            "     Benign  0.757748     5098    1235\n",
            "   Spoofing  0.791410     9569    1996\n",
            "      Recon  0.849008    20564    3105\n",
            "        DoS  0.910524    17122    1532\n",
            "       DDoS  0.984768    44513     678\n",
            "      Mirai  0.997803     9103      20\n",
            "\n",
            "📈 BEST 10 Classes:\n",
            "      Class  Accuracy  Support  Errors\n",
            "  Web-Based  0.450674     3710    2038\n",
            "Brute Force  0.469627     1959    1039\n",
            "     Benign  0.757748     5098    1235\n",
            "   Spoofing  0.791410     9569    1996\n",
            "      Recon  0.849008    20564    3105\n",
            "        DoS  0.910524    17122    1532\n",
            "       DDoS  0.984768    44513     678\n",
            "      Mirai  0.997803     9103      20\n"
          ]
        }
      ]
    },
    {
      "cell_type": "code",
      "source": [
        "# Most confused pairs\n",
        "print(\"Most Confused Class Pairs:\")\n",
        "confusion_pairs = []\n",
        "\n",
        "for i in range(len(class_labels)):\n",
        "    for j in range(i+1, len(class_labels)):\n",
        "        total_conf = cm[i, j] + cm[j, i]\n",
        "        if total_conf > 50:  # Significant confusion\n",
        "            confusion_pairs.append({\n",
        "                'Class_A': class_labels[i],\n",
        "                'Class_B': class_labels[j],\n",
        "                'Confusion': total_conf\n",
        "            })\n",
        "\n",
        "df_confusion = pd.DataFrame(confusion_pairs).sort_values('Confusion', ascending=False)\n",
        "print(df_confusion.head(10).to_string(index=False))\n",
        "\n",
        "print(\"\\n📊 Classification Report:\")\n",
        "print(classification_report(y_test, y_test_pred, zero_division=0))"
      ],
      "metadata": {
        "colab": {
          "base_uri": "https://localhost:8080/"
        },
        "id": "NvzzIYAZF8Bp",
        "outputId": "354a8484-2548-474d-d3bc-23d926ca82f7"
      },
      "execution_count": null,
      "outputs": [
        {
          "output_type": "stream",
          "name": "stdout",
          "text": [
            "Most Confused Class Pairs:\n",
            "    Class_A     Class_B  Confusion\n",
            "     Benign       Recon       2671\n",
            "      Recon   Web-Based       2261\n",
            "       DDoS         DoS       2199\n",
            "      Recon    Spoofing       1277\n",
            "     Benign    Spoofing       1127\n",
            "Brute Force       Recon        979\n",
            "     Benign   Web-Based        273\n",
            "   Spoofing   Web-Based        269\n",
            "     Benign Brute Force        259\n",
            "Brute Force   Web-Based        217\n",
            "\n",
            "📊 Classification Report:\n",
            "              precision    recall  f1-score   support\n",
            "\n",
            "      Benign       0.56      0.76      0.64      5098\n",
            " Brute Force       0.65      0.47      0.55      1959\n",
            "        DDoS       0.97      0.98      0.98     44513\n",
            "         DoS       0.96      0.91      0.93     17122\n",
            "       Mirai       1.00      1.00      1.00      9103\n",
            "       Recon       0.81      0.85      0.83     20564\n",
            "    Spoofing       0.91      0.79      0.85      9569\n",
            "   Web-Based       0.63      0.45      0.53      3710\n",
            "\n",
            "    accuracy                           0.90    111638\n",
            "   macro avg       0.81      0.78      0.79    111638\n",
            "weighted avg       0.90      0.90      0.90    111638\n",
            "\n"
          ]
        }
      ]
    },
    {
      "cell_type": "code",
      "source": [
        "# Cek Ram Tersedia\n",
        "ram_available = psutil.virtual_memory().available / 1024**2\n",
        "print(f\"\\n💾 Available RAM: {ram_available:.2f} MB ({ram_available/1024:.2f} GB)\")"
      ],
      "metadata": {
        "colab": {
          "base_uri": "https://localhost:8080/"
        },
        "id": "zJbfARXWll-A",
        "outputId": "747d0b2c-8cee-4876-a0b9-3e4f0dc8d083"
      },
      "execution_count": null,
      "outputs": [
        {
          "output_type": "stream",
          "name": "stdout",
          "text": [
            "\n",
            "💾 Available RAM: 7529.04 MB (7.35 GB)\n"
          ]
        }
      ]
    }
  ]
}