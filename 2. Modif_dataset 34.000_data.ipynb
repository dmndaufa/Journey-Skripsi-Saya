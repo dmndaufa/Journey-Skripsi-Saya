{
  "nbformat": 4,
  "nbformat_minor": 0,
  "metadata": {
    "colab": {
      "provenance": []
    },
    "kernelspec": {
      "name": "python3",
      "display_name": "Python 3"
    },
    "language_info": {
      "name": "python"
    }
  },
  "cells": [
    {
      "cell_type": "code",
      "execution_count": null,
      "metadata": {
        "id": "elwedQ0ERzpZ"
      },
      "outputs": [],
      "source": [
        "import pandas as pd\n",
        "import glob, os"
      ]
    },
    {
      "cell_type": "code",
      "source": [
        "#Menyambungkan ke Google Drive\n",
        "from google.colab import drive\n",
        "drive.mount('/content/drive')"
      ],
      "metadata": {
        "colab": {
          "base_uri": "https://localhost:8080/"
        },
        "id": "goQzh1Y5SG3r",
        "outputId": "9189a43c-f8c2-49b0-c16a-b2577919a7c7"
      },
      "execution_count": null,
      "outputs": [
        {
          "output_type": "stream",
          "name": "stdout",
          "text": [
            "Drive already mounted at /content/drive; to attempt to forcibly remount, call drive.mount(\"/content/drive\", force_remount=True).\n"
          ]
        }
      ]
    },
    {
      "cell_type": "code",
      "source": [
        "#Path ke folder dataset di Google Drive\n",
        "path = \"/content/drive/MyDrive/Dataset/Satu Satu/\""
      ],
      "metadata": {
        "id": "90HjHvaWSvrD"
      },
      "execution_count": null,
      "outputs": []
    },
    {
      "cell_type": "code",
      "source": [
        "#Cari semua file CSV di subfolder\n",
        "all_files = glob.glob(path + \"**/*.csv\", recursive=True)"
      ],
      "metadata": {
        "id": "Aw1SsQapTIoi"
      },
      "execution_count": null,
      "outputs": []
    },
    {
      "cell_type": "code",
      "source": [
        "dfs = []\n",
        "expected_cols = None   # acuan kolom pertama"
      ],
      "metadata": {
        "id": "MyWwbM_kTRjj"
      },
      "execution_count": null,
      "outputs": []
    },
    {
      "cell_type": "code",
      "source": [
        "#Loop setiap file\n",
        "for f in all_files:\n",
        "    try:\n",
        "        temp = pd.read_csv(f)\n",
        "        n_rows = len(temp)\n",
        "        n_cols = len(temp.columns)\n",
        "\n",
        "        if expected_cols is None:\n",
        "            expected_cols = temp.columns.tolist()\n",
        "            print(f\" Struktur kolom acuan dari {os.path.basename(f)}: {n_cols} kolom\")\n",
        "\n",
        "        if temp.columns.tolist() != expected_cols:\n",
        "            print(f\" WARNING: Struktur kolom berbeda di file {os.path.basename(f)} \"\n",
        "                  f\"({n_cols} kolom, seharusnya {len(expected_cols)})\")\n",
        "\n",
        "        if n_rows >= 35000:\n",
        "            temp = temp.sample(n=34000, random_state=42)\n",
        "            print(f\" File besar: {os.path.basename(f)} | {n_rows} → 34.000 baris\")\n",
        "        else:\n",
        "            print(f\" File kecil: {os.path.basename(f)} | {n_rows} baris (tidak diubah)\")\n",
        "\n",
        "        folder = os.path.basename(os.path.dirname(f))\n",
        "        sublabel = os.path.basename(f).replace(\".csv\", \"\")\n",
        "\n",
        "        temp[\"category\"] = folder\n",
        "        temp[\"label\"] = sublabel\n",
        "\n",
        "        dfs.append(temp)\n",
        "\n",
        "    except Exception as e:\n",
        "        print(f\"⚠ Error membaca file {f}: {e}\")"
      ],
      "metadata": {
        "colab": {
          "base_uri": "https://localhost:8080/"
        },
        "id": "JBRcd3j1TYTT",
        "outputId": "f97ab094-6a16-4dc9-c801-61d9c603c784"
      },
      "execution_count": null,
      "outputs": [
        {
          "output_type": "stream",
          "name": "stdout",
          "text": [
            " Struktur kolom acuan dari Mirai_Greip_Flood.csv: 39 kolom\n",
            " File kecil: Mirai_Greip_Flood.csv | 11991 baris (tidak diubah)\n",
            " File kecil: Mirai_UDPPlain.csv | 15090 baris (tidak diubah)\n",
            " File kecil: Mirai_Greeth_Flood.csv | 34071 baris (tidak diubah)\n",
            " File besar: DNS_Spoofing.csv | 178898 → 34.000 baris\n",
            " File besar: MITM_Arp_Spoofing.csv | 59854 → 34.000 baris\n",
            " File kecil: DoS_HTTP_Flood.csv | 31175 baris (tidak diubah)\n",
            " File besar: DoS_TCP_Flood.csv | 83023 → 34.000 baris\n",
            " File besar: DoS_SYN_Flood.csv | 205930 → 34.000 baris\n",
            " File besar: DoS_UDP_Flood.csv | 102879 → 34.000 baris\n",
            " File kecil: DDoS_SlowLoris.csv | 23426 baris (tidak diubah)\n",
            " File kecil: DDoS_HTTP_Flood.csv | 28790 baris (tidak diubah)\n",
            " File kecil: DDoS_UDP_Fragmentation.csv | 23117 baris (tidak diubah)\n",
            " File kecil: DDoS_ACK_Fragmentation.csv | 21977 baris (tidak diubah)\n",
            " File kecil: DDoS_ICMP_Fragmentation.csv | 19866 baris (tidak diubah)\n",
            " File besar: DDoS_RSTFIN_Flood.csv | 62551 → 34.000 baris\n",
            " File besar: DDoS_SynonymousIP_Flood.csv | 127048 → 34.000 baris\n",
            " File besar: DDoS_TCP_Flood.csv | 92792 → 34.000 baris\n",
            " File besar: DDoS_SYN_Flood.csv | 137254 → 34.000 baris\n",
            " File besar: DDoS_UDP_Flood.csv | 79331 → 34.000 baris\n",
            " File besar: DDoS_ICMP_Flood.csv | 261484 → 34.000 baris\n",
            " File besar: DDoS_PSHACK_Flood.csv | 78907 → 34.000 baris\n",
            " File kecil: Dictionary_Brute_Force.csv | 13064 baris (tidak diubah)\n",
            " File besar: Benign_Traffic.csv | 129832 → 34.000 baris\n",
            " File kecil: Recon_Ping_Sweep.csv | 2262 baris (tidak diubah)\n",
            " File besar: Recon_Port_Scan.csv | 82284 → 34.000 baris\n",
            " File besar: Recon_OSScan.csv | 98259 → 34.000 baris\n",
            " File besar: Recon_Host_Discovery.csv | 134378 → 34.000 baris\n",
            " File besar: Recon_Vulnerability_Scan.csv | 373351 → 34.000 baris\n",
            " File kecil: Uploading_Attack.csv | 1252 baris (tidak diubah)\n",
            " File kecil: Backdoor_Malware.csv | 3218 baris (tidak diubah)\n",
            " File kecil: XSS.csv | 3846 baris (tidak diubah)\n",
            " File kecil: SQL_Injection.csv | 5245 baris (tidak diubah)\n",
            " File kecil: Command_Injection.csv | 5409 baris (tidak diubah)\n",
            " File kecil: Browser_Hijacking.csv | 5859 baris (tidak diubah)\n"
          ]
        }
      ]
    },
    {
      "cell_type": "code",
      "source": [
        "#Gabungkan semua file csv\n",
        "df = pd.concat(dfs, ignore_index=True)\n",
        "\n",
        "print(\"\\n=== SUMMARY DATASET ===\")\n",
        "print(\"Total baris:\", len(df))\n",
        "print(\"Jumlah kolom:\", len(df.columns))   # harusnya 41 (39 fitur + 2 label)\n",
        "print(\"Daftar kolom:\", df.columns.tolist())\n",
        "print(\"\\nDistribusi kategori:\\n\", df['category'].value_counts())"
      ],
      "metadata": {
        "colab": {
          "base_uri": "https://localhost:8080/"
        },
        "id": "iKlZ-5K_Tzda",
        "outputId": "11bde52e-34a9-4869-ef39-62fbaede2da0"
      },
      "execution_count": null,
      "outputs": [
        {
          "output_type": "stream",
          "name": "stdout",
          "text": [
            "\n",
            "=== SUMMARY DATASET ===\n",
            "Total baris: 827658\n",
            "Jumlah kolom: 41\n",
            "Daftar kolom: ['Header_Length', 'Protocol Type', 'Time_To_Live', 'Rate', 'fin_flag_number', 'syn_flag_number', 'rst_flag_number', 'psh_flag_number', 'ack_flag_number', 'ece_flag_number', 'cwr_flag_number', 'ack_count', 'syn_count', 'fin_count', 'rst_count', 'HTTP', 'HTTPS', 'DNS', 'Telnet', 'SMTP', 'SSH', 'IRC', 'TCP', 'UDP', 'DHCP', 'ARP', 'ICMP', 'IGMP', 'IPv', 'LLC', 'Tot sum', 'Min', 'Max', 'AVG', 'Std', 'Tot size', 'IAT', 'Number', 'Variance', 'category', 'label']\n",
            "\n",
            "Distribusi kategori:\n",
            " category\n",
            "DDoS           355176\n",
            "Recon          138262\n",
            "DoS            133175\n",
            "Spoofing        68000\n",
            "Mirai           61152\n",
            "Benign          34000\n",
            "Web Based       24829\n",
            "Brute Force     13064\n",
            "Name: count, dtype: int64\n"
          ]
        }
      ]
    },
    {
      "cell_type": "code",
      "source": [
        "#Simpan hasil file gabungan\n",
        "output_path = \"/content/drive/MyDrive/Dataset/merged_dataset_saya_setelah_rename.csv\"\n",
        "df.to_csv(output_path, index=False)\n",
        "\n",
        "print(f\"\\n✅ Dataset merged disimpan di: {output_path}\")"
      ],
      "metadata": {
        "colab": {
          "base_uri": "https://localhost:8080/"
        },
        "id": "DR1QbC4TUayC",
        "outputId": "16b65b3c-5f60-491f-e96f-99b80a52e5d8"
      },
      "execution_count": null,
      "outputs": [
        {
          "output_type": "stream",
          "name": "stdout",
          "text": [
            "\n",
            "✅ Dataset merged disimpan di: /content/drive/MyDrive/Dataset/merged_dataset_saya_setelah_rename.csv\n"
          ]
        }
      ]
    }
  ]
}